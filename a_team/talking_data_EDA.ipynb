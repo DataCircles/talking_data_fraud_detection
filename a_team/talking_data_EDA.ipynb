{
  "nbformat": 4,
  "nbformat_minor": 0,
  "metadata": {
    "colab": {
      "name": "talking data EDA",
      "version": "0.3.2",
      "provenance": [],
      "collapsed_sections": []
    },
    "kernelspec": {
      "name": "python3",
      "display_name": "Python 3"
    },
    "accelerator": "GPU"
  },
  "cells": [
    {
      "cell_type": "markdown",
      "metadata": {
        "id": "R760GCXj0QsP",
        "colab_type": "text"
      },
      "source": [
        "# Kaggle talking data challenge\n",
        "\n",
        "### Prepare Everything for downloading the data\n",
        "\n",
        "I use a project called **dat** that allows you to do peer to peer downloads of file from the command line to share my credentials for the Kaggle API"
      ]
    },
    {
      "cell_type": "code",
      "metadata": {
        "id": "8dL8y-RDew9n",
        "colab_type": "code",
        "outputId": "85175f38-cc19-486f-f0c3-7ce3c32b6cba",
        "colab": {
          "base_uri": "https://localhost:8080/",
          "height": 352
        }
      },
      "source": [
        "!npm install -g dat"
      ],
      "execution_count": 0,
      "outputs": [
        {
          "output_type": "stream",
          "text": [
            "\u001b[K\u001b[?25h/tools/node/bin/dat -> /tools/node/lib/node_modules/dat/bin/cli.js\n",
            "\u001b[K\u001b[?25h\n",
            "> fd-lock@1.0.2 install /tools/node/lib/node_modules/dat/node_modules/fd-lock\n",
            "> node-gyp-build\n",
            "\n",
            "\n",
            "> sodium-native@2.4.2 install /tools/node/lib/node_modules/dat/node_modules/sodium-native\n",
            "> node-gyp-build \"node preinstall.js\" \"node postinstall.js\"\n",
            "\n",
            "\n",
            "> utp-native@1.7.3 install /tools/node/lib/node_modules/dat/node_modules/discovery-swarm/node_modules/utp-native\n",
            "> node-gyp-build\n",
            "\n",
            "\n",
            "> utp-native@2.1.3 install /tools/node/lib/node_modules/dat/node_modules/utp-native\n",
            "> node-gyp-build\n",
            "\n",
            "\u001b[K\u001b[?25h+ dat@13.13.1\n",
            "added 476 packages from 254 contributors in 17.713s\n"
          ],
          "name": "stdout"
        }
      ]
    },
    {
      "cell_type": "code",
      "metadata": {
        "id": "6HhNEkZ0fDKC",
        "colab_type": "code",
        "outputId": "488fceb0-006d-4d95-eb19-a18b4f796940",
        "colab": {
          "base_uri": "https://localhost:8080/",
          "height": 70
        }
      },
      "source": [
        "# Update dat\n",
        "!npm i -g dat"
      ],
      "execution_count": 0,
      "outputs": [
        {
          "output_type": "stream",
          "text": [
            "\u001b[K\u001b[?25h/tools/node/bin/dat -> /tools/node/lib/node_modules/dat/bin/cli.js\n",
            "+ dat@13.13.1\n",
            "updated 1 package in 11.26s\n"
          ],
          "name": "stdout"
        }
      ]
    },
    {
      "cell_type": "code",
      "metadata": {
        "id": "E19nADe1j9C1",
        "colab_type": "code",
        "outputId": "6dec8fbf-56c0-4f64-ea1f-406bd7de014f",
        "colab": {
          "base_uri": "https://localhost:8080/",
          "height": 246
        }
      },
      "source": [
        "# Connect to the local file containing my credentials\n",
        "!dat clone dat://369100612990cfce60b3ad9811ab7427c02394392ffb6d6540e35751aa0be9b9"
      ],
      "execution_count": 0,
      "outputs": [
        {
          "output_type": "stream",
          "text": [
            "\u001b[?25lConnecting to dat network...\u001b[28D\u001b[32mdat v13.13.1\u001b[39m\u001b[0K\n",
            "Created new dat in /content/369100612990cfce60b3ad9811ab7427c02394392ffb6d6540e35751aa0be9b9/.dat\n",
            "Cloning: 1 files (64 B)\n",
            "\n",
            "1 connection | Download 49 B/s Upload 0 B/s\n",
            "\n",
            "\n",
            "\n",
            "\n",
            "\u001b[2mCtrl+C to Exit\u001b[22m\u001b[10C\u001b[5A81\u001b[26D\u001b[2Bdat sync complete.\n",
            "Version 1\n",
            "\u001b[1B\u001b[0K\n",
            "Exiting the Dat program...\u001b[?25h"
          ],
          "name": "stdout"
        }
      ]
    },
    {
      "cell_type": "code",
      "metadata": {
        "id": "GPUjG3gFkHC8",
        "colab_type": "code",
        "outputId": "1a98f8a8-69e1-415b-bd2d-56853ac08b33",
        "colab": {
          "base_uri": "https://localhost:8080/",
          "height": 35
        }
      },
      "source": [
        "# check the newly created folder\n",
        "!ls"
      ],
      "execution_count": 0,
      "outputs": [
        {
          "output_type": "stream",
          "text": [
            "369100612990cfce60b3ad9811ab7427c02394392ffb6d6540e35751aa0be9b9  sample_data\n"
          ],
          "name": "stdout"
        }
      ]
    },
    {
      "cell_type": "code",
      "metadata": {
        "id": "lieq58gZqPSk",
        "colab_type": "code",
        "colab": {}
      },
      "source": [
        "# Create the appropriate directory and move the json file to the recently created folder\n",
        "!mkdir ~/.kaggle\n",
        "!mv 369100612990cfce60b3ad9811ab7427c02394392ffb6d6540e35751aa0be9b9/kaggle.json ~/.kaggle/kaggle.json\n",
        "!chmod 600 ~/.kaggle/kaggle.json\n",
        "!rm -r 369100612990cfce60b3ad9811ab7427c02394392ffb6d6540e35751aa0be9b9/"
      ],
      "execution_count": 0,
      "outputs": []
    },
    {
      "cell_type": "code",
      "metadata": {
        "id": "U7RK5Sy7q3mF",
        "colab_type": "code",
        "outputId": "9d2ae470-55a2-4ba1-ee2d-e0fad6206760",
        "colab": {
          "base_uri": "https://localhost:8080/",
          "height": 281
        }
      },
      "source": [
        "# Download the kaggle competition data\n",
        "!kaggle competitions download -c talkingdata-adtracking-fraud-detection"
      ],
      "execution_count": 0,
      "outputs": [
        {
          "output_type": "stream",
          "text": [
            "Downloading train.csv.zip to /content\n",
            "100% 1.21G/1.21G [00:12<00:00, 90.6MB/s]\n",
            "100% 1.21G/1.21G [00:12<00:00, 103MB/s] \n",
            "Downloading train_sample.csv.zip to /content\n",
            "  0% 0.00/1.08M [00:00<?, ?B/s]\n",
            "100% 1.08M/1.08M [00:00<00:00, 74.2MB/s]\n",
            "Downloading test.csv.zip to /content\n",
            " 95% 156M/165M [00:03<00:00, 43.9MB/s]\n",
            "100% 165M/165M [00:03<00:00, 54.5MB/s]\n",
            "Downloading sample_submission.csv.zip to /content\n",
            " 63% 25.0M/39.8M [00:00<00:00, 86.0MB/s]\n",
            "100% 39.8M/39.8M [00:00<00:00, 114MB/s] \n",
            "Downloading test_supplement.csv.zip to /content\n",
            " 97% 489M/504M [00:11<00:00, 103MB/s]\n",
            "100% 504M/504M [00:11<00:00, 46.7MB/s]\n"
          ],
          "name": "stdout"
        }
      ]
    },
    {
      "cell_type": "code",
      "metadata": {
        "id": "oi1qB5PsyEDP",
        "colab_type": "code",
        "outputId": "d293c45d-f7e9-4838-9b31-e7a0415f4447",
        "colab": {
          "base_uri": "https://localhost:8080/",
          "height": 70
        }
      },
      "source": [
        "# Inflate compressed training sample!!\n",
        "!unzip train_sample.csv.zip"
      ],
      "execution_count": 0,
      "outputs": [
        {
          "output_type": "stream",
          "text": [
            "Archive:  train_sample.csv.zip\n",
            "replace mnt/ssd/kaggle-talkingdata2/competition_files/train_sample.csv? [y]es, [n]o, [A]ll, [N]one, [r]ename: A\n",
            "  inflating: mnt/ssd/kaggle-talkingdata2/competition_files/train_sample.csv  \n"
          ],
          "name": "stdout"
        }
      ]
    },
    {
      "cell_type": "markdown",
      "metadata": {
        "id": "bG6lZaQl34eq",
        "colab_type": "text"
      },
      "source": [
        "## Start EDA with sample data\n",
        "\n"
      ]
    },
    {
      "cell_type": "code",
      "metadata": {
        "id": "dHpda4Jj0MEn",
        "colab_type": "code",
        "colab": {}
      },
      "source": [
        "import pandas as pd\n",
        "sample = pd.read_csv('mnt/ssd/kaggle-talkingdata2/competition_files/train_sample.csv',\n",
        "                     parse_dates=['click_time', 'attributed_time'])"
      ],
      "execution_count": 0,
      "outputs": []
    },
    {
      "cell_type": "code",
      "metadata": {
        "id": "IuL2YeYlMP3r",
        "colab_type": "code",
        "outputId": "8f854627-829d-458f-b2fb-006aa67277f8",
        "colab": {
          "base_uri": "https://localhost:8080/",
          "height": 201
        }
      },
      "source": [
        "sample.head()"
      ],
      "execution_count": 0,
      "outputs": [
        {
          "output_type": "execute_result",
          "data": {
            "text/html": [
              "<div>\n",
              "<style scoped>\n",
              "    .dataframe tbody tr th:only-of-type {\n",
              "        vertical-align: middle;\n",
              "    }\n",
              "\n",
              "    .dataframe tbody tr th {\n",
              "        vertical-align: top;\n",
              "    }\n",
              "\n",
              "    .dataframe thead th {\n",
              "        text-align: right;\n",
              "    }\n",
              "</style>\n",
              "<table border=\"1\" class=\"dataframe\">\n",
              "  <thead>\n",
              "    <tr style=\"text-align: right;\">\n",
              "      <th></th>\n",
              "      <th>ip</th>\n",
              "      <th>app</th>\n",
              "      <th>device</th>\n",
              "      <th>os</th>\n",
              "      <th>channel</th>\n",
              "      <th>click_time</th>\n",
              "      <th>attributed_time</th>\n",
              "      <th>is_attributed</th>\n",
              "    </tr>\n",
              "  </thead>\n",
              "  <tbody>\n",
              "    <tr>\n",
              "      <th>0</th>\n",
              "      <td>87540</td>\n",
              "      <td>12</td>\n",
              "      <td>1</td>\n",
              "      <td>13</td>\n",
              "      <td>497</td>\n",
              "      <td>2017-11-07 09:30:38</td>\n",
              "      <td>NaT</td>\n",
              "      <td>0</td>\n",
              "    </tr>\n",
              "    <tr>\n",
              "      <th>1</th>\n",
              "      <td>105560</td>\n",
              "      <td>25</td>\n",
              "      <td>1</td>\n",
              "      <td>17</td>\n",
              "      <td>259</td>\n",
              "      <td>2017-11-07 13:40:27</td>\n",
              "      <td>NaT</td>\n",
              "      <td>0</td>\n",
              "    </tr>\n",
              "    <tr>\n",
              "      <th>2</th>\n",
              "      <td>101424</td>\n",
              "      <td>12</td>\n",
              "      <td>1</td>\n",
              "      <td>19</td>\n",
              "      <td>212</td>\n",
              "      <td>2017-11-07 18:05:24</td>\n",
              "      <td>NaT</td>\n",
              "      <td>0</td>\n",
              "    </tr>\n",
              "    <tr>\n",
              "      <th>3</th>\n",
              "      <td>94584</td>\n",
              "      <td>13</td>\n",
              "      <td>1</td>\n",
              "      <td>13</td>\n",
              "      <td>477</td>\n",
              "      <td>2017-11-07 04:58:08</td>\n",
              "      <td>NaT</td>\n",
              "      <td>0</td>\n",
              "    </tr>\n",
              "    <tr>\n",
              "      <th>4</th>\n",
              "      <td>68413</td>\n",
              "      <td>12</td>\n",
              "      <td>1</td>\n",
              "      <td>1</td>\n",
              "      <td>178</td>\n",
              "      <td>2017-11-09 09:00:09</td>\n",
              "      <td>NaT</td>\n",
              "      <td>0</td>\n",
              "    </tr>\n",
              "  </tbody>\n",
              "</table>\n",
              "</div>"
            ],
            "text/plain": [
              "       ip app device  ...          click_time attributed_time is_attributed\n",
              "0   87540  12      1  ... 2017-11-07 09:30:38             NaT             0\n",
              "1  105560  25      1  ... 2017-11-07 13:40:27             NaT             0\n",
              "2  101424  12      1  ... 2017-11-07 18:05:24             NaT             0\n",
              "3   94584  13      1  ... 2017-11-07 04:58:08             NaT             0\n",
              "4   68413  12      1  ... 2017-11-09 09:00:09             NaT             0\n",
              "\n",
              "[5 rows x 8 columns]"
            ]
          },
          "metadata": {
            "tags": []
          },
          "execution_count": 80
        }
      ]
    },
    {
      "cell_type": "code",
      "metadata": {
        "id": "5TLX9rYPMSNj",
        "colab_type": "code",
        "outputId": "a55805f0-fce2-4f45-8f29-35a1cd102b44",
        "colab": {
          "base_uri": "https://localhost:8080/",
          "height": 175
        }
      },
      "source": [
        "sample.dtypes"
      ],
      "execution_count": 0,
      "outputs": [
        {
          "output_type": "execute_result",
          "data": {
            "text/plain": [
              "ip                       category\n",
              "app                      category\n",
              "device                   category\n",
              "os                       category\n",
              "channel                  category\n",
              "click_time         datetime64[ns]\n",
              "attributed_time    datetime64[ns]\n",
              "is_attributed               int64\n",
              "dtype: object"
            ]
          },
          "metadata": {
            "tags": []
          },
          "execution_count": 15
        }
      ]
    },
    {
      "cell_type": "markdown",
      "metadata": {
        "id": "tLcaNF7rUz2y",
        "colab_type": "text"
      },
      "source": [
        "The first thing we can observe is that some of the features are encoded as numerical, however they are actually categorical variables such as ip, app, device, os and channel. So what we are going to do is to convert them to categorical variables so we can properly do the exploratory analysis on them."
      ]
    },
    {
      "cell_type": "code",
      "metadata": {
        "id": "UyvHHjg_NFas",
        "colab_type": "code",
        "colab": {}
      },
      "source": [
        "#Convert ip, app, device, os, channel to categorical variables and extract day of week and hour as a feature\n",
        "\n",
        "cat_data = ['ip', 'app', 'device', 'os', 'channel']\n",
        "\n",
        "for column in cat_data:\n",
        "  sample[column] = sample[column].astype(\"category\")\n",
        "\n"
      ],
      "execution_count": 0,
      "outputs": []
    },
    {
      "cell_type": "code",
      "metadata": {
        "id": "H7NWQy4pjJFQ",
        "colab_type": "code",
        "outputId": "e81cf0c6-79b4-49c7-dc2d-395e5b83a20d",
        "colab": {
          "base_uri": "https://localhost:8080/",
          "height": 175
        }
      },
      "source": [
        "sample.dtypes"
      ],
      "execution_count": 0,
      "outputs": [
        {
          "output_type": "execute_result",
          "data": {
            "text/plain": [
              "ip                       category\n",
              "app                      category\n",
              "device                   category\n",
              "os                       category\n",
              "channel                  category\n",
              "click_time         datetime64[ns]\n",
              "attributed_time    datetime64[ns]\n",
              "is_attributed               int64\n",
              "dtype: object"
            ]
          },
          "metadata": {
            "tags": []
          },
          "execution_count": 14
        }
      ]
    },
    {
      "cell_type": "markdown",
      "metadata": {
        "id": "nrTi_itIjQlo",
        "colab_type": "text"
      },
      "source": [
        "After we have converted them to categorical we can start to doing some visualizations and explorations. First questions to cover:\n",
        "1. How balanced is the data.\n",
        "2. Are there any features that are more common to the non class vs the class?"
      ]
    },
    {
      "cell_type": "code",
      "metadata": {
        "id": "dru3cWNMjPhz",
        "colab_type": "code",
        "outputId": "2d369f76-2582-4655-bd73-8a5bd6828f87",
        "colab": {
          "base_uri": "https://localhost:8080/",
          "height": 109
        }
      },
      "source": [
        "# See how classes are distributed and visualize it\n",
        "\n",
        "balance = sample.is_attributed.value_counts().reset_index().replace({'index':{0: 'non fraud', 1:'fraud'}})\n",
        "balance"
      ],
      "execution_count": 0,
      "outputs": [
        {
          "output_type": "execute_result",
          "data": {
            "text/html": [
              "<div>\n",
              "<style scoped>\n",
              "    .dataframe tbody tr th:only-of-type {\n",
              "        vertical-align: middle;\n",
              "    }\n",
              "\n",
              "    .dataframe tbody tr th {\n",
              "        vertical-align: top;\n",
              "    }\n",
              "\n",
              "    .dataframe thead th {\n",
              "        text-align: right;\n",
              "    }\n",
              "</style>\n",
              "<table border=\"1\" class=\"dataframe\">\n",
              "  <thead>\n",
              "    <tr style=\"text-align: right;\">\n",
              "      <th></th>\n",
              "      <th>index</th>\n",
              "      <th>is_attributed</th>\n",
              "    </tr>\n",
              "  </thead>\n",
              "  <tbody>\n",
              "    <tr>\n",
              "      <th>0</th>\n",
              "      <td>non fraud</td>\n",
              "      <td>99773</td>\n",
              "    </tr>\n",
              "    <tr>\n",
              "      <th>1</th>\n",
              "      <td>fraud</td>\n",
              "      <td>227</td>\n",
              "    </tr>\n",
              "  </tbody>\n",
              "</table>\n",
              "</div>"
            ],
            "text/plain": [
              "       index  is_attributed\n",
              "0  non fraud          99773\n",
              "1      fraud            227"
            ]
          },
          "metadata": {
            "tags": []
          },
          "execution_count": 30
        }
      ]
    },
    {
      "cell_type": "code",
      "metadata": {
        "id": "XIRwfheYjNA3",
        "colab_type": "code",
        "colab": {}
      },
      "source": [
        "import seaborn as sns\n",
        "import matplotlib.pyplot as plt\n",
        "%matplotlib inline"
      ],
      "execution_count": 0,
      "outputs": []
    },
    {
      "cell_type": "markdown",
      "metadata": {
        "id": "fXZH2nFioT2Q",
        "colab_type": "text"
      },
      "source": [
        "As we can observe the classes for the training set are hugely imbalanced. To get an idea of how badly it is, we can take a look at the percentage of data tha we have for each class."
      ]
    },
    {
      "cell_type": "code",
      "metadata": {
        "id": "Rayo9yLjoBE5",
        "colab_type": "code",
        "outputId": "e5676be2-3299-4486-a94c-45439fcc2d69",
        "colab": {
          "base_uri": "https://localhost:8080/",
          "height": 109
        }
      },
      "source": [
        "import numpy as np\n",
        "balance['percentage'] = balance.is_attributed / balance.is_attributed.sum() * 100\n",
        "balance"
      ],
      "execution_count": 0,
      "outputs": [
        {
          "output_type": "execute_result",
          "data": {
            "text/html": [
              "<div>\n",
              "<style scoped>\n",
              "    .dataframe tbody tr th:only-of-type {\n",
              "        vertical-align: middle;\n",
              "    }\n",
              "\n",
              "    .dataframe tbody tr th {\n",
              "        vertical-align: top;\n",
              "    }\n",
              "\n",
              "    .dataframe thead th {\n",
              "        text-align: right;\n",
              "    }\n",
              "</style>\n",
              "<table border=\"1\" class=\"dataframe\">\n",
              "  <thead>\n",
              "    <tr style=\"text-align: right;\">\n",
              "      <th></th>\n",
              "      <th>index</th>\n",
              "      <th>is_attributed</th>\n",
              "      <th>percentage</th>\n",
              "    </tr>\n",
              "  </thead>\n",
              "  <tbody>\n",
              "    <tr>\n",
              "      <th>0</th>\n",
              "      <td>non fraud</td>\n",
              "      <td>99773</td>\n",
              "      <td>99.773</td>\n",
              "    </tr>\n",
              "    <tr>\n",
              "      <th>1</th>\n",
              "      <td>fraud</td>\n",
              "      <td>227</td>\n",
              "      <td>0.227</td>\n",
              "    </tr>\n",
              "  </tbody>\n",
              "</table>\n",
              "</div>"
            ],
            "text/plain": [
              "       index  is_attributed  percentage\n",
              "0  non fraud          99773      99.773\n",
              "1      fraud            227       0.227"
            ]
          },
          "metadata": {
            "tags": []
          },
          "execution_count": 72
        }
      ]
    },
    {
      "cell_type": "code",
      "metadata": {
        "id": "glWCPlBQkRKX",
        "colab_type": "code",
        "outputId": "dd10f033-6d2b-4049-835f-49c8c318d962",
        "colab": {
          "base_uri": "https://localhost:8080/",
          "height": 349
        }
      },
      "source": [
        "f, ax = plt.subplots(figsize=(5, 5))\n",
        "ax.set(ylim=(0, 100))\n",
        "g = sns.barplot('index', 'percentage', data=balance, ax=ax)\n",
        "for index, row in balance.iterrows():\n",
        "    ax.text(row.name,row.percentage, round(row.percentage, 2), color='black', ha=\"center\")\n",
        "plt.show()\n"
      ],
      "execution_count": 0,
      "outputs": [
        {
          "output_type": "display_data",
          "data": {
            "image/png": "[encoded data removed]",
            "text/plain": [
              "<Figure size 360x360 with 1 Axes>"
            ]
          },
          "metadata": {
            "tags": []
          }
        }
      ]
    },
    {
      "cell_type": "markdown",
      "metadata": {
        "id": "ZMRmdeyu0cFM",
        "colab_type": "text"
      },
      "source": [
        "We can explore some descriptions of the data by class"
      ]
    },
    {
      "cell_type": "code",
      "metadata": {
        "id": "XhAxDEm00Yky",
        "colab_type": "code",
        "outputId": "78ec25ad-dcf2-49b9-a380-66650ad8d71a",
        "colab": {
          "base_uri": "https://localhost:8080/",
          "height": 170
        }
      },
      "source": [
        "sample.query('is_attributed == 0')[['ip', 'app', 'device', 'os', 'channel']].describe()"
      ],
      "execution_count": 0,
      "outputs": [
        {
          "output_type": "execute_result",
          "data": {
            "text/html": [
              "<div>\n",
              "<style scoped>\n",
              "    .dataframe tbody tr th:only-of-type {\n",
              "        vertical-align: middle;\n",
              "    }\n",
              "\n",
              "    .dataframe tbody tr th {\n",
              "        vertical-align: top;\n",
              "    }\n",
              "\n",
              "    .dataframe thead th {\n",
              "        text-align: right;\n",
              "    }\n",
              "</style>\n",
              "<table border=\"1\" class=\"dataframe\">\n",
              "  <thead>\n",
              "    <tr style=\"text-align: right;\">\n",
              "      <th></th>\n",
              "      <th>ip</th>\n",
              "      <th>app</th>\n",
              "      <th>device</th>\n",
              "      <th>os</th>\n",
              "      <th>channel</th>\n",
              "    </tr>\n",
              "  </thead>\n",
              "  <tbody>\n",
              "    <tr>\n",
              "      <th>count</th>\n",
              "      <td>99773</td>\n",
              "      <td>99773</td>\n",
              "      <td>99773</td>\n",
              "      <td>99773</td>\n",
              "      <td>99773</td>\n",
              "    </tr>\n",
              "    <tr>\n",
              "      <th>unique</th>\n",
              "      <td>34707</td>\n",
              "      <td>155</td>\n",
              "      <td>91</td>\n",
              "      <td>129</td>\n",
              "      <td>159</td>\n",
              "    </tr>\n",
              "    <tr>\n",
              "      <th>top</th>\n",
              "      <td>5348</td>\n",
              "      <td>3</td>\n",
              "      <td>1</td>\n",
              "      <td>19</td>\n",
              "      <td>280</td>\n",
              "    </tr>\n",
              "    <tr>\n",
              "      <th>freq</th>\n",
              "      <td>666</td>\n",
              "      <td>18275</td>\n",
              "      <td>94192</td>\n",
              "      <td>23829</td>\n",
              "      <td>8112</td>\n",
              "    </tr>\n",
              "  </tbody>\n",
              "</table>\n",
              "</div>"
            ],
            "text/plain": [
              "           ip    app  device     os  channel\n",
              "count   99773  99773   99773  99773    99773\n",
              "unique  34707    155      91    129      159\n",
              "top      5348      3       1     19      280\n",
              "freq      666  18275   94192  23829     8112"
            ]
          },
          "metadata": {
            "tags": []
          },
          "execution_count": 81
        }
      ]
    },
    {
      "cell_type": "code",
      "metadata": {
        "id": "ZIyLFJpHb8oC",
        "colab_type": "code",
        "outputId": "e865f409-d468-49a3-f927-58ad3be9b224",
        "colab": {
          "base_uri": "https://localhost:8080/",
          "height": 170
        }
      },
      "source": [
        "sample.query('is_attributed == 1')[['ip', 'app', 'device', 'os', 'channel']].describe()"
      ],
      "execution_count": 0,
      "outputs": [
        {
          "output_type": "execute_result",
          "data": {
            "text/html": [
              "<div>\n",
              "<style scoped>\n",
              "    .dataframe tbody tr th:only-of-type {\n",
              "        vertical-align: middle;\n",
              "    }\n",
              "\n",
              "    .dataframe tbody tr th {\n",
              "        vertical-align: top;\n",
              "    }\n",
              "\n",
              "    .dataframe thead th {\n",
              "        text-align: right;\n",
              "    }\n",
              "</style>\n",
              "<table border=\"1\" class=\"dataframe\">\n",
              "  <thead>\n",
              "    <tr style=\"text-align: right;\">\n",
              "      <th></th>\n",
              "      <th>ip</th>\n",
              "      <th>app</th>\n",
              "      <th>device</th>\n",
              "      <th>os</th>\n",
              "      <th>channel</th>\n",
              "    </tr>\n",
              "  </thead>\n",
              "  <tbody>\n",
              "    <tr>\n",
              "      <th>count</th>\n",
              "      <td>227</td>\n",
              "      <td>227</td>\n",
              "      <td>227</td>\n",
              "      <td>227</td>\n",
              "      <td>227</td>\n",
              "    </tr>\n",
              "    <tr>\n",
              "      <th>unique</th>\n",
              "      <td>223</td>\n",
              "      <td>37</td>\n",
              "      <td>25</td>\n",
              "      <td>39</td>\n",
              "      <td>40</td>\n",
              "    </tr>\n",
              "    <tr>\n",
              "      <th>top</th>\n",
              "      <td>5348</td>\n",
              "      <td>19</td>\n",
              "      <td>1</td>\n",
              "      <td>19</td>\n",
              "      <td>213</td>\n",
              "    </tr>\n",
              "    <tr>\n",
              "      <th>freq</th>\n",
              "      <td>3</td>\n",
              "      <td>70</td>\n",
              "      <td>146</td>\n",
              "      <td>41</td>\n",
              "      <td>72</td>\n",
              "    </tr>\n",
              "  </tbody>\n",
              "</table>\n",
              "</div>"
            ],
            "text/plain": [
              "          ip  app  device   os  channel\n",
              "count    227  227     227  227      227\n",
              "unique   223   37      25   39       40\n",
              "top     5348   19       1   19      213\n",
              "freq       3   70     146   41       72"
            ]
          },
          "metadata": {
            "tags": []
          },
          "execution_count": 82
        }
      ]
    },
    {
      "cell_type": "code",
      "metadata": {
        "id": "D8c-T2uErdCE",
        "colab_type": "code",
        "outputId": "9c52cc66-0fb6-458f-b1c3-40f28c586c14",
        "colab": {
          "base_uri": "https://localhost:8080/",
          "height": 52
        }
      },
      "source": [
        "#Inflate compressed training set\n",
        "!unzip train.csv.zip"
      ],
      "execution_count": 0,
      "outputs": [
        {
          "output_type": "stream",
          "text": [
            "Archive:  train.csv.zip\n",
            "  inflating: mnt/ssd/kaggle-talkingdata2/competition_files/train.csv  \n"
          ],
          "name": "stdout"
        }
      ]
    },
    {
      "cell_type": "code",
      "metadata": {
        "id": "9DHunbcVd2Pf",
        "colab_type": "code",
        "colab": {}
      },
      "source": [
        "import dask.dataframe as dd\n",
        "df = dd.read_csv('mnt/ssd/kaggle-talkingdata2/competition_files/train.csv')\n",
        "\n"
      ],
      "execution_count": 0,
      "outputs": []
    },
    {
      "cell_type": "code",
      "metadata": {
        "id": "VQ-oyqpGg7d2",
        "colab_type": "code",
        "colab": {}
      },
      "source": [
        ""
      ],
      "execution_count": 0,
      "outputs": []
    },
    {
      "cell_type": "code",
      "metadata": {
        "id": "gJ_CXJQmg_56",
        "colab_type": "code",
        "colab": {}
      },
      "source": [
        ""
      ],
      "execution_count": 0,
      "outputs": []
    }
  ]
}