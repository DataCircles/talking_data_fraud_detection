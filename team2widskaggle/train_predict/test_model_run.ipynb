{
  "nbformat": 4,
  "nbformat_minor": 0,
  "metadata": {
    "colab": {
      "name": "test_model_run.ipynb",
      "version": "0.3.2",
      "provenance": []
    },
    "kernelspec": {
      "name": "python3",
      "display_name": "Python 3"
    },
    "accelerator": "GPU"
  },
  "cells": [
    {
      "cell_type": "markdown",
      "metadata": {
        "id": "pEz7gqoJ0fGP",
        "colab_type": "text"
      },
      "source": [
        "# Importing libraries and loading sample data\n",
        "\n",
        "The goal of this script is to just get a feel of training a lightgbm model, saving predictions and submitting to Kaggle. I'm going to train the lightGBM model on the sample data. I want to try different models as well but all of the kaggle kernels used this model and it seemed like a good place to start"
      ]
    },
    {
      "cell_type": "code",
      "metadata": {
        "id": "_Nblbs0lHWRU",
        "colab_type": "code",
        "colab": {}
      },
      "source": [
        "#from google.colab import drive\n",
        "#drive.mount('/gdrive')\n",
        "import seaborn as sns\n",
        "sns.set()\n",
        "import matplotlib.pyplot as plt\n",
        "import numpy as np\n",
        "import pandas as pd\n",
        "import datetime\n",
        "import os\n",
        "import lightgbm as lgb\n",
        "import gc\n",
        "import pickle"
      ],
      "execution_count": 0,
      "outputs": []
    },
    {
      "cell_type": "code",
      "metadata": {
        "id": "YCMY6yLVEAeL",
        "colab_type": "code",
        "colab": {}
      },
      "source": [
        "#connecting to kaggle and importing datasets\n",
        "from google.colab import files\n",
        "files.upload()\n",
        "!mkdir -p ~/.kaggle\n",
        "!mv kaggle.json ~/.kaggle/\n",
        "!chmod 600 /root/.kaggle/kaggle.json\n",
        "\n",
        "!kaggle competitions download -c talkingdata-adtracking-fraud-detection\n",
        "!unzip test.csv.zip\n"
      ],
      "execution_count": 0,
      "outputs": []
    },
    {
      "cell_type": "code",
      "metadata": {
        "id": "ZiqbQOxU8z2b",
        "colab_type": "code",
        "outputId": "a5435e96-d772-4593-a8b4-5dcaa6245612",
        "colab": {
          "base_uri": "https://localhost:8080/",
          "height": 233
        }
      },
      "source": [
        "!unzip train_sample.csv.zip\n",
        "\n",
        "dypes = dtypes = {\n",
        "        'ip'            : 'uint32',\n",
        "        'app'           : 'uint16',\n",
        "        'device'        : 'uint16',\n",
        "        'os'            : 'uint16',\n",
        "        'channel'       : 'uint16',\n",
        "        'is_attributed' : 'uint8',\n",
        "        'click_id'      : 'uint32'\n",
        "        }\n",
        "\n",
        "#reading in training data sample\n",
        "sample = pd.read_csv('mnt/ssd/kaggle-talkingdata2/competition_files/train_sample.csv', dtype=dtypes)\n",
        "sample['hour'] = pd.to_datetime(sample['click_time']).dt.hour.astype('uint8')\n",
        "sample['day'] = pd.to_datetime(sample['click_time']).dt.day.astype('uint8')\n",
        "sample.head(5)\n",
        "#test=pd.read_csv('test.csv')"
      ],
      "execution_count": 29,
      "outputs": [
        {
          "output_type": "stream",
          "text": [
            "Archive:  train_sample.csv.zip\n",
            "replace mnt/ssd/kaggle-talkingdata2/competition_files/train_sample.csv? [y]es, [n]o, [A]ll, [N]one, [r]ename: n\n"
          ],
          "name": "stdout"
        },
        {
          "output_type": "execute_result",
          "data": {
            "text/html": [
              "<div>\n",
              "<style scoped>\n",
              "    .dataframe tbody tr th:only-of-type {\n",
              "        vertical-align: middle;\n",
              "    }\n",
              "\n",
              "    .dataframe tbody tr th {\n",
              "        vertical-align: top;\n",
              "    }\n",
              "\n",
              "    .dataframe thead th {\n",
              "        text-align: right;\n",
              "    }\n",
              "</style>\n",
              "<table border=\"1\" class=\"dataframe\">\n",
              "  <thead>\n",
              "    <tr style=\"text-align: right;\">\n",
              "      <th></th>\n",
              "      <th>ip</th>\n",
              "      <th>app</th>\n",
              "      <th>device</th>\n",
              "      <th>os</th>\n",
              "      <th>channel</th>\n",
              "      <th>click_time</th>\n",
              "      <th>attributed_time</th>\n",
              "      <th>is_attributed</th>\n",
              "      <th>hour</th>\n",
              "      <th>day</th>\n",
              "    </tr>\n",
              "  </thead>\n",
              "  <tbody>\n",
              "    <tr>\n",
              "      <th>0</th>\n",
              "      <td>87540</td>\n",
              "      <td>12</td>\n",
              "      <td>1</td>\n",
              "      <td>13</td>\n",
              "      <td>497</td>\n",
              "      <td>2017-11-07 09:30:38</td>\n",
              "      <td>NaN</td>\n",
              "      <td>0</td>\n",
              "      <td>9</td>\n",
              "      <td>7</td>\n",
              "    </tr>\n",
              "    <tr>\n",
              "      <th>1</th>\n",
              "      <td>105560</td>\n",
              "      <td>25</td>\n",
              "      <td>1</td>\n",
              "      <td>17</td>\n",
              "      <td>259</td>\n",
              "      <td>2017-11-07 13:40:27</td>\n",
              "      <td>NaN</td>\n",
              "      <td>0</td>\n",
              "      <td>13</td>\n",
              "      <td>7</td>\n",
              "    </tr>\n",
              "    <tr>\n",
              "      <th>2</th>\n",
              "      <td>101424</td>\n",
              "      <td>12</td>\n",
              "      <td>1</td>\n",
              "      <td>19</td>\n",
              "      <td>212</td>\n",
              "      <td>2017-11-07 18:05:24</td>\n",
              "      <td>NaN</td>\n",
              "      <td>0</td>\n",
              "      <td>18</td>\n",
              "      <td>7</td>\n",
              "    </tr>\n",
              "    <tr>\n",
              "      <th>3</th>\n",
              "      <td>94584</td>\n",
              "      <td>13</td>\n",
              "      <td>1</td>\n",
              "      <td>13</td>\n",
              "      <td>477</td>\n",
              "      <td>2017-11-07 04:58:08</td>\n",
              "      <td>NaN</td>\n",
              "      <td>0</td>\n",
              "      <td>4</td>\n",
              "      <td>7</td>\n",
              "    </tr>\n",
              "    <tr>\n",
              "      <th>4</th>\n",
              "      <td>68413</td>\n",
              "      <td>12</td>\n",
              "      <td>1</td>\n",
              "      <td>1</td>\n",
              "      <td>178</td>\n",
              "      <td>2017-11-09 09:00:09</td>\n",
              "      <td>NaN</td>\n",
              "      <td>0</td>\n",
              "      <td>9</td>\n",
              "      <td>9</td>\n",
              "    </tr>\n",
              "  </tbody>\n",
              "</table>\n",
              "</div>"
            ],
            "text/plain": [
              "       ip  app  device  os  ...  attributed_time is_attributed hour  day\n",
              "0   87540   12       1  13  ...              NaN             0    9    7\n",
              "1  105560   25       1  17  ...              NaN             0   13    7\n",
              "2  101424   12       1  19  ...              NaN             0   18    7\n",
              "3   94584   13       1  13  ...              NaN             0    4    7\n",
              "4   68413   12       1   1  ...              NaN             0    9    9\n",
              "\n",
              "[5 rows x 10 columns]"
            ]
          },
          "metadata": {
            "tags": []
          },
          "execution_count": 29
        }
      ]
    },
    {
      "cell_type": "markdown",
      "metadata": {
        "id": "OIDk8wnH0-gu",
        "colab_type": "text"
      },
      "source": [
        "# Creating train and validation datasets"
      ]
    },
    {
      "cell_type": "code",
      "metadata": {
        "id": "1XxamgCQIOnB",
        "colab_type": "code",
        "outputId": "1f1b7e2d-a1dc-4854-b06d-4330c49a581a",
        "colab": {
          "base_uri": "https://localhost:8080/",
          "height": 52
        }
      },
      "source": [
        "#just going to test training model, predicting and submitting using the sample \n",
        "#data. I want to get used to the submission process\n",
        "\n",
        "#shuffling sample and splitting into 80-20 train-val datasets\n",
        "sample_shuff = sample.sample(frac=1)\n",
        "r=0.20\n",
        "len_train=len(sample)\n",
        "val = sample_shuff[(len_train-round(r*len_train)):len_train]\n",
        "train = sample_shuff[:(len_train-round(r*len_train))]\n",
        "\n",
        "display(val.shape)\n",
        "display(train.shape)"
      ],
      "execution_count": 30,
      "outputs": [
        {
          "output_type": "display_data",
          "data": {
            "text/plain": [
              "(20000, 10)"
            ]
          },
          "metadata": {
            "tags": []
          }
        },
        {
          "output_type": "display_data",
          "data": {
            "text/plain": [
              "(80000, 10)"
            ]
          },
          "metadata": {
            "tags": []
          }
        }
      ]
    },
    {
      "cell_type": "markdown",
      "metadata": {
        "id": "pjl0KYb81J2C",
        "colab_type": "text"
      },
      "source": [
        "# Setting model parameters and training\n",
        "\n",
        "I took parameters that seemed popular on the Kaggle kernels. I want to do hyperparameter tuning eventually."
      ]
    },
    {
      "cell_type": "code",
      "metadata": {
        "id": "sH-XfRKmPeZR",
        "colab_type": "code",
        "outputId": "0099cb8f-ceb9-4665-c695-6f8c89ca67dd",
        "colab": {
          "base_uri": "https://localhost:8080/",
          "height": 1350
        }
      },
      "source": [
        "#training model with popular parameters\n",
        "target = 'is_attributed'\n",
        "predictors = ['app','device', 'os', 'ip', 'channel', 'day', 'hour']\n",
        "categorical = ['app', 'device', 'os', 'ip', 'channel', 'day', 'hour']\n",
        "\n",
        "params = {\n",
        "    'boosting_type': 'gbdt',\n",
        "    'objective': 'binary',\n",
        "    'metric': 'auc',\n",
        "    'learning_rate': 0.1,\n",
        "    'num_leaves': 255,  \n",
        "    'max_depth': 8,  \n",
        "    'min_child_samples': 100,  \n",
        "    'max_bin': 100,  \n",
        "    'subsample': 0.7,  \n",
        "    'subsample_freq': 1,  \n",
        "    'colsample_bytree': 0.7,  \n",
        "    'min_child_weight': 0,  \n",
        "    'subsample_for_bin': 200000,  \n",
        "    'min_split_gain': 0,  \n",
        "    'reg_alpha': 0,  \n",
        "    'reg_lambda': 0,  \n",
        "   # 'nthread': 8,\n",
        "    'verbose': 0,\n",
        "    'scale_pos_weight':99 \n",
        "    }\n",
        "    \n",
        "dtrain = lgb.Dataset(train[predictors].values, label=train[target].values,\n",
        "                      feature_name=predictors,\n",
        "                      categorical_feature=categorical\n",
        "                      )\n",
        "dvalid = lgb.Dataset(val[predictors].values, label=val[target].values,\n",
        "                      feature_name=predictors,\n",
        "                      categorical_feature=categorical\n",
        "                      )\n",
        "\n",
        "evals_results = {}\n",
        "\n",
        "lgb_model = lgb.train(params, \n",
        "                 dtrain, \n",
        "                 valid_sets=[dtrain, dvalid], \n",
        "                 valid_names=['train','valid'], \n",
        "                 evals_result=evals_results, \n",
        "                 num_boost_round=350,\n",
        "                 early_stopping_rounds=30,\n",
        "                 verbose_eval=True, \n",
        "                 feval=None)\n",
        "\n"
      ],
      "execution_count": 31,
      "outputs": [
        {
          "output_type": "stream",
          "text": [
            "/usr/local/lib/python3.6/dist-packages/lightgbm/basic.py:1205: UserWarning: Using categorical_feature in Dataset.\n",
            "  warnings.warn('Using categorical_feature in Dataset.')\n",
            "/usr/local/lib/python3.6/dist-packages/lightgbm/basic.py:762: UserWarning: categorical_feature in param dict is overridden.\n",
            "  warnings.warn('categorical_feature in param dict is overridden.')\n"
          ],
          "name": "stderr"
        },
        {
          "output_type": "stream",
          "text": [
            "[1]\ttrain's auc: 0.916723\tvalid's auc: 0.891093\n",
            "Training until validation scores don't improve for 30 rounds.\n",
            "[2]\ttrain's auc: 0.925996\tvalid's auc: 0.889552\n",
            "[3]\ttrain's auc: 0.931477\tvalid's auc: 0.867626\n",
            "[4]\ttrain's auc: 0.9336\tvalid's auc: 0.868179\n",
            "[5]\ttrain's auc: 0.935326\tvalid's auc: 0.86806\n",
            "[6]\ttrain's auc: 0.946611\tvalid's auc: 0.8809\n",
            "[7]\ttrain's auc: 0.958612\tvalid's auc: 0.885697\n",
            "[8]\ttrain's auc: 0.964907\tvalid's auc: 0.891785\n",
            "[9]\ttrain's auc: 0.969979\tvalid's auc: 0.906067\n",
            "[10]\ttrain's auc: 0.869685\tvalid's auc: 0.868419\n",
            "[11]\ttrain's auc: 0.902502\tvalid's auc: 0.849201\n",
            "[12]\ttrain's auc: 0.9745\tvalid's auc: 0.930048\n",
            "[13]\ttrain's auc: 0.883151\tvalid's auc: 0.753904\n",
            "[14]\ttrain's auc: 0.884253\tvalid's auc: 0.757287\n",
            "[15]\ttrain's auc: 0.98037\tvalid's auc: 0.943144\n",
            "[16]\ttrain's auc: 0.981221\tvalid's auc: 0.942561\n",
            "[17]\ttrain's auc: 0.981858\tvalid's auc: 0.942265\n",
            "[18]\ttrain's auc: 0.982483\tvalid's auc: 0.943124\n",
            "[19]\ttrain's auc: 0.977761\tvalid's auc: 0.943792\n",
            "[20]\ttrain's auc: 0.981682\tvalid's auc: 0.943053\n",
            "[21]\ttrain's auc: 0.982249\tvalid's auc: 0.944121\n",
            "[22]\ttrain's auc: 0.982502\tvalid's auc: 0.9447\n",
            "[23]\ttrain's auc: 0.922922\tvalid's auc: 0.907661\n",
            "[24]\ttrain's auc: 0.936812\tvalid's auc: 0.865428\n",
            "[25]\ttrain's auc: 0.938747\tvalid's auc: 0.864621\n",
            "[26]\ttrain's auc: 0.938768\tvalid's auc: 0.864352\n",
            "[27]\ttrain's auc: 0.934349\tvalid's auc: 0.865526\n",
            "[28]\ttrain's auc: 0.929091\tvalid's auc: 0.860056\n",
            "[29]\ttrain's auc: 0.929112\tvalid's auc: 0.85945\n",
            "[30]\ttrain's auc: 0.929365\tvalid's auc: 0.858676\n",
            "[31]\ttrain's auc: 0.923266\tvalid's auc: 0.863637\n",
            "[32]\ttrain's auc: 0.920471\tvalid's auc: 0.863285\n",
            "[33]\ttrain's auc: 0.974059\tvalid's auc: 0.941086\n",
            "[34]\ttrain's auc: 0.974733\tvalid's auc: 0.943715\n",
            "[35]\ttrain's auc: 0.981519\tvalid's auc: 0.938951\n",
            "[36]\ttrain's auc: 0.983062\tvalid's auc: 0.937541\n",
            "[37]\ttrain's auc: 0.983227\tvalid's auc: 0.936858\n",
            "[38]\ttrain's auc: 0.983324\tvalid's auc: 0.936674\n",
            "[39]\ttrain's auc: 0.976398\tvalid's auc: 0.941347\n",
            "[40]\ttrain's auc: 0.976477\tvalid's auc: 0.941543\n",
            "[41]\ttrain's auc: 0.967173\tvalid's auc: 0.94265\n",
            "[42]\ttrain's auc: 0.967203\tvalid's auc: 0.944827\n",
            "[43]\ttrain's auc: 0.974501\tvalid's auc: 0.941517\n",
            "[44]\ttrain's auc: 0.974533\tvalid's auc: 0.939505\n",
            "[45]\ttrain's auc: 0.974963\tvalid's auc: 0.940611\n",
            "[46]\ttrain's auc: 0.975017\tvalid's auc: 0.94167\n",
            "[47]\ttrain's auc: 0.975117\tvalid's auc: 0.940909\n",
            "[48]\ttrain's auc: 0.966048\tvalid's auc: 0.929473\n",
            "[49]\ttrain's auc: 0.918619\tvalid's auc: 0.879874\n",
            "[50]\ttrain's auc: 0.930894\tvalid's auc: 0.844642\n",
            "[51]\ttrain's auc: 0.931696\tvalid's auc: 0.845232\n",
            "[52]\ttrain's auc: 0.932986\tvalid's auc: 0.845179\n",
            "[53]\ttrain's auc: 0.926597\tvalid's auc: 0.847042\n",
            "[54]\ttrain's auc: 0.919237\tvalid's auc: 0.847125\n",
            "[55]\ttrain's auc: 0.91968\tvalid's auc: 0.846667\n",
            "[56]\ttrain's auc: 0.916382\tvalid's auc: 0.846683\n",
            "[57]\ttrain's auc: 0.916547\tvalid's auc: 0.845887\n",
            "[58]\ttrain's auc: 0.917095\tvalid's auc: 0.846036\n",
            "[59]\ttrain's auc: 0.917981\tvalid's auc: 0.846111\n",
            "[60]\ttrain's auc: 0.920228\tvalid's auc: 0.846071\n",
            "[61]\ttrain's auc: 0.914058\tvalid's auc: 0.846848\n",
            "[62]\ttrain's auc: 0.91545\tvalid's auc: 0.825852\n",
            "[63]\ttrain's auc: 0.915563\tvalid's auc: 0.820168\n",
            "[64]\ttrain's auc: 0.915696\tvalid's auc: 0.820108\n",
            "[65]\ttrain's auc: 0.915842\tvalid's auc: 0.820203\n",
            "[66]\ttrain's auc: 0.923555\tvalid's auc: 0.817446\n",
            "[67]\ttrain's auc: 0.923719\tvalid's auc: 0.81738\n",
            "[68]\ttrain's auc: 0.923888\tvalid's auc: 0.81843\n",
            "Early stopping, best iteration is:\n",
            "[38]\ttrain's auc: 0.983324\tvalid's auc: 0.936674\n"
          ],
          "name": "stdout"
        }
      ]
    },
    {
      "cell_type": "markdown",
      "metadata": {
        "id": "HyM3op894o0d",
        "colab_type": "text"
      },
      "source": [
        "# Feature importance"
      ]
    },
    {
      "cell_type": "code",
      "metadata": {
        "id": "KXLrA8kcBqmZ",
        "colab_type": "code",
        "outputId": "d02a89c9-de69-4623-8437-8a994c30cd6d",
        "colab": {
          "base_uri": "https://localhost:8080/",
          "height": 318
        }
      },
      "source": [
        "lgb.plot_importance(lgb_model, importance_type='split')"
      ],
      "execution_count": 32,
      "outputs": [
        {
          "output_type": "execute_result",
          "data": {
            "text/plain": [
              "<matplotlib.axes._subplots.AxesSubplot at 0x7fb12e88d908>"
            ]
          },
          "metadata": {
            "tags": []
          },
          "execution_count": 32
        },
        {
          "output_type": "display_data",
          "data": {
            "image/png": "[encoded data removed]",
            "text/plain": [
              "<Figure size 432x288 with 1 Axes>"
            ]
          },
          "metadata": {
            "tags": []
          }
        }
      ]
    },
    {
      "cell_type": "code",
      "metadata": {
        "id": "ofDoZzff4gAz",
        "colab_type": "code",
        "colab": {
          "base_uri": "https://localhost:8080/",
          "height": 318
        },
        "outputId": "94f1594d-c579-41d7-8a70-03f53057709d"
      },
      "source": [
        "lgb.plot_importance(lgb_model, importance_type='gain')"
      ],
      "execution_count": 40,
      "outputs": [
        {
          "output_type": "execute_result",
          "data": {
            "text/plain": [
              "<matplotlib.axes._subplots.AxesSubplot at 0x7fb12f2bdef0>"
            ]
          },
          "metadata": {
            "tags": []
          },
          "execution_count": 40
        },
        {
          "output_type": "display_data",
          "data": {
            "image/png": "[encoded data removed]",
            "text/plain": [
              "<Figure size 432x288 with 1 Axes>"
            ]
          },
          "metadata": {
            "tags": []
          }
        }
      ]
    },
    {
      "cell_type": "markdown",
      "metadata": {
        "id": "cbtqlCkm1fAA",
        "colab_type": "text"
      },
      "source": [
        "Day surprisingly ranks the highest for feature importance.  I think this is likely an artifact of how the data was sampled."
      ]
    },
    {
      "cell_type": "markdown",
      "metadata": {
        "id": "N3V_cv6C40CG",
        "colab_type": "text"
      },
      "source": [
        "# Creating submission file \n",
        "Need to include click_id and is_attributed column"
      ]
    },
    {
      "cell_type": "code",
      "metadata": {
        "id": "0lrrJyOaQhQf",
        "colab_type": "code",
        "outputId": "e33e2300-765a-4e34-c9e5-d9ea75e45b32",
        "colab": {
          "base_uri": "https://localhost:8080/",
          "height": 70
        }
      },
      "source": [
        "#predicting on test data\n",
        "y_pred=lgb_model.predict(test[['app', 'device', 'os', 'channel']])\n",
        "test['is_attributed']=0\n",
        "test.loc[y_pred>0.5, 'is_attributed']=1\n",
        "test['is_attributed'].value_counts()"
      ],
      "execution_count": 35,
      "outputs": [
        {
          "output_type": "execute_result",
          "data": {
            "text/plain": [
              "0    18303288\n",
              "1      487181\n",
              "Name: is_attributed, dtype: int64"
            ]
          },
          "metadata": {
            "tags": []
          },
          "execution_count": 35
        }
      ]
    },
    {
      "cell_type": "code",
      "metadata": {
        "id": "cNOrwfZE9mc7",
        "colab_type": "code",
        "outputId": "0a9c3ef5-2aed-4121-f888-95e9c6d0ee93",
        "colab": {
          "base_uri": "https://localhost:8080/",
          "height": 34
        }
      },
      "source": [
        "#want to see what proportion it predicts as is_attributed\n",
        "546019/len(test)"
      ],
      "execution_count": 36,
      "outputs": [
        {
          "output_type": "execute_result",
          "data": {
            "text/plain": [
              "0.029058295458192128"
            ]
          },
          "metadata": {
            "tags": []
          },
          "execution_count": 36
        }
      ]
    },
    {
      "cell_type": "code",
      "metadata": {
        "id": "FpoUUFxUW6vz",
        "colab_type": "code",
        "colab": {}
      },
      "source": [
        "#saving submission example to google drive\n",
        "#from google.colab import drive\n",
        "#drive.mount('/gdrive')\n",
        "submission=test[['click_id', 'is_attributed']]\n",
        "submission.to_csv('/gdrive/My Drive/kaggle/test_sub.csv', index=False)\n"
      ],
      "execution_count": 0,
      "outputs": []
    }
  ]
}