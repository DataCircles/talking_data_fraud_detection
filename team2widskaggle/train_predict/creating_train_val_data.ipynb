{
  "nbformat": 4,
  "nbformat_minor": 0,
  "metadata": {
    "colab": {
      "name": "creating_train_val_data.ipynb",
      "version": "0.3.2",
      "provenance": []
    },
    "kernelspec": {
      "name": "python3",
      "display_name": "Python 3"
    },
    "accelerator": "GPU"
  },
  "cells": [
    {
      "cell_type": "markdown",
      "metadata": {
        "id": "ksNiihmsuQCD",
        "colab_type": "text"
      },
      "source": [
        "# Importing libraries and loading data"
      ]
    },
    {
      "cell_type": "code",
      "metadata": {
        "id": "9qrTguPkxCEJ",
        "colab_type": "code",
        "colab": {}
      },
      "source": [
        "import seaborn as sns\n",
        "import matplotlib.pyplot as plt\n",
        "import numpy as np\n",
        "import pandas as pd\n",
        "import datetime\n",
        "import os\n",
        "import gc\n",
        "import random\n",
        "import dask.dataframe as dd\n",
        "import sys\n",
        "import pickle\n",
        "sns.set()"
      ],
      "execution_count": 0,
      "outputs": []
    },
    {
      "cell_type": "code",
      "metadata": {
        "id": "9e9rqlV1xHWj",
        "colab_type": "code",
        "colab": {}
      },
      "source": [
        "#connecting to kaggle and importing datasets\n",
        "from google.colab import files\n",
        "files.upload()\n",
        "!mkdir -p ~/.kaggle\n",
        "!mv kaggle.json ~/.kaggle/\n",
        "!chmod 600 /root/.kaggle/kaggle.json\n",
        "\n",
        "!kaggle competitions download -c talkingdata-adtracking-fraud-detection\n",
        "!unzip train.csv.zip"
      ],
      "execution_count": 0,
      "outputs": []
    },
    {
      "cell_type": "code",
      "metadata": {
        "colab_type": "code",
        "id": "1LunBcDpUpgU",
        "colab": {}
      },
      "source": [
        "#loading train data as dask dataframe\n",
        "dtypes = {\n",
        "        'ip'            : 'uint32',\n",
        "        'app'           : 'uint16',\n",
        "        'device'        : 'uint16',\n",
        "        'os'            : 'uint16',\n",
        "        'channel'       : 'uint16',\n",
        "        'click_id'      : 'uint32'\n",
        "        }\n",
        "\n",
        "train = dd.read_csv('mnt/ssd/kaggle-talkingdata2/competition_files/train.csv', dtype=dtypes, usecols=(['ip', 'app', 'device', 'os', 'channel']))"
      ],
      "execution_count": 0,
      "outputs": []
    },
    {
      "cell_type": "markdown",
      "metadata": {
        "id": "JhqJJYLmurRe",
        "colab_type": "text"
      },
      "source": [
        "Want to use all of the is_attributed clicks when training dataset. Computing them from dd and pickling for later use. "
      ]
    },
    {
      "cell_type": "code",
      "metadata": {
        "id": "Db3Woc1jtG2l",
        "colab_type": "code",
        "colab": {}
      },
      "source": [
        "#creating is_attributed dataset\n",
        "is_attributed=train[train['is_attributed']==1]\n",
        "is_attributed=is_attributed.compute()\n",
        "\n",
        "outfile=open('/gdrive/My Drive/kaggle/pickles/is_attributed', 'wb')\n",
        "pickle.dump(is_attributed, outfile)\n",
        "outfile.close()\n",
        "gc.collect()"
      ],
      "execution_count": 0,
      "outputs": []
    },
    {
      "cell_type": "markdown",
      "metadata": {
        "id": "NYIKiLP8UL6L",
        "colab_type": "text"
      },
      "source": [
        "There are 456,846 is_attributed clicks,. For the negative outcome clicks, I'm going to randomly sample them from the training data. I'm going to\n",
        "downsample the data to 2-1. Using a method to randomly sample the dask object that I picked up from Stack Overflow. This method will sample across partitions which is something I was struggling with earlier. When I would try to randomly sample, it would only sample within a partition which was a problem as the training dataset is ordered by date-time."
      ]
    },
    {
      "cell_type": "code",
      "metadata": {
        "id": "aRM1lGkXf2KJ",
        "colab_type": "code",
        "colab": {}
      },
      "source": [
        "#getting random sample of dask rows\n",
        "a, b = train.random_split([0.995, 0.005], random_state=123)\n",
        "train_random=b.compute()\n",
        "\n",
        "del a, b\n",
        "gc.collect\n",
        "\n",
        "not_attributed=train_random[train_random.is_attributed==0]\n",
        "outfile=open('/gdrive/My Drive/kaggle/pickles/random_not_attributed', 'wb')\n",
        "pickle.dump(not_attributed, outfile)\n",
        "outfile.close()\n",
        "gc.collect()"
      ],
      "execution_count": 0,
      "outputs": []
    },
    {
      "cell_type": "code",
      "metadata": {
        "id": "hWz8zju4n4VS",
        "colab_type": "code",
        "colab": {}
      },
      "source": [
        "#creating training_dataset of is_attributed and not_attributed. Pickling for later use\n",
        "train_df = is_attributed.append(not_attributed)\n",
        "display(len(train_df))\n",
        "display(train_df['is_attributed'].value_counts())\n",
        "display(train_df.columns)\n",
        "\n",
        "del is_attributed, not_attributed \n",
        "gc.collect()\n",
        "\n",
        "outfile = open('/gdrive/My Drive/kaggle/pickles/train_comb', 'wb')\n",
        "pickle.dump(train_df, outfile)\n",
        "outfile.close()"
      ],
      "execution_count": 0,
      "outputs": []
    },
    {
      "cell_type": "markdown",
      "metadata": {
        "id": "O-FsbZQsN7KR",
        "colab_type": "text"
      },
      "source": [
        "Since the test dataset is day 10, hours 4, 5, 9, 10, 13, 14. We want the validation dataset to be day 9 (with the theory that day 9 will be similar to day 10 than the other days) and the same hours. Here we're subsetting the train data to create a validation dataset with these specifications"
      ]
    },
    {
      "cell_type": "code",
      "metadata": {
        "id": "VpDB9OoT2-sS",
        "colab_type": "code",
        "colab": {}
      },
      "source": [
        "validation=train[(train.day==9) & (train.hour.isin([4, 5, 9, 10, 13, 14]))]\n",
        "validation=validation.compute()"
      ],
      "execution_count": 0,
      "outputs": []
    },
    {
      "cell_type": "code",
      "metadata": {
        "id": "RwgYDuslotXq",
        "colab_type": "code",
        "outputId": "b0b9aa27-e61e-4599-84a4-36b863859b83",
        "colab": {
          "base_uri": "https://localhost:8080/",
          "height": 380
        }
      },
      "source": [
        "display(len(validation))\n",
        "display(validation['hour'].value_counts())\n",
        "display(validation.is_attributed.value_counts())\n",
        "display(validation.head(5))\n",
        "\n",
        "#creating smaller validation dataset, pickling for later use\n",
        "val_is_attributed = validation[validation['is_attributed']==1]\n",
        "val_sample = validation[validation['is_attributed']==0].sample(n=55000)\n",
        "val_sample = val_sample.append(val_is_attributed)\n",
        "\n",
        "outfile=open('/gdrive/My Drive/kaggle/pickles/val_data', 'wb')\n",
        "pickle.dump(val_sample, outfile)\n",
        "outfile.close()"
      ],
      "execution_count": 0,
      "outputs": [
        {
          "output_type": "display_data",
          "data": {
            "text/plain": [
              "20895641"
            ]
          },
          "metadata": {
            "tags": []
          }
        },
        {
          "output_type": "display_data",
          "data": {
            "text/plain": [
              "4     4032691\n",
              "5     3671741\n",
              "13    3457523\n",
              "14    3443283\n",
              "10    3304199\n",
              "9     2986204\n",
              "Name: hour, dtype: int64"
            ]
          },
          "metadata": {
            "tags": []
          }
        },
        {
          "output_type": "display_data",
          "data": {
            "text/plain": [
              "0    20843421\n",
              "1       52220\n",
              "Name: is_attributed, dtype: int64"
            ]
          },
          "metadata": {
            "tags": []
          }
        },
        {
          "output_type": "execute_result",
          "data": {
            "text/html": [
              "<div>\n",
              "<style scoped>\n",
              "    .dataframe tbody tr th:only-of-type {\n",
              "        vertical-align: middle;\n",
              "    }\n",
              "\n",
              "    .dataframe tbody tr th {\n",
              "        vertical-align: top;\n",
              "    }\n",
              "\n",
              "    .dataframe thead th {\n",
              "        text-align: right;\n",
              "    }\n",
              "</style>\n",
              "<table border=\"1\" class=\"dataframe\">\n",
              "  <thead>\n",
              "    <tr style=\"text-align: right;\">\n",
              "      <th></th>\n",
              "      <th>ip</th>\n",
              "      <th>app</th>\n",
              "      <th>device</th>\n",
              "      <th>os</th>\n",
              "      <th>channel</th>\n",
              "      <th>click_time</th>\n",
              "      <th>attributed_time</th>\n",
              "      <th>is_attributed</th>\n",
              "      <th>hour</th>\n",
              "      <th>day</th>\n",
              "    </tr>\n",
              "  </thead>\n",
              "  <tbody>\n",
              "    <tr>\n",
              "      <th>333747</th>\n",
              "      <td>272385</td>\n",
              "      <td>35</td>\n",
              "      <td>1</td>\n",
              "      <td>18</td>\n",
              "      <td>21</td>\n",
              "      <td>2017-11-09 04:00:00</td>\n",
              "      <td>2017-11-09 12:57:38</td>\n",
              "      <td>1</td>\n",
              "      <td>4</td>\n",
              "      <td>9</td>\n",
              "    </tr>\n",
              "    <tr>\n",
              "      <th>333799</th>\n",
              "      <td>159422</td>\n",
              "      <td>12</td>\n",
              "      <td>1</td>\n",
              "      <td>13</td>\n",
              "      <td>178</td>\n",
              "      <td>2017-11-09 04:00:00</td>\n",
              "      <td>2017-11-09 04:10:23</td>\n",
              "      <td>1</td>\n",
              "      <td>4</td>\n",
              "      <td>9</td>\n",
              "    </tr>\n",
              "    <tr>\n",
              "      <th>334217</th>\n",
              "      <td>314192</td>\n",
              "      <td>15</td>\n",
              "      <td>1</td>\n",
              "      <td>40</td>\n",
              "      <td>315</td>\n",
              "      <td>2017-11-09 04:00:00</td>\n",
              "      <td>2017-11-09 04:00:28</td>\n",
              "      <td>1</td>\n",
              "      <td>4</td>\n",
              "      <td>9</td>\n",
              "    </tr>\n",
              "    <tr>\n",
              "      <th>334809</th>\n",
              "      <td>70921</td>\n",
              "      <td>35</td>\n",
              "      <td>1</td>\n",
              "      <td>19</td>\n",
              "      <td>21</td>\n",
              "      <td>2017-11-09 04:00:01</td>\n",
              "      <td>2017-11-09 04:39:22</td>\n",
              "      <td>1</td>\n",
              "      <td>4</td>\n",
              "      <td>9</td>\n",
              "    </tr>\n",
              "    <tr>\n",
              "      <th>336173</th>\n",
              "      <td>38950</td>\n",
              "      <td>19</td>\n",
              "      <td>0</td>\n",
              "      <td>21</td>\n",
              "      <td>213</td>\n",
              "      <td>2017-11-09 04:00:02</td>\n",
              "      <td>2017-11-09 07:45:21</td>\n",
              "      <td>1</td>\n",
              "      <td>4</td>\n",
              "      <td>9</td>\n",
              "    </tr>\n",
              "  </tbody>\n",
              "</table>\n",
              "</div>"
            ],
            "text/plain": [
              "            ip  app  device  os  ...      attributed_time is_attributed hour  day\n",
              "333747  272385   35       1  18  ...  2017-11-09 12:57:38             1    4    9\n",
              "333799  159422   12       1  13  ...  2017-11-09 04:10:23             1    4    9\n",
              "334217  314192   15       1  40  ...  2017-11-09 04:00:28             1    4    9\n",
              "334809   70921   35       1  19  ...  2017-11-09 04:39:22             1    4    9\n",
              "336173   38950   19       0  21  ...  2017-11-09 07:45:21             1    4    9\n",
              "\n",
              "[5 rows x 10 columns]"
            ]
          },
          "metadata": {
            "tags": []
          },
          "execution_count": 51
        }
      ]
    }
  ]
}