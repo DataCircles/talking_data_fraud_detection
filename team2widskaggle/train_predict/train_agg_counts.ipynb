{
  "nbformat": 4,
  "nbformat_minor": 0,
  "metadata": {
    "colab": {
      "name": "testing__double_features_counts.ipynb",
      "version": "0.3.2",
      "provenance": []
    },
    "kernelspec": {
      "name": "python3",
      "display_name": "Python 3"
    },
    "accelerator": "GPU"
  },
  "cells": [
    {
      "cell_type": "markdown",
      "metadata": {
        "id": "qDblGJktzqjJ",
        "colab_type": "text"
      },
      "source": [
        "# Importing libraries and loading train, val, and agg count features"
      ]
    },
    {
      "cell_type": "code",
      "metadata": {
        "id": "iquJvu9VmdsE",
        "colab_type": "code",
        "outputId": "8778882d-3044-4090-da89-be5123bb7630",
        "colab": {
          "base_uri": "https://localhost:8080/",
          "height": 34
        }
      },
      "source": [
        "from google.colab import drive\n",
        "drive.mount('/gdrive')\n",
        "import seaborn as sns\n",
        "import matplotlib.pyplot as plt\n",
        "import numpy as np\n",
        "import pandas as pd\n",
        "import datetime\n",
        "import os\n",
        "import gc\n",
        "import random\n",
        "import dask.dataframe as dd\n",
        "import sys\n",
        "import pickle\n",
        "sns.set()\n",
        "import lightgbm as lgb"
      ],
      "execution_count": 0,
      "outputs": [
        {
          "output_type": "stream",
          "text": [
            "Drive already mounted at /gdrive; to attempt to forcibly remount, call drive.mount(\"/gdrive\", force_remount=True).\n"
          ],
          "name": "stdout"
        }
      ]
    },
    {
      "cell_type": "code",
      "metadata": {
        "id": "puiEZy8d4Jxa",
        "colab_type": "code",
        "colab": {}
      },
      "source": [
        "#loading double variables\n",
        "infile = open('/gdrive/My Drive/kaggle/pickles/doubles_counts', 'rb')\n",
        "double_counts = pickle.load(infile)\n",
        "infile.close()\n",
        "\n",
        "#loading train data\n",
        "infile = open('/gdrive/My Drive/kaggle/pickles/train_comb', 'rb')\n",
        "train = pickle.load(infile)\n",
        "infile.close()\n",
        "\n",
        "#loading validation data\n",
        "infile = open('/gdrive/My Drive/kaggle/pickles/val_data', 'rb')\n",
        "val_data = pickle.load(infile)\n",
        "infile.close()"
      ],
      "execution_count": 0,
      "outputs": []
    },
    {
      "cell_type": "markdown",
      "metadata": {
        "id": "-zADjVxi98gl",
        "colab_type": "text"
      },
      "source": [
        "## Merging agg counts on train and validation datasets"
      ]
    },
    {
      "cell_type": "code",
      "metadata": {
        "id": "mYj8TJGcWkQO",
        "colab_type": "code",
        "colab": {}
      },
      "source": [
        "#merging on train set\n",
        "for counts in double_counts: \n",
        "  col_name = '_'.join(counts.columns.values[0:2])\n",
        "  counts.columns.values[2] = col_name\n",
        "  train=train.merge(counts, on=list(counts.columns.values[0:2]), how='left')"
      ],
      "execution_count": 0,
      "outputs": []
    },
    {
      "cell_type": "code",
      "metadata": {
        "id": "s-R_vmXygLx6",
        "colab_type": "code",
        "outputId": "e588a80d-1b74-4bd9-84df-70b52cb5ec4e",
        "colab": {
          "base_uri": "https://localhost:8080/",
          "height": 34
        }
      },
      "source": [
        "#merging on val set\n",
        "for counts in double_counts: \n",
        "  col_name = '_'.join(counts.columns.values[0:2])\n",
        "  counts.columns.values[2] = col_name\n",
        "  val_data=val_data.merge(counts, on=list(counts.columns.values[0:2]), how='left')\n",
        "\n",
        "val_data.head(5)\n",
        "\n",
        "gc.collect()"
      ],
      "execution_count": 0,
      "outputs": [
        {
          "output_type": "execute_result",
          "data": {
            "text/plain": [
              "365"
            ]
          },
          "metadata": {
            "tags": []
          },
          "execution_count": 15
        }
      ]
    },
    {
      "cell_type": "code",
      "metadata": {
        "id": "hv8asF1zZw80",
        "colab_type": "code",
        "outputId": "02f21c32-2b2c-4cf3-aec6-058781047e25",
        "colab": {
          "base_uri": "https://localhost:8080/",
          "height": 286
        }
      },
      "source": [
        "display(train.head(5))\n",
        "display(train.columns)"
      ],
      "execution_count": 0,
      "outputs": [
        {
          "output_type": "display_data",
          "data": {
            "text/html": [
              "<div>\n",
              "<style scoped>\n",
              "    .dataframe tbody tr th:only-of-type {\n",
              "        vertical-align: middle;\n",
              "    }\n",
              "\n",
              "    .dataframe tbody tr th {\n",
              "        vertical-align: top;\n",
              "    }\n",
              "\n",
              "    .dataframe thead th {\n",
              "        text-align: right;\n",
              "    }\n",
              "</style>\n",
              "<table border=\"1\" class=\"dataframe\">\n",
              "  <thead>\n",
              "    <tr style=\"text-align: right;\">\n",
              "      <th></th>\n",
              "      <th>ip</th>\n",
              "      <th>app</th>\n",
              "      <th>device</th>\n",
              "      <th>os</th>\n",
              "      <th>channel</th>\n",
              "      <th>click_time</th>\n",
              "      <th>attributed_time</th>\n",
              "      <th>is_attributed</th>\n",
              "      <th>hour</th>\n",
              "      <th>day</th>\n",
              "      <th>ip_app</th>\n",
              "      <th>ip_device</th>\n",
              "      <th>ip_os</th>\n",
              "      <th>ip_channel</th>\n",
              "      <th>app_device</th>\n",
              "      <th>app_os</th>\n",
              "      <th>app_channel</th>\n",
              "      <th>device_os</th>\n",
              "      <th>device_channel</th>\n",
              "      <th>os_channel</th>\n",
              "    </tr>\n",
              "  </thead>\n",
              "  <tbody>\n",
              "    <tr>\n",
              "      <th>0</th>\n",
              "      <td>204158</td>\n",
              "      <td>35</td>\n",
              "      <td>1</td>\n",
              "      <td>13</td>\n",
              "      <td>21</td>\n",
              "      <td>2017-11-06 15:41:07</td>\n",
              "      <td>2017-11-07 08:17:19</td>\n",
              "      <td>1</td>\n",
              "      <td>15</td>\n",
              "      <td>6</td>\n",
              "      <td>1</td>\n",
              "      <td>472</td>\n",
              "      <td>67</td>\n",
              "      <td>1</td>\n",
              "      <td>90633</td>\n",
              "      <td>20696</td>\n",
              "      <td>62371</td>\n",
              "      <td>38270839</td>\n",
              "      <td>297384</td>\n",
              "      <td>63980</td>\n",
              "    </tr>\n",
              "    <tr>\n",
              "      <th>1</th>\n",
              "      <td>29692</td>\n",
              "      <td>9</td>\n",
              "      <td>1</td>\n",
              "      <td>22</td>\n",
              "      <td>215</td>\n",
              "      <td>2017-11-06 16:00:02</td>\n",
              "      <td>2017-11-07 10:05:22</td>\n",
              "      <td>1</td>\n",
              "      <td>16</td>\n",
              "      <td>6</td>\n",
              "      <td>538</td>\n",
              "      <td>2972</td>\n",
              "      <td>78</td>\n",
              "      <td>180</td>\n",
              "      <td>15264245</td>\n",
              "      <td>656447</td>\n",
              "      <td>1479377</td>\n",
              "      <td>7200250</td>\n",
              "      <td>1312488</td>\n",
              "      <td>53994</td>\n",
              "    </tr>\n",
              "    <tr>\n",
              "      <th>2</th>\n",
              "      <td>64516</td>\n",
              "      <td>35</td>\n",
              "      <td>1</td>\n",
              "      <td>13</td>\n",
              "      <td>21</td>\n",
              "      <td>2017-11-06 16:00:02</td>\n",
              "      <td>2017-11-06 23:40:50</td>\n",
              "      <td>1</td>\n",
              "      <td>16</td>\n",
              "      <td>6</td>\n",
              "      <td>19</td>\n",
              "      <td>15573</td>\n",
              "      <td>3739</td>\n",
              "      <td>47</td>\n",
              "      <td>90633</td>\n",
              "      <td>20696</td>\n",
              "      <td>62371</td>\n",
              "      <td>38270839</td>\n",
              "      <td>297384</td>\n",
              "      <td>63980</td>\n",
              "    </tr>\n",
              "    <tr>\n",
              "      <th>3</th>\n",
              "      <td>172429</td>\n",
              "      <td>35</td>\n",
              "      <td>1</td>\n",
              "      <td>46</td>\n",
              "      <td>274</td>\n",
              "      <td>2017-11-06 16:00:03</td>\n",
              "      <td>2017-11-07 00:55:29</td>\n",
              "      <td>1</td>\n",
              "      <td>16</td>\n",
              "      <td>6</td>\n",
              "      <td>2</td>\n",
              "      <td>1278</td>\n",
              "      <td>5</td>\n",
              "      <td>1</td>\n",
              "      <td>90633</td>\n",
              "      <td>130</td>\n",
              "      <td>28713</td>\n",
              "      <td>283146</td>\n",
              "      <td>37954</td>\n",
              "      <td>70</td>\n",
              "    </tr>\n",
              "    <tr>\n",
              "      <th>4</th>\n",
              "      <td>199085</td>\n",
              "      <td>35</td>\n",
              "      <td>1</td>\n",
              "      <td>13</td>\n",
              "      <td>274</td>\n",
              "      <td>2017-11-06 16:00:04</td>\n",
              "      <td>2017-11-06 23:04:54</td>\n",
              "      <td>1</td>\n",
              "      <td>16</td>\n",
              "      <td>6</td>\n",
              "      <td>4</td>\n",
              "      <td>1008</td>\n",
              "      <td>322</td>\n",
              "      <td>3</td>\n",
              "      <td>90633</td>\n",
              "      <td>20696</td>\n",
              "      <td>28713</td>\n",
              "      <td>38270839</td>\n",
              "      <td>37954</td>\n",
              "      <td>9047</td>\n",
              "    </tr>\n",
              "  </tbody>\n",
              "</table>\n",
              "</div>"
            ],
            "text/plain": [
              "       ip  app  device  os  ...  app_channel device_os device_channel  os_channel\n",
              "0  204158   35       1  13  ...        62371  38270839         297384       63980\n",
              "1   29692    9       1  22  ...      1479377   7200250        1312488       53994\n",
              "2   64516   35       1  13  ...        62371  38270839         297384       63980\n",
              "3  172429   35       1  46  ...        28713    283146          37954          70\n",
              "4  199085   35       1  13  ...        28713  38270839          37954        9047\n",
              "\n",
              "[5 rows x 20 columns]"
            ]
          },
          "metadata": {
            "tags": []
          }
        },
        {
          "output_type": "display_data",
          "data": {
            "text/plain": [
              "Index(['ip', 'app', 'device', 'os', 'channel', 'click_time', 'attributed_time',\n",
              "       'is_attributed', 'hour', 'day', 'ip_app', 'ip_device', 'ip_os',\n",
              "       'ip_channel', 'app_device', 'app_os', 'app_channel', 'device_os',\n",
              "       'device_channel', 'os_channel'],\n",
              "      dtype='object')"
            ]
          },
          "metadata": {
            "tags": []
          }
        }
      ]
    },
    {
      "cell_type": "code",
      "metadata": {
        "id": "YNxsIcAzYjqo",
        "colab_type": "code",
        "outputId": "720a49c2-45a0-4e96-a4df-fdfb44fcda59",
        "colab": {
          "base_uri": "https://localhost:8080/",
          "height": 6363
        }
      },
      "source": [
        "#training model with popular parameters\n",
        "target = 'is_attributed'\n",
        "predictors = ['ip', 'app', 'device', 'os', 'channel', 'hour', 'day', 'ip_app', \n",
        "              'ip_device', 'ip_os', 'ip_channel', 'app_device', 'app_os', \n",
        "              'app_channel', 'device_os', 'device_channel', 'os_channel']\n",
        "categorical = ['hour', 'day', 'app', 'device', 'os', 'channel']\n",
        "\n",
        "params = {\n",
        "    'boosting_type': 'gbdt',\n",
        "    'objective': 'binary',\n",
        "    'metric': 'auc',\n",
        "    'learning_rate': 0.1,\n",
        "    'num_leaves': 255,  \n",
        "    'max_depth': 8,  \n",
        "    'min_child_samples': 100,  \n",
        "    'max_bin': 100,  \n",
        "    'subsample': 0.7,  \n",
        "    'subsample_freq': 1,  \n",
        "    'colsample_bytree': 0.7,  \n",
        "    'min_child_weight': 0,  \n",
        "    'subsample_for_bin': 200000,  \n",
        "    'min_split_gain': 0,  \n",
        "    'reg_alpha': 0,  \n",
        "    'reg_lambda': 0,  \n",
        "   # 'nthread': 8,\n",
        "    'verbose': 0,\n",
        "    'scale_pos_weight':99 \n",
        "    }\n",
        "    \n",
        "dtrain = lgb.Dataset(train[predictors].values, label=train[target].values,\n",
        "                      feature_name=predictors,\n",
        "                      categorical_feature=categorical\n",
        "                      )\n",
        "dvalid = lgb.Dataset(val_data[predictors].values, label=val_data[target].values,\n",
        "                      feature_name=predictors,\n",
        "                      categorical_feature=categorical\n",
        "                      )\n",
        "\n",
        "evals_results = {}\n",
        "\n",
        "lgb_model = lgb.train(params, \n",
        "                 dtrain, \n",
        "                 valid_sets=[dtrain, dvalid], \n",
        "                 valid_names=['train','valid'], \n",
        "                 evals_result=evals_results, \n",
        "                 num_boost_round=350,\n",
        "                 early_stopping_rounds=30,\n",
        "                 verbose_eval=True, \n",
        "                 feval=None)"
      ],
      "execution_count": 0,
      "outputs": [
        {
          "output_type": "stream",
          "text": [
            "/usr/local/lib/python3.6/dist-packages/lightgbm/basic.py:1205: UserWarning: Using categorical_feature in Dataset.\n",
            "  warnings.warn('Using categorical_feature in Dataset.')\n",
            "/usr/local/lib/python3.6/dist-packages/lightgbm/basic.py:762: UserWarning: categorical_feature in param dict is overridden.\n",
            "  warnings.warn('categorical_feature in param dict is overridden.')\n"
          ],
          "name": "stderr"
        },
        {
          "output_type": "stream",
          "text": [
            "[1]\ttrain's auc: 0.956198\tvalid's auc: 0.950326\n",
            "Training until validation scores don't improve for 30 rounds.\n",
            "[2]\ttrain's auc: 0.969648\tvalid's auc: 0.965692\n",
            "[3]\ttrain's auc: 0.971337\tvalid's auc: 0.967524\n",
            "[4]\ttrain's auc: 0.972405\tvalid's auc: 0.968905\n",
            "[5]\ttrain's auc: 0.972189\tvalid's auc: 0.968543\n",
            "[6]\ttrain's auc: 0.972896\tvalid's auc: 0.969339\n",
            "[7]\ttrain's auc: 0.973425\tvalid's auc: 0.969704\n",
            "[8]\ttrain's auc: 0.973633\tvalid's auc: 0.970039\n",
            "[9]\ttrain's auc: 0.973781\tvalid's auc: 0.970215\n",
            "[10]\ttrain's auc: 0.973885\tvalid's auc: 0.97036\n",
            "[11]\ttrain's auc: 0.974\tvalid's auc: 0.970529\n",
            "[12]\ttrain's auc: 0.974143\tvalid's auc: 0.970718\n",
            "[13]\ttrain's auc: 0.974302\tvalid's auc: 0.970864\n",
            "[14]\ttrain's auc: 0.974362\tvalid's auc: 0.970915\n",
            "[15]\ttrain's auc: 0.974421\tvalid's auc: 0.971056\n",
            "[16]\ttrain's auc: 0.97447\tvalid's auc: 0.971125\n",
            "[17]\ttrain's auc: 0.974607\tvalid's auc: 0.971263\n",
            "[18]\ttrain's auc: 0.974648\tvalid's auc: 0.971322\n",
            "[19]\ttrain's auc: 0.974738\tvalid's auc: 0.971387\n",
            "[20]\ttrain's auc: 0.974785\tvalid's auc: 0.97144\n",
            "[21]\ttrain's auc: 0.974837\tvalid's auc: 0.971528\n",
            "[22]\ttrain's auc: 0.974897\tvalid's auc: 0.971604\n",
            "[23]\ttrain's auc: 0.974936\tvalid's auc: 0.971651\n",
            "[24]\ttrain's auc: 0.974983\tvalid's auc: 0.971714\n",
            "[25]\ttrain's auc: 0.975013\tvalid's auc: 0.971747\n",
            "[26]\ttrain's auc: 0.975169\tvalid's auc: 0.971882\n",
            "[27]\ttrain's auc: 0.975238\tvalid's auc: 0.971974\n",
            "[28]\ttrain's auc: 0.975297\tvalid's auc: 0.972043\n",
            "[29]\ttrain's auc: 0.97537\tvalid's auc: 0.972117\n",
            "[30]\ttrain's auc: 0.975429\tvalid's auc: 0.972188\n",
            "[31]\ttrain's auc: 0.975517\tvalid's auc: 0.972297\n",
            "[32]\ttrain's auc: 0.975586\tvalid's auc: 0.972344\n",
            "[33]\ttrain's auc: 0.975635\tvalid's auc: 0.972393\n",
            "[34]\ttrain's auc: 0.975677\tvalid's auc: 0.972454\n",
            "[35]\ttrain's auc: 0.975731\tvalid's auc: 0.972519\n",
            "[36]\ttrain's auc: 0.975823\tvalid's auc: 0.972604\n",
            "[37]\ttrain's auc: 0.975876\tvalid's auc: 0.972674\n",
            "[38]\ttrain's auc: 0.975962\tvalid's auc: 0.972748\n",
            "[39]\ttrain's auc: 0.976007\tvalid's auc: 0.972811\n",
            "[40]\ttrain's auc: 0.976018\tvalid's auc: 0.972835\n",
            "[41]\ttrain's auc: 0.976067\tvalid's auc: 0.972907\n",
            "[42]\ttrain's auc: 0.976115\tvalid's auc: 0.972962\n",
            "[43]\ttrain's auc: 0.976205\tvalid's auc: 0.973049\n",
            "[44]\ttrain's auc: 0.976285\tvalid's auc: 0.973135\n",
            "[45]\ttrain's auc: 0.976343\tvalid's auc: 0.973186\n",
            "[46]\ttrain's auc: 0.976375\tvalid's auc: 0.973215\n",
            "[47]\ttrain's auc: 0.976418\tvalid's auc: 0.973274\n",
            "[48]\ttrain's auc: 0.976454\tvalid's auc: 0.97331\n",
            "[49]\ttrain's auc: 0.976536\tvalid's auc: 0.97339\n",
            "[50]\ttrain's auc: 0.976636\tvalid's auc: 0.973492\n",
            "[51]\ttrain's auc: 0.976701\tvalid's auc: 0.973557\n",
            "[52]\ttrain's auc: 0.976789\tvalid's auc: 0.973673\n",
            "[53]\ttrain's auc: 0.976825\tvalid's auc: 0.973696\n",
            "[54]\ttrain's auc: 0.976892\tvalid's auc: 0.97377\n",
            "[55]\ttrain's auc: 0.976943\tvalid's auc: 0.97381\n",
            "[56]\ttrain's auc: 0.976991\tvalid's auc: 0.973877\n",
            "[57]\ttrain's auc: 0.977085\tvalid's auc: 0.973955\n",
            "[58]\ttrain's auc: 0.977156\tvalid's auc: 0.974034\n",
            "[59]\ttrain's auc: 0.977211\tvalid's auc: 0.974107\n",
            "[60]\ttrain's auc: 0.977263\tvalid's auc: 0.974147\n",
            "[61]\ttrain's auc: 0.977309\tvalid's auc: 0.974195\n",
            "[62]\ttrain's auc: 0.977386\tvalid's auc: 0.974272\n",
            "[63]\ttrain's auc: 0.977479\tvalid's auc: 0.974364\n",
            "[64]\ttrain's auc: 0.977528\tvalid's auc: 0.974431\n",
            "[65]\ttrain's auc: 0.977587\tvalid's auc: 0.974492\n",
            "[66]\ttrain's auc: 0.977644\tvalid's auc: 0.97454\n",
            "[67]\ttrain's auc: 0.9777\tvalid's auc: 0.97459\n",
            "[68]\ttrain's auc: 0.977739\tvalid's auc: 0.974631\n",
            "[69]\ttrain's auc: 0.977765\tvalid's auc: 0.974648\n",
            "[70]\ttrain's auc: 0.977799\tvalid's auc: 0.974676\n",
            "[71]\ttrain's auc: 0.977826\tvalid's auc: 0.974706\n",
            "[72]\ttrain's auc: 0.977852\tvalid's auc: 0.974726\n",
            "[73]\ttrain's auc: 0.977887\tvalid's auc: 0.974761\n",
            "[74]\ttrain's auc: 0.97791\tvalid's auc: 0.974783\n",
            "[75]\ttrain's auc: 0.977973\tvalid's auc: 0.974844\n",
            "[76]\ttrain's auc: 0.977997\tvalid's auc: 0.974862\n",
            "[77]\ttrain's auc: 0.978027\tvalid's auc: 0.974891\n",
            "[78]\ttrain's auc: 0.978054\tvalid's auc: 0.974912\n",
            "[79]\ttrain's auc: 0.978089\tvalid's auc: 0.974949\n",
            "[80]\ttrain's auc: 0.978123\tvalid's auc: 0.97498\n",
            "[81]\ttrain's auc: 0.978151\tvalid's auc: 0.974998\n",
            "[82]\ttrain's auc: 0.978187\tvalid's auc: 0.975045\n",
            "[83]\ttrain's auc: 0.978216\tvalid's auc: 0.975066\n",
            "[84]\ttrain's auc: 0.97828\tvalid's auc: 0.975124\n",
            "[85]\ttrain's auc: 0.978336\tvalid's auc: 0.975166\n",
            "[86]\ttrain's auc: 0.978371\tvalid's auc: 0.9752\n",
            "[87]\ttrain's auc: 0.978398\tvalid's auc: 0.975221\n",
            "[88]\ttrain's auc: 0.978422\tvalid's auc: 0.975247\n",
            "[89]\ttrain's auc: 0.978441\tvalid's auc: 0.975268\n",
            "[90]\ttrain's auc: 0.978474\tvalid's auc: 0.975301\n",
            "[91]\ttrain's auc: 0.978497\tvalid's auc: 0.975318\n",
            "[92]\ttrain's auc: 0.978525\tvalid's auc: 0.97535\n",
            "[93]\ttrain's auc: 0.97857\tvalid's auc: 0.975402\n",
            "[94]\ttrain's auc: 0.9786\tvalid's auc: 0.975426\n",
            "[95]\ttrain's auc: 0.978635\tvalid's auc: 0.97546\n",
            "[96]\ttrain's auc: 0.97868\tvalid's auc: 0.975506\n",
            "[97]\ttrain's auc: 0.978714\tvalid's auc: 0.975545\n",
            "[98]\ttrain's auc: 0.978752\tvalid's auc: 0.975577\n",
            "[99]\ttrain's auc: 0.97882\tvalid's auc: 0.975653\n",
            "[100]\ttrain's auc: 0.978863\tvalid's auc: 0.97569\n",
            "[101]\ttrain's auc: 0.97889\tvalid's auc: 0.975717\n",
            "[102]\ttrain's auc: 0.978943\tvalid's auc: 0.97576\n",
            "[103]\ttrain's auc: 0.978996\tvalid's auc: 0.975809\n",
            "[104]\ttrain's auc: 0.979028\tvalid's auc: 0.97584\n",
            "[105]\ttrain's auc: 0.979084\tvalid's auc: 0.975887\n",
            "[106]\ttrain's auc: 0.979138\tvalid's auc: 0.97594\n",
            "[107]\ttrain's auc: 0.979187\tvalid's auc: 0.975978\n",
            "[108]\ttrain's auc: 0.97922\tvalid's auc: 0.976013\n",
            "[109]\ttrain's auc: 0.979272\tvalid's auc: 0.976063\n",
            "[110]\ttrain's auc: 0.979317\tvalid's auc: 0.976101\n",
            "[111]\ttrain's auc: 0.97936\tvalid's auc: 0.976142\n",
            "[112]\ttrain's auc: 0.979403\tvalid's auc: 0.976182\n",
            "[113]\ttrain's auc: 0.979453\tvalid's auc: 0.976226\n",
            "[114]\ttrain's auc: 0.979497\tvalid's auc: 0.97628\n",
            "[115]\ttrain's auc: 0.979549\tvalid's auc: 0.976332\n",
            "[116]\ttrain's auc: 0.979576\tvalid's auc: 0.976352\n",
            "[117]\ttrain's auc: 0.979607\tvalid's auc: 0.976377\n",
            "[118]\ttrain's auc: 0.97963\tvalid's auc: 0.976404\n",
            "[119]\ttrain's auc: 0.979687\tvalid's auc: 0.976483\n",
            "[120]\ttrain's auc: 0.979749\tvalid's auc: 0.976537\n",
            "[121]\ttrain's auc: 0.979798\tvalid's auc: 0.976581\n",
            "[122]\ttrain's auc: 0.979852\tvalid's auc: 0.976637\n",
            "[123]\ttrain's auc: 0.979881\tvalid's auc: 0.976663\n",
            "[124]\ttrain's auc: 0.979916\tvalid's auc: 0.976702\n",
            "[125]\ttrain's auc: 0.979958\tvalid's auc: 0.976746\n",
            "[126]\ttrain's auc: 0.979999\tvalid's auc: 0.976803\n",
            "[127]\ttrain's auc: 0.980019\tvalid's auc: 0.976824\n",
            "[128]\ttrain's auc: 0.980043\tvalid's auc: 0.976853\n",
            "[129]\ttrain's auc: 0.980067\tvalid's auc: 0.97688\n",
            "[130]\ttrain's auc: 0.980094\tvalid's auc: 0.976909\n",
            "[131]\ttrain's auc: 0.980145\tvalid's auc: 0.976942\n",
            "[132]\ttrain's auc: 0.980192\tvalid's auc: 0.976991\n",
            "[133]\ttrain's auc: 0.980224\tvalid's auc: 0.977019\n",
            "[134]\ttrain's auc: 0.980274\tvalid's auc: 0.977051\n",
            "[135]\ttrain's auc: 0.980323\tvalid's auc: 0.977126\n",
            "[136]\ttrain's auc: 0.980377\tvalid's auc: 0.97716\n",
            "[137]\ttrain's auc: 0.980409\tvalid's auc: 0.977185\n",
            "[138]\ttrain's auc: 0.980447\tvalid's auc: 0.97723\n",
            "[139]\ttrain's auc: 0.980482\tvalid's auc: 0.977258\n",
            "[140]\ttrain's auc: 0.980523\tvalid's auc: 0.977305\n",
            "[141]\ttrain's auc: 0.980547\tvalid's auc: 0.977331\n",
            "[142]\ttrain's auc: 0.980576\tvalid's auc: 0.977371\n",
            "[143]\ttrain's auc: 0.980599\tvalid's auc: 0.977395\n",
            "[144]\ttrain's auc: 0.980638\tvalid's auc: 0.97742\n",
            "[145]\ttrain's auc: 0.980666\tvalid's auc: 0.977434\n",
            "[146]\ttrain's auc: 0.980709\tvalid's auc: 0.977481\n",
            "[147]\ttrain's auc: 0.980751\tvalid's auc: 0.977529\n",
            "[148]\ttrain's auc: 0.980789\tvalid's auc: 0.977574\n",
            "[149]\ttrain's auc: 0.980826\tvalid's auc: 0.977608\n",
            "[150]\ttrain's auc: 0.980868\tvalid's auc: 0.977647\n",
            "[151]\ttrain's auc: 0.980908\tvalid's auc: 0.977682\n",
            "[152]\ttrain's auc: 0.98095\tvalid's auc: 0.977707\n",
            "[153]\ttrain's auc: 0.980971\tvalid's auc: 0.977731\n",
            "[154]\ttrain's auc: 0.980992\tvalid's auc: 0.977755\n",
            "[155]\ttrain's auc: 0.981018\tvalid's auc: 0.977777\n",
            "[156]\ttrain's auc: 0.981054\tvalid's auc: 0.977809\n",
            "[157]\ttrain's auc: 0.981068\tvalid's auc: 0.977825\n",
            "[158]\ttrain's auc: 0.981103\tvalid's auc: 0.977873\n",
            "[159]\ttrain's auc: 0.981142\tvalid's auc: 0.977908\n",
            "[160]\ttrain's auc: 0.981173\tvalid's auc: 0.977932\n",
            "[161]\ttrain's auc: 0.981193\tvalid's auc: 0.977941\n",
            "[162]\ttrain's auc: 0.981217\tvalid's auc: 0.977964\n",
            "[163]\ttrain's auc: 0.981248\tvalid's auc: 0.977988\n",
            "[164]\ttrain's auc: 0.981273\tvalid's auc: 0.978014\n",
            "[165]\ttrain's auc: 0.981294\tvalid's auc: 0.978039\n",
            "[166]\ttrain's auc: 0.981334\tvalid's auc: 0.978088\n",
            "[167]\ttrain's auc: 0.981353\tvalid's auc: 0.978112\n",
            "[168]\ttrain's auc: 0.981388\tvalid's auc: 0.978136\n",
            "[169]\ttrain's auc: 0.981428\tvalid's auc: 0.97818\n",
            "[170]\ttrain's auc: 0.981458\tvalid's auc: 0.97821\n",
            "[171]\ttrain's auc: 0.981495\tvalid's auc: 0.97824\n",
            "[172]\ttrain's auc: 0.981517\tvalid's auc: 0.978257\n",
            "[173]\ttrain's auc: 0.981544\tvalid's auc: 0.978284\n",
            "[174]\ttrain's auc: 0.981572\tvalid's auc: 0.97831\n",
            "[175]\ttrain's auc: 0.981594\tvalid's auc: 0.978328\n",
            "[176]\ttrain's auc: 0.981629\tvalid's auc: 0.978358\n",
            "[177]\ttrain's auc: 0.981664\tvalid's auc: 0.978393\n",
            "[178]\ttrain's auc: 0.981689\tvalid's auc: 0.978419\n",
            "[179]\ttrain's auc: 0.981722\tvalid's auc: 0.978447\n",
            "[180]\ttrain's auc: 0.981744\tvalid's auc: 0.97847\n",
            "[181]\ttrain's auc: 0.981774\tvalid's auc: 0.978501\n",
            "[182]\ttrain's auc: 0.981795\tvalid's auc: 0.978524\n",
            "[183]\ttrain's auc: 0.981834\tvalid's auc: 0.978564\n",
            "[184]\ttrain's auc: 0.981866\tvalid's auc: 0.978605\n",
            "[185]\ttrain's auc: 0.981909\tvalid's auc: 0.978655\n",
            "[186]\ttrain's auc: 0.981938\tvalid's auc: 0.978688\n",
            "[187]\ttrain's auc: 0.981967\tvalid's auc: 0.978715\n",
            "[188]\ttrain's auc: 0.981992\tvalid's auc: 0.978738\n",
            "[189]\ttrain's auc: 0.982031\tvalid's auc: 0.97878\n",
            "[190]\ttrain's auc: 0.98206\tvalid's auc: 0.978811\n",
            "[191]\ttrain's auc: 0.982088\tvalid's auc: 0.978833\n",
            "[192]\ttrain's auc: 0.982109\tvalid's auc: 0.978856\n",
            "[193]\ttrain's auc: 0.98213\tvalid's auc: 0.978888\n",
            "[194]\ttrain's auc: 0.982161\tvalid's auc: 0.978915\n",
            "[195]\ttrain's auc: 0.982193\tvalid's auc: 0.978943\n",
            "[196]\ttrain's auc: 0.982232\tvalid's auc: 0.978979\n",
            "[197]\ttrain's auc: 0.982258\tvalid's auc: 0.979006\n",
            "[198]\ttrain's auc: 0.982281\tvalid's auc: 0.979034\n",
            "[199]\ttrain's auc: 0.982297\tvalid's auc: 0.979047\n",
            "[200]\ttrain's auc: 0.982324\tvalid's auc: 0.979067\n",
            "[201]\ttrain's auc: 0.982365\tvalid's auc: 0.979095\n",
            "[202]\ttrain's auc: 0.982392\tvalid's auc: 0.979108\n",
            "[203]\ttrain's auc: 0.982413\tvalid's auc: 0.979132\n",
            "[204]\ttrain's auc: 0.982439\tvalid's auc: 0.979153\n",
            "[205]\ttrain's auc: 0.982467\tvalid's auc: 0.979177\n",
            "[206]\ttrain's auc: 0.982493\tvalid's auc: 0.979192\n",
            "[207]\ttrain's auc: 0.982516\tvalid's auc: 0.979207\n",
            "[208]\ttrain's auc: 0.98255\tvalid's auc: 0.979253\n",
            "[209]\ttrain's auc: 0.982571\tvalid's auc: 0.97928\n",
            "[210]\ttrain's auc: 0.982599\tvalid's auc: 0.979298\n",
            "[211]\ttrain's auc: 0.98263\tvalid's auc: 0.979328\n",
            "[212]\ttrain's auc: 0.982652\tvalid's auc: 0.979348\n",
            "[213]\ttrain's auc: 0.982687\tvalid's auc: 0.979377\n",
            "[214]\ttrain's auc: 0.982713\tvalid's auc: 0.979408\n",
            "[215]\ttrain's auc: 0.982734\tvalid's auc: 0.97943\n",
            "[216]\ttrain's auc: 0.982767\tvalid's auc: 0.979466\n",
            "[217]\ttrain's auc: 0.982796\tvalid's auc: 0.979487\n",
            "[218]\ttrain's auc: 0.982819\tvalid's auc: 0.979514\n",
            "[219]\ttrain's auc: 0.98284\tvalid's auc: 0.979525\n",
            "[220]\ttrain's auc: 0.982871\tvalid's auc: 0.979563\n",
            "[221]\ttrain's auc: 0.982894\tvalid's auc: 0.979586\n",
            "[222]\ttrain's auc: 0.982916\tvalid's auc: 0.979605\n",
            "[223]\ttrain's auc: 0.982939\tvalid's auc: 0.979631\n",
            "[224]\ttrain's auc: 0.982965\tvalid's auc: 0.979651\n",
            "[225]\ttrain's auc: 0.982994\tvalid's auc: 0.979678\n",
            "[226]\ttrain's auc: 0.983015\tvalid's auc: 0.979698\n",
            "[227]\ttrain's auc: 0.983042\tvalid's auc: 0.979718\n",
            "[228]\ttrain's auc: 0.983068\tvalid's auc: 0.979744\n",
            "[229]\ttrain's auc: 0.983094\tvalid's auc: 0.979763\n",
            "[230]\ttrain's auc: 0.983121\tvalid's auc: 0.97979\n",
            "[231]\ttrain's auc: 0.983148\tvalid's auc: 0.979822\n",
            "[232]\ttrain's auc: 0.983172\tvalid's auc: 0.979847\n",
            "[233]\ttrain's auc: 0.983194\tvalid's auc: 0.979871\n",
            "[234]\ttrain's auc: 0.983214\tvalid's auc: 0.979892\n",
            "[235]\ttrain's auc: 0.983231\tvalid's auc: 0.979904\n",
            "[236]\ttrain's auc: 0.983253\tvalid's auc: 0.979922\n",
            "[237]\ttrain's auc: 0.983273\tvalid's auc: 0.979934\n",
            "[238]\ttrain's auc: 0.98329\tvalid's auc: 0.97995\n",
            "[239]\ttrain's auc: 0.983302\tvalid's auc: 0.979963\n",
            "[240]\ttrain's auc: 0.983324\tvalid's auc: 0.979976\n",
            "[241]\ttrain's auc: 0.983353\tvalid's auc: 0.980003\n",
            "[242]\ttrain's auc: 0.983378\tvalid's auc: 0.980028\n",
            "[243]\ttrain's auc: 0.983395\tvalid's auc: 0.980044\n",
            "[244]\ttrain's auc: 0.983413\tvalid's auc: 0.980068\n",
            "[245]\ttrain's auc: 0.983437\tvalid's auc: 0.980091\n",
            "[246]\ttrain's auc: 0.983468\tvalid's auc: 0.980144\n",
            "[247]\ttrain's auc: 0.983495\tvalid's auc: 0.98017\n",
            "[248]\ttrain's auc: 0.983509\tvalid's auc: 0.980186\n",
            "[249]\ttrain's auc: 0.983524\tvalid's auc: 0.980204\n",
            "[250]\ttrain's auc: 0.983546\tvalid's auc: 0.980227\n",
            "[251]\ttrain's auc: 0.983566\tvalid's auc: 0.980252\n",
            "[252]\ttrain's auc: 0.98359\tvalid's auc: 0.980269\n",
            "[253]\ttrain's auc: 0.983607\tvalid's auc: 0.980286\n",
            "[254]\ttrain's auc: 0.98364\tvalid's auc: 0.98032\n",
            "[255]\ttrain's auc: 0.983663\tvalid's auc: 0.980353\n",
            "[256]\ttrain's auc: 0.983687\tvalid's auc: 0.980381\n",
            "[257]\ttrain's auc: 0.98371\tvalid's auc: 0.980403\n",
            "[258]\ttrain's auc: 0.983727\tvalid's auc: 0.980416\n",
            "[259]\ttrain's auc: 0.983747\tvalid's auc: 0.980436\n",
            "[260]\ttrain's auc: 0.983777\tvalid's auc: 0.980467\n",
            "[261]\ttrain's auc: 0.983797\tvalid's auc: 0.980488\n",
            "[262]\ttrain's auc: 0.983812\tvalid's auc: 0.980504\n",
            "[263]\ttrain's auc: 0.983835\tvalid's auc: 0.980518\n",
            "[264]\ttrain's auc: 0.983859\tvalid's auc: 0.980544\n",
            "[265]\ttrain's auc: 0.983885\tvalid's auc: 0.980569\n",
            "[266]\ttrain's auc: 0.983912\tvalid's auc: 0.980602\n",
            "[267]\ttrain's auc: 0.983939\tvalid's auc: 0.980632\n",
            "[268]\ttrain's auc: 0.983954\tvalid's auc: 0.980649\n",
            "[269]\ttrain's auc: 0.983973\tvalid's auc: 0.980663\n",
            "[270]\ttrain's auc: 0.983997\tvalid's auc: 0.980685\n",
            "[271]\ttrain's auc: 0.984022\tvalid's auc: 0.980714\n",
            "[272]\ttrain's auc: 0.984047\tvalid's auc: 0.980746\n",
            "[273]\ttrain's auc: 0.984067\tvalid's auc: 0.980763\n",
            "[274]\ttrain's auc: 0.984087\tvalid's auc: 0.980778\n",
            "[275]\ttrain's auc: 0.984105\tvalid's auc: 0.980799\n",
            "[276]\ttrain's auc: 0.98412\tvalid's auc: 0.980811\n",
            "[277]\ttrain's auc: 0.984142\tvalid's auc: 0.980829\n",
            "[278]\ttrain's auc: 0.984159\tvalid's auc: 0.980842\n",
            "[279]\ttrain's auc: 0.984181\tvalid's auc: 0.980854\n",
            "[280]\ttrain's auc: 0.984202\tvalid's auc: 0.98088\n",
            "[281]\ttrain's auc: 0.984225\tvalid's auc: 0.980899\n",
            "[282]\ttrain's auc: 0.984247\tvalid's auc: 0.980921\n",
            "[283]\ttrain's auc: 0.984263\tvalid's auc: 0.980935\n",
            "[284]\ttrain's auc: 0.984288\tvalid's auc: 0.980961\n",
            "[285]\ttrain's auc: 0.9843\tvalid's auc: 0.980968\n",
            "[286]\ttrain's auc: 0.984315\tvalid's auc: 0.980973\n",
            "[287]\ttrain's auc: 0.984338\tvalid's auc: 0.980997\n",
            "[288]\ttrain's auc: 0.984363\tvalid's auc: 0.981028\n",
            "[289]\ttrain's auc: 0.984385\tvalid's auc: 0.981042\n",
            "[290]\ttrain's auc: 0.984405\tvalid's auc: 0.981058\n",
            "[291]\ttrain's auc: 0.984427\tvalid's auc: 0.981079\n",
            "[292]\ttrain's auc: 0.984441\tvalid's auc: 0.981093\n",
            "[293]\ttrain's auc: 0.984462\tvalid's auc: 0.981103\n",
            "[294]\ttrain's auc: 0.984482\tvalid's auc: 0.981126\n",
            "[295]\ttrain's auc: 0.984501\tvalid's auc: 0.981132\n",
            "[296]\ttrain's auc: 0.984521\tvalid's auc: 0.981152\n",
            "[297]\ttrain's auc: 0.984536\tvalid's auc: 0.981171\n",
            "[298]\ttrain's auc: 0.984554\tvalid's auc: 0.981191\n",
            "[299]\ttrain's auc: 0.984579\tvalid's auc: 0.981207\n",
            "[300]\ttrain's auc: 0.9846\tvalid's auc: 0.981223\n",
            "[301]\ttrain's auc: 0.984621\tvalid's auc: 0.98124\n",
            "[302]\ttrain's auc: 0.984641\tvalid's auc: 0.981257\n",
            "[303]\ttrain's auc: 0.984657\tvalid's auc: 0.981275\n",
            "[304]\ttrain's auc: 0.984682\tvalid's auc: 0.981298\n",
            "[305]\ttrain's auc: 0.984699\tvalid's auc: 0.981313\n",
            "[306]\ttrain's auc: 0.984718\tvalid's auc: 0.981329\n",
            "[307]\ttrain's auc: 0.984731\tvalid's auc: 0.981338\n",
            "[308]\ttrain's auc: 0.984755\tvalid's auc: 0.981357\n",
            "[309]\ttrain's auc: 0.984771\tvalid's auc: 0.981368\n",
            "[310]\ttrain's auc: 0.98479\tvalid's auc: 0.981385\n",
            "[311]\ttrain's auc: 0.984808\tvalid's auc: 0.981398\n",
            "[312]\ttrain's auc: 0.984823\tvalid's auc: 0.981414\n",
            "[313]\ttrain's auc: 0.984847\tvalid's auc: 0.981438\n",
            "[314]\ttrain's auc: 0.984865\tvalid's auc: 0.981451\n",
            "[315]\ttrain's auc: 0.98488\tvalid's auc: 0.981464\n",
            "[316]\ttrain's auc: 0.984902\tvalid's auc: 0.981484\n",
            "[317]\ttrain's auc: 0.984915\tvalid's auc: 0.981499\n",
            "[318]\ttrain's auc: 0.98493\tvalid's auc: 0.98152\n",
            "[319]\ttrain's auc: 0.984952\tvalid's auc: 0.981544\n",
            "[320]\ttrain's auc: 0.984972\tvalid's auc: 0.981565\n",
            "[321]\ttrain's auc: 0.984987\tvalid's auc: 0.98158\n",
            "[322]\ttrain's auc: 0.985012\tvalid's auc: 0.981597\n",
            "[323]\ttrain's auc: 0.985027\tvalid's auc: 0.98161\n",
            "[324]\ttrain's auc: 0.985038\tvalid's auc: 0.981613\n",
            "[325]\ttrain's auc: 0.985055\tvalid's auc: 0.981624\n",
            "[326]\ttrain's auc: 0.985069\tvalid's auc: 0.98164\n",
            "[327]\ttrain's auc: 0.985079\tvalid's auc: 0.981653\n",
            "[328]\ttrain's auc: 0.985098\tvalid's auc: 0.981671\n",
            "[329]\ttrain's auc: 0.985119\tvalid's auc: 0.981693\n",
            "[330]\ttrain's auc: 0.985133\tvalid's auc: 0.981707\n",
            "[331]\ttrain's auc: 0.985151\tvalid's auc: 0.981716\n",
            "[332]\ttrain's auc: 0.985169\tvalid's auc: 0.981742\n",
            "[333]\ttrain's auc: 0.985193\tvalid's auc: 0.981775\n",
            "[334]\ttrain's auc: 0.985212\tvalid's auc: 0.981793\n",
            "[335]\ttrain's auc: 0.985228\tvalid's auc: 0.981808\n",
            "[336]\ttrain's auc: 0.985242\tvalid's auc: 0.981824\n",
            "[337]\ttrain's auc: 0.98526\tvalid's auc: 0.981838\n",
            "[338]\ttrain's auc: 0.985273\tvalid's auc: 0.981851\n",
            "[339]\ttrain's auc: 0.985287\tvalid's auc: 0.981865\n",
            "[340]\ttrain's auc: 0.985303\tvalid's auc: 0.981881\n",
            "[341]\ttrain's auc: 0.985318\tvalid's auc: 0.98189\n",
            "[342]\ttrain's auc: 0.985333\tvalid's auc: 0.981899\n",
            "[343]\ttrain's auc: 0.985351\tvalid's auc: 0.981912\n",
            "[344]\ttrain's auc: 0.985362\tvalid's auc: 0.981928\n",
            "[345]\ttrain's auc: 0.985378\tvalid's auc: 0.981943\n",
            "[346]\ttrain's auc: 0.985396\tvalid's auc: 0.981957\n",
            "[347]\ttrain's auc: 0.985413\tvalid's auc: 0.981984\n",
            "[348]\ttrain's auc: 0.985431\tvalid's auc: 0.982004\n",
            "[349]\ttrain's auc: 0.98544\tvalid's auc: 0.982016\n",
            "[350]\ttrain's auc: 0.985452\tvalid's auc: 0.982028\n",
            "Did not meet early stopping. Best iteration is:\n",
            "[350]\ttrain's auc: 0.985452\tvalid's auc: 0.982028\n"
          ],
          "name": "stdout"
        }
      ]
    },
    {
      "cell_type": "markdown",
      "metadata": {
        "id": "KB3IMbalep2o",
        "colab_type": "text"
      },
      "source": [
        ""
      ]
    },
    {
      "cell_type": "code",
      "metadata": {
        "id": "SrwLURJ-cKDC",
        "colab_type": "code",
        "outputId": "1f8d821f-5c12-410d-a2c4-2426016bd749",
        "colab": {
          "base_uri": "https://localhost:8080/",
          "height": 318
        }
      },
      "source": [
        "lgb.plot_importance(lgb_model, importance_type='split')\n",
        "gc.collect()"
      ],
      "execution_count": 0,
      "outputs": [
        {
          "output_type": "execute_result",
          "data": {
            "text/plain": [
              "252"
            ]
          },
          "metadata": {
            "tags": []
          },
          "execution_count": 19
        },
        {
          "output_type": "display_data",
          "data": {
            "image/png": "[encoded data removed]",
            "text/plain": [
              "<Figure size 432x288 with 1 Axes>"
            ]
          },
          "metadata": {
            "tags": []
          }
        }
      ]
    },
    {
      "cell_type": "code",
      "metadata": {
        "id": "tb6q-v6TjARs",
        "colab_type": "code",
        "outputId": "6de2779a-1533-4549-8ba8-abb7a7193eaf",
        "colab": {
          "base_uri": "https://localhost:8080/",
          "height": 318
        }
      },
      "source": [
        "lgb.plot_importance(lgb_model, importance_type='gain')\n",
        "gc.collect()"
      ],
      "execution_count": 0,
      "outputs": [
        {
          "output_type": "execute_result",
          "data": {
            "text/plain": [
              "4025"
            ]
          },
          "metadata": {
            "tags": []
          },
          "execution_count": 20
        },
        {
          "output_type": "display_data",
          "data": {
            "image/png": "[encoded data removed]",
            "text/plain": [
              "<Figure size 432x288 with 1 Axes>"
            ]
          },
          "metadata": {
            "tags": []
          }
        }
      ]
    },
    {
      "cell_type": "markdown",
      "metadata": {
        "id": "ag0sCYIz8ajm",
        "colab_type": "text"
      },
      "source": [
        "it looks like channel, os, and app are important by themselves. Device by itself is the least important and I'm going to remove all of the device interactions. Also removing day.  os_channel seems like it has a very low gain relative to how often it was used. Not sure why this is, but I'm going to remove this feature as well. "
      ]
    },
    {
      "cell_type": "code",
      "metadata": {
        "id": "MuI_6wqgqyUN",
        "colab_type": "code",
        "outputId": "1b934b5c-6ec8-4d50-8c83-e443b5b0eb24",
        "colab": {
          "base_uri": "https://localhost:8080/",
          "height": 34
        }
      },
      "source": [
        "gc.collect()"
      ],
      "execution_count": 0,
      "outputs": [
        {
          "output_type": "execute_result",
          "data": {
            "text/plain": [
              "0"
            ]
          },
          "metadata": {
            "tags": []
          },
          "execution_count": 22
        }
      ]
    },
    {
      "cell_type": "markdown",
      "metadata": {
        "id": "uMj4HpEc-Lzg",
        "colab_type": "text"
      },
      "source": [
        "# Training round 2\n",
        "\n",
        "Training model after removing low importance features"
      ]
    },
    {
      "cell_type": "code",
      "metadata": {
        "id": "buarWUU2nVMh",
        "colab_type": "code",
        "outputId": "db7b3413-a1ac-434a-90e1-b7fa984b1002",
        "colab": {
          "base_uri": "https://localhost:8080/",
          "height": 6363
        }
      },
      "source": [
        "#training model with popular parameters\n",
        "target = 'is_attributed'\n",
        "predictors = ['ip', 'app', 'os', 'channel', 'hour', 'ip_app', 'ip_os', 'ip_channel', \n",
        "               'app_os', 'app_channel']\n",
        "categorical = ['hour', 'app', 'os', 'channel']\n",
        "\n",
        "params = {\n",
        "    'boosting_type': 'gbdt',\n",
        "    'objective': 'binary',\n",
        "    'metric': 'auc',\n",
        "    'learning_rate': 0.1,\n",
        "    'num_leaves': 255,  \n",
        "    'max_depth': 8,  \n",
        "    'min_child_samples': 100,  \n",
        "    'max_bin': 100,  \n",
        "    'subsample': 0.7,  \n",
        "    'subsample_freq': 1,  \n",
        "    'colsample_bytree': 0.7,  \n",
        "    'min_child_weight': 0,  \n",
        "    'subsample_for_bin': 200000,  \n",
        "    'min_split_gain': 0,  \n",
        "    'reg_alpha': 0,  \n",
        "    'reg_lambda': 0,  \n",
        "   # 'nthread': 8,\n",
        "    'verbose': 0,\n",
        "    'scale_pos_weight':99 \n",
        "    }\n",
        "    \n",
        "dtrain = lgb.Dataset(train[predictors].values, label=train[target].values,\n",
        "                      feature_name=predictors,\n",
        "                      categorical_feature=categorical\n",
        "                      )\n",
        "dvalid = lgb.Dataset(val_data[predictors].values, label=val_data[target].values,\n",
        "                      feature_name=predictors,\n",
        "                      categorical_feature=categorical\n",
        "                      )\n",
        "\n",
        "evals_results = {}\n",
        "\n",
        "lgb_model = lgb.train(params, \n",
        "                 dtrain, \n",
        "                 valid_sets=[dtrain, dvalid], \n",
        "                 valid_names=['train','valid'], \n",
        "                 evals_result=evals_results, \n",
        "                 num_boost_round=350,\n",
        "                 early_stopping_rounds=30,\n",
        "                 verbose_eval=True, \n",
        "                 feval=None)"
      ],
      "execution_count": 0,
      "outputs": [
        {
          "output_type": "stream",
          "text": [
            "/usr/local/lib/python3.6/dist-packages/lightgbm/basic.py:1205: UserWarning: Using categorical_feature in Dataset.\n",
            "  warnings.warn('Using categorical_feature in Dataset.')\n",
            "/usr/local/lib/python3.6/dist-packages/lightgbm/basic.py:762: UserWarning: categorical_feature in param dict is overridden.\n",
            "  warnings.warn('categorical_feature in param dict is overridden.')\n"
          ],
          "name": "stderr"
        },
        {
          "output_type": "stream",
          "text": [
            "[1]\ttrain's auc: 0.96533\tvalid's auc: 0.961191\n",
            "Training until validation scores don't improve for 30 rounds.\n",
            "[2]\ttrain's auc: 0.966836\tvalid's auc: 0.963032\n",
            "[3]\ttrain's auc: 0.968312\tvalid's auc: 0.964403\n",
            "[4]\ttrain's auc: 0.970566\tvalid's auc: 0.966521\n",
            "[5]\ttrain's auc: 0.971412\tvalid's auc: 0.967438\n",
            "[6]\ttrain's auc: 0.971595\tvalid's auc: 0.967731\n",
            "[7]\ttrain's auc: 0.971734\tvalid's auc: 0.967839\n",
            "[8]\ttrain's auc: 0.972205\tvalid's auc: 0.96835\n",
            "[9]\ttrain's auc: 0.972363\tvalid's auc: 0.968534\n",
            "[10]\ttrain's auc: 0.972545\tvalid's auc: 0.968752\n",
            "[11]\ttrain's auc: 0.972689\tvalid's auc: 0.96892\n",
            "[12]\ttrain's auc: 0.972818\tvalid's auc: 0.969072\n",
            "[13]\ttrain's auc: 0.972958\tvalid's auc: 0.969212\n",
            "[14]\ttrain's auc: 0.973014\tvalid's auc: 0.969292\n",
            "[15]\ttrain's auc: 0.973226\tvalid's auc: 0.969503\n",
            "[16]\ttrain's auc: 0.973371\tvalid's auc: 0.969632\n",
            "[17]\ttrain's auc: 0.973529\tvalid's auc: 0.969816\n",
            "[18]\ttrain's auc: 0.973596\tvalid's auc: 0.969919\n",
            "[19]\ttrain's auc: 0.973772\tvalid's auc: 0.970044\n",
            "[20]\ttrain's auc: 0.973935\tvalid's auc: 0.970207\n",
            "[21]\ttrain's auc: 0.974166\tvalid's auc: 0.970512\n",
            "[22]\ttrain's auc: 0.974282\tvalid's auc: 0.970682\n",
            "[23]\ttrain's auc: 0.974424\tvalid's auc: 0.970843\n",
            "[24]\ttrain's auc: 0.974506\tvalid's auc: 0.970925\n",
            "[25]\ttrain's auc: 0.974612\tvalid's auc: 0.971027\n",
            "[26]\ttrain's auc: 0.974663\tvalid's auc: 0.971074\n",
            "[27]\ttrain's auc: 0.974717\tvalid's auc: 0.971134\n",
            "[28]\ttrain's auc: 0.974763\tvalid's auc: 0.971169\n",
            "[29]\ttrain's auc: 0.974836\tvalid's auc: 0.971277\n",
            "[30]\ttrain's auc: 0.974881\tvalid's auc: 0.971341\n",
            "[31]\ttrain's auc: 0.974927\tvalid's auc: 0.971425\n",
            "[32]\ttrain's auc: 0.974995\tvalid's auc: 0.971479\n",
            "[33]\ttrain's auc: 0.975059\tvalid's auc: 0.971551\n",
            "[34]\ttrain's auc: 0.975121\tvalid's auc: 0.971638\n",
            "[35]\ttrain's auc: 0.975155\tvalid's auc: 0.971671\n",
            "[36]\ttrain's auc: 0.975217\tvalid's auc: 0.971764\n",
            "[37]\ttrain's auc: 0.975302\tvalid's auc: 0.971843\n",
            "[38]\ttrain's auc: 0.975361\tvalid's auc: 0.971925\n",
            "[39]\ttrain's auc: 0.975426\tvalid's auc: 0.971979\n",
            "[40]\ttrain's auc: 0.975458\tvalid's auc: 0.972049\n",
            "[41]\ttrain's auc: 0.975514\tvalid's auc: 0.972093\n",
            "[42]\ttrain's auc: 0.975571\tvalid's auc: 0.972165\n",
            "[43]\ttrain's auc: 0.975613\tvalid's auc: 0.972223\n",
            "[44]\ttrain's auc: 0.975656\tvalid's auc: 0.972262\n",
            "[45]\ttrain's auc: 0.975679\tvalid's auc: 0.972304\n",
            "[46]\ttrain's auc: 0.975714\tvalid's auc: 0.972331\n",
            "[47]\ttrain's auc: 0.975757\tvalid's auc: 0.972381\n",
            "[48]\ttrain's auc: 0.975779\tvalid's auc: 0.972414\n",
            "[49]\ttrain's auc: 0.975827\tvalid's auc: 0.972463\n",
            "[50]\ttrain's auc: 0.975879\tvalid's auc: 0.97251\n",
            "[51]\ttrain's auc: 0.975966\tvalid's auc: 0.972625\n",
            "[52]\ttrain's auc: 0.976004\tvalid's auc: 0.972673\n",
            "[53]\ttrain's auc: 0.976068\tvalid's auc: 0.972737\n",
            "[54]\ttrain's auc: 0.976087\tvalid's auc: 0.972754\n",
            "[55]\ttrain's auc: 0.976152\tvalid's auc: 0.972819\n",
            "[56]\ttrain's auc: 0.976201\tvalid's auc: 0.972874\n",
            "[57]\ttrain's auc: 0.976262\tvalid's auc: 0.972959\n",
            "[58]\ttrain's auc: 0.976308\tvalid's auc: 0.972998\n",
            "[59]\ttrain's auc: 0.976323\tvalid's auc: 0.97302\n",
            "[60]\ttrain's auc: 0.976349\tvalid's auc: 0.973046\n",
            "[61]\ttrain's auc: 0.976413\tvalid's auc: 0.973113\n",
            "[62]\ttrain's auc: 0.976452\tvalid's auc: 0.973143\n",
            "[63]\ttrain's auc: 0.97649\tvalid's auc: 0.97317\n",
            "[64]\ttrain's auc: 0.976526\tvalid's auc: 0.973189\n",
            "[65]\ttrain's auc: 0.976554\tvalid's auc: 0.973214\n",
            "[66]\ttrain's auc: 0.976599\tvalid's auc: 0.973249\n",
            "[67]\ttrain's auc: 0.976629\tvalid's auc: 0.973273\n",
            "[68]\ttrain's auc: 0.976678\tvalid's auc: 0.973321\n",
            "[69]\ttrain's auc: 0.976701\tvalid's auc: 0.973335\n",
            "[70]\ttrain's auc: 0.976748\tvalid's auc: 0.973377\n",
            "[71]\ttrain's auc: 0.976778\tvalid's auc: 0.973408\n",
            "[72]\ttrain's auc: 0.976807\tvalid's auc: 0.973442\n",
            "[73]\ttrain's auc: 0.976847\tvalid's auc: 0.973477\n",
            "[74]\ttrain's auc: 0.976885\tvalid's auc: 0.973515\n",
            "[75]\ttrain's auc: 0.976911\tvalid's auc: 0.973537\n",
            "[76]\ttrain's auc: 0.97693\tvalid's auc: 0.973558\n",
            "[77]\ttrain's auc: 0.976954\tvalid's auc: 0.973584\n",
            "[78]\ttrain's auc: 0.976968\tvalid's auc: 0.973592\n",
            "[79]\ttrain's auc: 0.976986\tvalid's auc: 0.973603\n",
            "[80]\ttrain's auc: 0.977019\tvalid's auc: 0.973637\n",
            "[81]\ttrain's auc: 0.97704\tvalid's auc: 0.973666\n",
            "[82]\ttrain's auc: 0.977078\tvalid's auc: 0.973689\n",
            "[83]\ttrain's auc: 0.97714\tvalid's auc: 0.973748\n",
            "[84]\ttrain's auc: 0.977191\tvalid's auc: 0.973799\n",
            "[85]\ttrain's auc: 0.977219\tvalid's auc: 0.973824\n",
            "[86]\ttrain's auc: 0.977249\tvalid's auc: 0.973845\n",
            "[87]\ttrain's auc: 0.977281\tvalid's auc: 0.973873\n",
            "[88]\ttrain's auc: 0.977335\tvalid's auc: 0.973926\n",
            "[89]\ttrain's auc: 0.977357\tvalid's auc: 0.973939\n",
            "[90]\ttrain's auc: 0.977398\tvalid's auc: 0.973976\n",
            "[91]\ttrain's auc: 0.977421\tvalid's auc: 0.974\n",
            "[92]\ttrain's auc: 0.977478\tvalid's auc: 0.974067\n",
            "[93]\ttrain's auc: 0.977514\tvalid's auc: 0.974097\n",
            "[94]\ttrain's auc: 0.977556\tvalid's auc: 0.974135\n",
            "[95]\ttrain's auc: 0.977588\tvalid's auc: 0.974164\n",
            "[96]\ttrain's auc: 0.977633\tvalid's auc: 0.974204\n",
            "[97]\ttrain's auc: 0.977674\tvalid's auc: 0.974249\n",
            "[98]\ttrain's auc: 0.977728\tvalid's auc: 0.974292\n",
            "[99]\ttrain's auc: 0.977778\tvalid's auc: 0.974338\n",
            "[100]\ttrain's auc: 0.977817\tvalid's auc: 0.974381\n",
            "[101]\ttrain's auc: 0.977878\tvalid's auc: 0.974437\n",
            "[102]\ttrain's auc: 0.977939\tvalid's auc: 0.974496\n",
            "[103]\ttrain's auc: 0.977985\tvalid's auc: 0.974539\n",
            "[104]\ttrain's auc: 0.978038\tvalid's auc: 0.974595\n",
            "[105]\ttrain's auc: 0.978093\tvalid's auc: 0.974642\n",
            "[106]\ttrain's auc: 0.978125\tvalid's auc: 0.974681\n",
            "[107]\ttrain's auc: 0.978176\tvalid's auc: 0.974729\n",
            "[108]\ttrain's auc: 0.978222\tvalid's auc: 0.974786\n",
            "[109]\ttrain's auc: 0.978278\tvalid's auc: 0.97484\n",
            "[110]\ttrain's auc: 0.978338\tvalid's auc: 0.974899\n",
            "[111]\ttrain's auc: 0.978376\tvalid's auc: 0.974929\n",
            "[112]\ttrain's auc: 0.978413\tvalid's auc: 0.974966\n",
            "[113]\ttrain's auc: 0.978449\tvalid's auc: 0.975004\n",
            "[114]\ttrain's auc: 0.978491\tvalid's auc: 0.975041\n",
            "[115]\ttrain's auc: 0.978523\tvalid's auc: 0.97507\n",
            "[116]\ttrain's auc: 0.978549\tvalid's auc: 0.975098\n",
            "[117]\ttrain's auc: 0.978609\tvalid's auc: 0.975141\n",
            "[118]\ttrain's auc: 0.978635\tvalid's auc: 0.975175\n",
            "[119]\ttrain's auc: 0.978684\tvalid's auc: 0.975213\n",
            "[120]\ttrain's auc: 0.978722\tvalid's auc: 0.975258\n",
            "[121]\ttrain's auc: 0.978764\tvalid's auc: 0.975285\n",
            "[122]\ttrain's auc: 0.978808\tvalid's auc: 0.975319\n",
            "[123]\ttrain's auc: 0.978851\tvalid's auc: 0.975354\n",
            "[124]\ttrain's auc: 0.978882\tvalid's auc: 0.975378\n",
            "[125]\ttrain's auc: 0.978926\tvalid's auc: 0.975414\n",
            "[126]\ttrain's auc: 0.978964\tvalid's auc: 0.975472\n",
            "[127]\ttrain's auc: 0.979002\tvalid's auc: 0.975507\n",
            "[128]\ttrain's auc: 0.979042\tvalid's auc: 0.975552\n",
            "[129]\ttrain's auc: 0.979071\tvalid's auc: 0.975579\n",
            "[130]\ttrain's auc: 0.979123\tvalid's auc: 0.97563\n",
            "[131]\ttrain's auc: 0.979161\tvalid's auc: 0.975659\n",
            "[132]\ttrain's auc: 0.9792\tvalid's auc: 0.975712\n",
            "[133]\ttrain's auc: 0.979222\tvalid's auc: 0.97574\n",
            "[134]\ttrain's auc: 0.979264\tvalid's auc: 0.975777\n",
            "[135]\ttrain's auc: 0.979293\tvalid's auc: 0.975814\n",
            "[136]\ttrain's auc: 0.979331\tvalid's auc: 0.975846\n",
            "[137]\ttrain's auc: 0.979369\tvalid's auc: 0.975883\n",
            "[138]\ttrain's auc: 0.979403\tvalid's auc: 0.975901\n",
            "[139]\ttrain's auc: 0.979439\tvalid's auc: 0.975929\n",
            "[140]\ttrain's auc: 0.979467\tvalid's auc: 0.975954\n",
            "[141]\ttrain's auc: 0.979511\tvalid's auc: 0.975988\n",
            "[142]\ttrain's auc: 0.979538\tvalid's auc: 0.976011\n",
            "[143]\ttrain's auc: 0.979573\tvalid's auc: 0.976037\n",
            "[144]\ttrain's auc: 0.979597\tvalid's auc: 0.976058\n",
            "[145]\ttrain's auc: 0.979626\tvalid's auc: 0.976081\n",
            "[146]\ttrain's auc: 0.979656\tvalid's auc: 0.976114\n",
            "[147]\ttrain's auc: 0.979689\tvalid's auc: 0.976151\n",
            "[148]\ttrain's auc: 0.979718\tvalid's auc: 0.976178\n",
            "[149]\ttrain's auc: 0.979742\tvalid's auc: 0.976203\n",
            "[150]\ttrain's auc: 0.979782\tvalid's auc: 0.976239\n",
            "[151]\ttrain's auc: 0.979821\tvalid's auc: 0.976273\n",
            "[152]\ttrain's auc: 0.979845\tvalid's auc: 0.976299\n",
            "[153]\ttrain's auc: 0.979875\tvalid's auc: 0.976332\n",
            "[154]\ttrain's auc: 0.979909\tvalid's auc: 0.976363\n",
            "[155]\ttrain's auc: 0.979947\tvalid's auc: 0.976398\n",
            "[156]\ttrain's auc: 0.979982\tvalid's auc: 0.976431\n",
            "[157]\ttrain's auc: 0.980024\tvalid's auc: 0.976472\n",
            "[158]\ttrain's auc: 0.980061\tvalid's auc: 0.976503\n",
            "[159]\ttrain's auc: 0.980089\tvalid's auc: 0.976522\n",
            "[160]\ttrain's auc: 0.980126\tvalid's auc: 0.976561\n",
            "[161]\ttrain's auc: 0.980164\tvalid's auc: 0.976595\n",
            "[162]\ttrain's auc: 0.980197\tvalid's auc: 0.976636\n",
            "[163]\ttrain's auc: 0.980237\tvalid's auc: 0.976667\n",
            "[164]\ttrain's auc: 0.980269\tvalid's auc: 0.97669\n",
            "[165]\ttrain's auc: 0.980304\tvalid's auc: 0.976717\n",
            "[166]\ttrain's auc: 0.980342\tvalid's auc: 0.976753\n",
            "[167]\ttrain's auc: 0.980372\tvalid's auc: 0.976791\n",
            "[168]\ttrain's auc: 0.980393\tvalid's auc: 0.976806\n",
            "[169]\ttrain's auc: 0.980411\tvalid's auc: 0.976828\n",
            "[170]\ttrain's auc: 0.980436\tvalid's auc: 0.976849\n",
            "[171]\ttrain's auc: 0.980461\tvalid's auc: 0.976875\n",
            "[172]\ttrain's auc: 0.980493\tvalid's auc: 0.976903\n",
            "[173]\ttrain's auc: 0.980514\tvalid's auc: 0.976924\n",
            "[174]\ttrain's auc: 0.980546\tvalid's auc: 0.976966\n",
            "[175]\ttrain's auc: 0.980572\tvalid's auc: 0.976985\n",
            "[176]\ttrain's auc: 0.980608\tvalid's auc: 0.977018\n",
            "[177]\ttrain's auc: 0.980647\tvalid's auc: 0.977053\n",
            "[178]\ttrain's auc: 0.980674\tvalid's auc: 0.977078\n",
            "[179]\ttrain's auc: 0.9807\tvalid's auc: 0.977103\n",
            "[180]\ttrain's auc: 0.980735\tvalid's auc: 0.977136\n",
            "[181]\ttrain's auc: 0.980758\tvalid's auc: 0.97716\n",
            "[182]\ttrain's auc: 0.980782\tvalid's auc: 0.977189\n",
            "[183]\ttrain's auc: 0.980811\tvalid's auc: 0.977208\n",
            "[184]\ttrain's auc: 0.980827\tvalid's auc: 0.977226\n",
            "[185]\ttrain's auc: 0.980857\tvalid's auc: 0.977259\n",
            "[186]\ttrain's auc: 0.980886\tvalid's auc: 0.977286\n",
            "[187]\ttrain's auc: 0.980916\tvalid's auc: 0.977315\n",
            "[188]\ttrain's auc: 0.980939\tvalid's auc: 0.977339\n",
            "[189]\ttrain's auc: 0.98096\tvalid's auc: 0.977361\n",
            "[190]\ttrain's auc: 0.980986\tvalid's auc: 0.977388\n",
            "[191]\ttrain's auc: 0.981022\tvalid's auc: 0.97743\n",
            "[192]\ttrain's auc: 0.981049\tvalid's auc: 0.977456\n",
            "[193]\ttrain's auc: 0.98107\tvalid's auc: 0.977479\n",
            "[194]\ttrain's auc: 0.981099\tvalid's auc: 0.977515\n",
            "[195]\ttrain's auc: 0.981125\tvalid's auc: 0.977532\n",
            "[196]\ttrain's auc: 0.98116\tvalid's auc: 0.977567\n",
            "[197]\ttrain's auc: 0.981186\tvalid's auc: 0.977581\n",
            "[198]\ttrain's auc: 0.981209\tvalid's auc: 0.977609\n",
            "[199]\ttrain's auc: 0.981236\tvalid's auc: 0.977635\n",
            "[200]\ttrain's auc: 0.981261\tvalid's auc: 0.977659\n",
            "[201]\ttrain's auc: 0.981295\tvalid's auc: 0.977692\n",
            "[202]\ttrain's auc: 0.981316\tvalid's auc: 0.977711\n",
            "[203]\ttrain's auc: 0.981337\tvalid's auc: 0.977729\n",
            "[204]\ttrain's auc: 0.981357\tvalid's auc: 0.97775\n",
            "[205]\ttrain's auc: 0.981378\tvalid's auc: 0.977766\n",
            "[206]\ttrain's auc: 0.981398\tvalid's auc: 0.977786\n",
            "[207]\ttrain's auc: 0.981417\tvalid's auc: 0.977805\n",
            "[208]\ttrain's auc: 0.981449\tvalid's auc: 0.977835\n",
            "[209]\ttrain's auc: 0.981474\tvalid's auc: 0.977851\n",
            "[210]\ttrain's auc: 0.981504\tvalid's auc: 0.97788\n",
            "[211]\ttrain's auc: 0.981537\tvalid's auc: 0.977908\n",
            "[212]\ttrain's auc: 0.981565\tvalid's auc: 0.977935\n",
            "[213]\ttrain's auc: 0.981585\tvalid's auc: 0.977957\n",
            "[214]\ttrain's auc: 0.981613\tvalid's auc: 0.977981\n",
            "[215]\ttrain's auc: 0.98164\tvalid's auc: 0.978012\n",
            "[216]\ttrain's auc: 0.981663\tvalid's auc: 0.97804\n",
            "[217]\ttrain's auc: 0.981685\tvalid's auc: 0.978063\n",
            "[218]\ttrain's auc: 0.981713\tvalid's auc: 0.978083\n",
            "[219]\ttrain's auc: 0.981733\tvalid's auc: 0.978103\n",
            "[220]\ttrain's auc: 0.981753\tvalid's auc: 0.978122\n",
            "[221]\ttrain's auc: 0.981777\tvalid's auc: 0.978134\n",
            "[222]\ttrain's auc: 0.981805\tvalid's auc: 0.978166\n",
            "[223]\ttrain's auc: 0.981835\tvalid's auc: 0.978199\n",
            "[224]\ttrain's auc: 0.981863\tvalid's auc: 0.978233\n",
            "[225]\ttrain's auc: 0.981877\tvalid's auc: 0.978247\n",
            "[226]\ttrain's auc: 0.981896\tvalid's auc: 0.978271\n",
            "[227]\ttrain's auc: 0.98191\tvalid's auc: 0.97828\n",
            "[228]\ttrain's auc: 0.981937\tvalid's auc: 0.978312\n",
            "[229]\ttrain's auc: 0.981962\tvalid's auc: 0.978331\n",
            "[230]\ttrain's auc: 0.981979\tvalid's auc: 0.978346\n",
            "[231]\ttrain's auc: 0.982005\tvalid's auc: 0.978374\n",
            "[232]\ttrain's auc: 0.982035\tvalid's auc: 0.978407\n",
            "[233]\ttrain's auc: 0.982057\tvalid's auc: 0.978425\n",
            "[234]\ttrain's auc: 0.98208\tvalid's auc: 0.978447\n",
            "[235]\ttrain's auc: 0.982102\tvalid's auc: 0.978465\n",
            "[236]\ttrain's auc: 0.982121\tvalid's auc: 0.978479\n",
            "[237]\ttrain's auc: 0.982138\tvalid's auc: 0.978494\n",
            "[238]\ttrain's auc: 0.982158\tvalid's auc: 0.978519\n",
            "[239]\ttrain's auc: 0.982173\tvalid's auc: 0.978532\n",
            "[240]\ttrain's auc: 0.982199\tvalid's auc: 0.978556\n",
            "[241]\ttrain's auc: 0.98223\tvalid's auc: 0.978579\n",
            "[242]\ttrain's auc: 0.982254\tvalid's auc: 0.9786\n",
            "[243]\ttrain's auc: 0.982266\tvalid's auc: 0.978611\n",
            "[244]\ttrain's auc: 0.982284\tvalid's auc: 0.978631\n",
            "[245]\ttrain's auc: 0.982313\tvalid's auc: 0.978662\n",
            "[246]\ttrain's auc: 0.982346\tvalid's auc: 0.978698\n",
            "[247]\ttrain's auc: 0.982368\tvalid's auc: 0.978709\n",
            "[248]\ttrain's auc: 0.982387\tvalid's auc: 0.978725\n",
            "[249]\ttrain's auc: 0.982406\tvalid's auc: 0.978745\n",
            "[250]\ttrain's auc: 0.982422\tvalid's auc: 0.978762\n",
            "[251]\ttrain's auc: 0.982451\tvalid's auc: 0.978775\n",
            "[252]\ttrain's auc: 0.98248\tvalid's auc: 0.978805\n",
            "[253]\ttrain's auc: 0.982503\tvalid's auc: 0.978826\n",
            "[254]\ttrain's auc: 0.982527\tvalid's auc: 0.97885\n",
            "[255]\ttrain's auc: 0.982548\tvalid's auc: 0.97887\n",
            "[256]\ttrain's auc: 0.982576\tvalid's auc: 0.978896\n",
            "[257]\ttrain's auc: 0.9826\tvalid's auc: 0.978921\n",
            "[258]\ttrain's auc: 0.982627\tvalid's auc: 0.978949\n",
            "[259]\ttrain's auc: 0.982655\tvalid's auc: 0.978969\n",
            "[260]\ttrain's auc: 0.982681\tvalid's auc: 0.978987\n",
            "[261]\ttrain's auc: 0.982707\tvalid's auc: 0.979016\n",
            "[262]\ttrain's auc: 0.982729\tvalid's auc: 0.979045\n",
            "[263]\ttrain's auc: 0.982752\tvalid's auc: 0.979065\n",
            "[264]\ttrain's auc: 0.982772\tvalid's auc: 0.979088\n",
            "[265]\ttrain's auc: 0.982795\tvalid's auc: 0.979116\n",
            "[266]\ttrain's auc: 0.982812\tvalid's auc: 0.979139\n",
            "[267]\ttrain's auc: 0.982829\tvalid's auc: 0.979152\n",
            "[268]\ttrain's auc: 0.98285\tvalid's auc: 0.979171\n",
            "[269]\ttrain's auc: 0.982867\tvalid's auc: 0.979179\n",
            "[270]\ttrain's auc: 0.982887\tvalid's auc: 0.979198\n",
            "[271]\ttrain's auc: 0.982909\tvalid's auc: 0.979218\n",
            "[272]\ttrain's auc: 0.982927\tvalid's auc: 0.979234\n",
            "[273]\ttrain's auc: 0.982944\tvalid's auc: 0.979246\n",
            "[274]\ttrain's auc: 0.982964\tvalid's auc: 0.979262\n",
            "[275]\ttrain's auc: 0.982985\tvalid's auc: 0.979288\n",
            "[276]\ttrain's auc: 0.983005\tvalid's auc: 0.979296\n",
            "[277]\ttrain's auc: 0.983027\tvalid's auc: 0.979305\n",
            "[278]\ttrain's auc: 0.983049\tvalid's auc: 0.979325\n",
            "[279]\ttrain's auc: 0.983074\tvalid's auc: 0.97935\n",
            "[280]\ttrain's auc: 0.983095\tvalid's auc: 0.979363\n",
            "[281]\ttrain's auc: 0.983111\tvalid's auc: 0.97938\n",
            "[282]\ttrain's auc: 0.983136\tvalid's auc: 0.979404\n",
            "[283]\ttrain's auc: 0.983157\tvalid's auc: 0.979412\n",
            "[284]\ttrain's auc: 0.983175\tvalid's auc: 0.979435\n",
            "[285]\ttrain's auc: 0.98319\tvalid's auc: 0.979444\n",
            "[286]\ttrain's auc: 0.983215\tvalid's auc: 0.979457\n",
            "[287]\ttrain's auc: 0.983241\tvalid's auc: 0.979486\n",
            "[288]\ttrain's auc: 0.983263\tvalid's auc: 0.979508\n",
            "[289]\ttrain's auc: 0.983293\tvalid's auc: 0.979535\n",
            "[290]\ttrain's auc: 0.983319\tvalid's auc: 0.979559\n",
            "[291]\ttrain's auc: 0.983333\tvalid's auc: 0.979573\n",
            "[292]\ttrain's auc: 0.983353\tvalid's auc: 0.979587\n",
            "[293]\ttrain's auc: 0.983367\tvalid's auc: 0.979605\n",
            "[294]\ttrain's auc: 0.983387\tvalid's auc: 0.979626\n",
            "[295]\ttrain's auc: 0.983402\tvalid's auc: 0.979637\n",
            "[296]\ttrain's auc: 0.983424\tvalid's auc: 0.979657\n",
            "[297]\ttrain's auc: 0.983441\tvalid's auc: 0.979677\n",
            "[298]\ttrain's auc: 0.983456\tvalid's auc: 0.979691\n",
            "[299]\ttrain's auc: 0.983477\tvalid's auc: 0.979705\n",
            "[300]\ttrain's auc: 0.983504\tvalid's auc: 0.979727\n",
            "[301]\ttrain's auc: 0.983523\tvalid's auc: 0.97974\n",
            "[302]\ttrain's auc: 0.983542\tvalid's auc: 0.979764\n",
            "[303]\ttrain's auc: 0.983562\tvalid's auc: 0.97978\n",
            "[304]\ttrain's auc: 0.983581\tvalid's auc: 0.979804\n",
            "[305]\ttrain's auc: 0.983598\tvalid's auc: 0.979819\n",
            "[306]\ttrain's auc: 0.983613\tvalid's auc: 0.979839\n",
            "[307]\ttrain's auc: 0.983626\tvalid's auc: 0.979851\n",
            "[308]\ttrain's auc: 0.983643\tvalid's auc: 0.979869\n",
            "[309]\ttrain's auc: 0.983659\tvalid's auc: 0.979883\n",
            "[310]\ttrain's auc: 0.983684\tvalid's auc: 0.979903\n",
            "[311]\ttrain's auc: 0.983701\tvalid's auc: 0.979919\n",
            "[312]\ttrain's auc: 0.983721\tvalid's auc: 0.979946\n",
            "[313]\ttrain's auc: 0.983738\tvalid's auc: 0.979963\n",
            "[314]\ttrain's auc: 0.983757\tvalid's auc: 0.97999\n",
            "[315]\ttrain's auc: 0.983772\tvalid's auc: 0.980002\n",
            "[316]\ttrain's auc: 0.983786\tvalid's auc: 0.98002\n",
            "[317]\ttrain's auc: 0.983811\tvalid's auc: 0.980039\n",
            "[318]\ttrain's auc: 0.983829\tvalid's auc: 0.980057\n",
            "[319]\ttrain's auc: 0.983844\tvalid's auc: 0.980078\n",
            "[320]\ttrain's auc: 0.983863\tvalid's auc: 0.980094\n",
            "[321]\ttrain's auc: 0.98388\tvalid's auc: 0.980114\n",
            "[322]\ttrain's auc: 0.983902\tvalid's auc: 0.980134\n",
            "[323]\ttrain's auc: 0.983919\tvalid's auc: 0.980148\n",
            "[324]\ttrain's auc: 0.983938\tvalid's auc: 0.980173\n",
            "[325]\ttrain's auc: 0.983959\tvalid's auc: 0.98019\n",
            "[326]\ttrain's auc: 0.98398\tvalid's auc: 0.980212\n",
            "[327]\ttrain's auc: 0.983991\tvalid's auc: 0.980226\n",
            "[328]\ttrain's auc: 0.984015\tvalid's auc: 0.980239\n",
            "[329]\ttrain's auc: 0.98403\tvalid's auc: 0.980261\n",
            "[330]\ttrain's auc: 0.984041\tvalid's auc: 0.980269\n",
            "[331]\ttrain's auc: 0.98406\tvalid's auc: 0.98028\n",
            "[332]\ttrain's auc: 0.984072\tvalid's auc: 0.980289\n",
            "[333]\ttrain's auc: 0.984091\tvalid's auc: 0.980311\n",
            "[334]\ttrain's auc: 0.98411\tvalid's auc: 0.980328\n",
            "[335]\ttrain's auc: 0.984125\tvalid's auc: 0.980337\n",
            "[336]\ttrain's auc: 0.984138\tvalid's auc: 0.980346\n",
            "[337]\ttrain's auc: 0.984154\tvalid's auc: 0.980359\n",
            "[338]\ttrain's auc: 0.984171\tvalid's auc: 0.98038\n",
            "[339]\ttrain's auc: 0.984188\tvalid's auc: 0.9804\n",
            "[340]\ttrain's auc: 0.984203\tvalid's auc: 0.980413\n",
            "[341]\ttrain's auc: 0.98422\tvalid's auc: 0.980428\n",
            "[342]\ttrain's auc: 0.984235\tvalid's auc: 0.980439\n",
            "[343]\ttrain's auc: 0.984256\tvalid's auc: 0.980453\n",
            "[344]\ttrain's auc: 0.984272\tvalid's auc: 0.98047\n",
            "[345]\ttrain's auc: 0.984289\tvalid's auc: 0.980481\n",
            "[346]\ttrain's auc: 0.984301\tvalid's auc: 0.980498\n",
            "[347]\ttrain's auc: 0.984322\tvalid's auc: 0.980511\n",
            "[348]\ttrain's auc: 0.984344\tvalid's auc: 0.980533\n",
            "[349]\ttrain's auc: 0.984366\tvalid's auc: 0.980552\n",
            "[350]\ttrain's auc: 0.984389\tvalid's auc: 0.980581\n",
            "Did not meet early stopping. Best iteration is:\n",
            "[350]\ttrain's auc: 0.984389\tvalid's auc: 0.980581\n"
          ],
          "name": "stdout"
        }
      ]
    },
    {
      "cell_type": "code",
      "metadata": {
        "id": "HtJToQFvoOJv",
        "colab_type": "code",
        "outputId": "98f61992-5d12-49a6-c67b-5a120f21aada",
        "colab": {
          "base_uri": "https://localhost:8080/",
          "height": 318
        }
      },
      "source": [
        "lgb.plot_importance(lgb_model, importance_type='split')\n",
        "gc.collect()"
      ],
      "execution_count": 0,
      "outputs": [
        {
          "output_type": "execute_result",
          "data": {
            "text/plain": [
              "3463"
            ]
          },
          "metadata": {
            "tags": []
          },
          "execution_count": 27
        },
        {
          "output_type": "display_data",
          "data": {
            "image/png": "[encoded data removed]",
            "text/plain": [
              "<Figure size 432x288 with 1 Axes>"
            ]
          },
          "metadata": {
            "tags": []
          }
        }
      ]
    },
    {
      "cell_type": "code",
      "metadata": {
        "id": "YqIw0kkFoORL",
        "colab_type": "code",
        "outputId": "80fed115-cefc-4df6-811c-9e15fba8624c",
        "colab": {
          "base_uri": "https://localhost:8080/",
          "height": 318
        }
      },
      "source": [
        "lgb.plot_importance(lgb_model, importance_type='gain')\n",
        "gc.collect()"
      ],
      "execution_count": 0,
      "outputs": [
        {
          "output_type": "execute_result",
          "data": {
            "text/plain": [
              "2908"
            ]
          },
          "metadata": {
            "tags": []
          },
          "execution_count": 28
        },
        {
          "output_type": "display_data",
          "data": {
            "image/png": "[encoded data removed]",
            "text/plain": [
              "<Figure size 432x288 with 1 Axes>"
            ]
          },
          "metadata": {
            "tags": []
          }
        }
      ]
    },
    {
      "cell_type": "markdown",
      "metadata": {
        "id": "r9pOn6ac-YEi",
        "colab_type": "text"
      },
      "source": [
        "# Predicting on test set\n",
        "\n",
        "I tried to predict using the whole test set but my session crashed. I'm splitting the test set into three sections and predicting one at a time, saving, deleting, and loading the next section. "
      ]
    },
    {
      "cell_type": "code",
      "metadata": {
        "id": "8oW0TAn1jMOk",
        "colab_type": "code",
        "colab": {}
      },
      "source": [
        "#connecting to kaggle and importing datasets\n",
        "#from google.colab import files\n",
        "#files.upload()\n",
        "#!mkdir -p ~/.kaggle\n",
        "#!mv kaggle.json ~/.kaggle/\n",
        "#!chmod 600 /root/.kaggle/kaggle.json\n",
        "\n",
        "#!kaggle competitions download -c talkingdata-adtracking-fraud-detection\n",
        "#!unzip test.csv.zip\n",
        "dypes = dtypes = {\n",
        "        'ip'            : 'uint32',\n",
        "        'app'           : 'uint16',\n",
        "        'device'        : 'uint16',\n",
        "        'os'            : 'uint16',\n",
        "        'channel'       : 'uint16',\n",
        "        'is_attributed' : 'uint8',\n",
        "        'click_id'      : 'uint32'\n",
        "        }\n",
        "\n",
        "#reading in training data sample\n",
        "test=pd.read_csv('test.csv', dtype=dtypes)\n",
        "test['hour'] = pd.to_datetime(test['click_time']).dt.hour.astype('uint8')\n",
        "test['day'] = pd.to_datetime(test['click_time']).dt.day.astype('uint8')\n"
      ],
      "execution_count": 0,
      "outputs": []
    },
    {
      "cell_type": "code",
      "metadata": {
        "id": "7qZtRyS7sedm",
        "colab_type": "code",
        "outputId": "ea53bcae-a7a7-4c22-caf2-7e378c2234ea",
        "colab": {
          "base_uri": "https://localhost:8080/",
          "height": 34
        }
      },
      "source": [
        "test_1, test_2, test_3 = np.array_split(test, 3)\n",
        "\n",
        "test_1.to_csv('/gdrive/My Drive/kaggle/test_1.csv')\n",
        "test_2.to_csv('/gdrive/My Drive/kaggle/test_2.csv')\n",
        "test_3.to_csv('/gdrive/My Drive/kaggle/test_3.csv')\n",
        "del test, test_2, test_3\n",
        "gc.collect()"
      ],
      "execution_count": 0,
      "outputs": [
        {
          "output_type": "execute_result",
          "data": {
            "text/plain": [
              "192"
            ]
          },
          "metadata": {
            "tags": []
          },
          "execution_count": 52
        }
      ]
    },
    {
      "cell_type": "code",
      "metadata": {
        "id": "dEryKW4ikaOG",
        "colab_type": "code",
        "outputId": "853f6a1d-a681-4006-cceb-0ab96772c66f",
        "colab": {
          "base_uri": "https://localhost:8080/",
          "height": 390
        }
      },
      "source": [
        "#loading double variables\n",
        "infile = open('/gdrive/My Drive/kaggle/pickles/doubles_counts_test', 'rb')\n",
        "double_counts = pickle.load(infile)\n",
        "infile.close()\n",
        "\n",
        "#merging on test set\n",
        "for counts in double_counts: \n",
        "  col_name = '_'.join(counts.columns.values[0:2])\n",
        "  counts.columns.values[2] = col_name\n",
        "  test_1=test_1.merge(counts, on=list(counts.columns.values[0:2]), how='left')\n",
        "\n",
        "gc.collect()\n",
        "test_1.isnull().sum()\n"
      ],
      "execution_count": 0,
      "outputs": [
        {
          "output_type": "execute_result",
          "data": {
            "text/plain": [
              "Unnamed: 0        0\n",
              "click_id          0\n",
              "ip                0\n",
              "app               0\n",
              "device            0\n",
              "os                0\n",
              "channel           0\n",
              "click_time        0\n",
              "hour              0\n",
              "day               0\n",
              "ip_app            0\n",
              "ip_device         0\n",
              "ip_os             0\n",
              "ip_channel        0\n",
              "app_device        0\n",
              "app_os            0\n",
              "app_channel       0\n",
              "device_os         0\n",
              "device_channel    0\n",
              "os_channel        0\n",
              "dtype: int64"
            ]
          },
          "metadata": {
            "tags": []
          },
          "execution_count": 34
        }
      ]
    },
    {
      "cell_type": "code",
      "metadata": {
        "id": "707qB_d-vRdJ",
        "colab_type": "code",
        "outputId": "08f08f65-4aa8-47b2-d82b-87a77b57de16",
        "colab": {
          "base_uri": "https://localhost:8080/",
          "height": 70
        }
      },
      "source": [
        "#predicting on test data\n",
        "y_pred=lgb_model.predict(test_1[predictors], num_iteration=lgb_model.best_iteration)\n",
        "\n",
        "test_1['is_attributed']=0\n",
        "test_1.loc[y_pred>0.5, 'is_attributed']=1\n",
        "test_1['is_attributed'].value_counts()"
      ],
      "execution_count": 0,
      "outputs": [
        {
          "output_type": "execute_result",
          "data": {
            "text/plain": [
              "1    4304797\n",
              "0    1958693\n",
              "Name: is_attributed, dtype: int64"
            ]
          },
          "metadata": {
            "tags": []
          },
          "execution_count": 36
        }
      ]
    },
    {
      "cell_type": "code",
      "metadata": {
        "id": "sHsCXM6mxZ75",
        "colab_type": "code",
        "outputId": "eab0adce-63af-4c31-f1b8-25add5e49d30",
        "colab": {
          "base_uri": "https://localhost:8080/",
          "height": 34
        }
      },
      "source": [
        "1958693/len(test_1)"
      ],
      "execution_count": 0,
      "outputs": [
        {
          "output_type": "execute_result",
          "data": {
            "text/plain": [
              "0.3127159139712844"
            ]
          },
          "metadata": {
            "tags": []
          },
          "execution_count": 38
        }
      ]
    },
    {
      "cell_type": "markdown",
      "metadata": {
        "id": "Os8m9qtJ0R7b",
        "colab_type": "text"
      },
      "source": [
        "The model is waaay overclassifying not_attributed clicks. I think because the dataset that we're training on is too balanced. Going to try to train on a dataset that's closer to actual distribution"
      ]
    },
    {
      "cell_type": "code",
      "metadata": {
        "id": "kDqq-qp_0QsT",
        "colab_type": "code",
        "outputId": "bc8e01f4-5083-4b94-d46b-b4f7fde37a80",
        "colab": {
          "base_uri": "https://localhost:8080/",
          "height": 70
        }
      },
      "source": [
        "train['is_attributed'].value_counts()"
      ],
      "execution_count": 0,
      "outputs": [
        {
          "output_type": "execute_result",
          "data": {
            "text/plain": [
              "0    921650\n",
              "1    456846\n",
              "Name: is_attributed, dtype: int64"
            ]
          },
          "metadata": {
            "tags": []
          },
          "execution_count": 41
        }
      ]
    },
    {
      "cell_type": "markdown",
      "metadata": {
        "id": "snJ7MN3k_5pH",
        "colab_type": "text"
      },
      "source": [
        "# Train Round 3 \n",
        "\n",
        "Making train and val datasets closer to actual distribution. The proportion is still larger (2% vs .02%) but I just want to see if this makes a difference"
      ]
    },
    {
      "cell_type": "code",
      "metadata": {
        "id": "hilY7SdV_wsn",
        "colab_type": "code",
        "colab": {}
      },
      "source": [
        "train_subset = train[train['is_attributed']==0]\n",
        "train_subset = train_subset.append(train[train['is_attributed']==1].sample(n=round(len(train)*.02)))\n",
        "display(train_subset.is_attributed.value_counts())\n",
        "\n",
        "val_subset = val_data[val_data['is_attributed']==0]\n",
        "val_subset = val_subset.append(val_data[val_data['is_attributed']==1].sample(n=round(len(val_data)*.02)))\n",
        "display(val_subset.is_attributed.value_counts())"
      ],
      "execution_count": 0,
      "outputs": []
    },
    {
      "cell_type": "code",
      "metadata": {
        "id": "v-xsyzq41XsT",
        "colab_type": "code",
        "outputId": "083aaf7f-d19f-409d-a8f7-6f92d1c5f88f",
        "colab": {
          "base_uri": "https://localhost:8080/",
          "height": 1207
        }
      },
      "source": [
        "dtrain= lgb.Dataset(train_subset[predictors].values, label=train_subset[target].values,\n",
        "                      feature_name=predictors,\n",
        "                      categorical_feature=categorical\n",
        "                      )\n",
        "dvalid = lgb.Dataset(val_subset[predictors].values, label=val_subset[target].values,\n",
        "                      feature_name=predictors,\n",
        "                      categorical_feature=categorical\n",
        "                      )\n",
        "\n",
        "evals_results = {}\n",
        "\n",
        "lgb_model = lgb.train(params, \n",
        "                 dtrain, \n",
        "                 valid_sets=[dtrain, dvalid], \n",
        "                 valid_names=['train','valid'], \n",
        "                 evals_result=evals_results, \n",
        "                 num_boost_round=350,\n",
        "                 early_stopping_rounds=30,\n",
        "                 verbose_eval=True, \n",
        "                 feval=None)"
      ],
      "execution_count": 0,
      "outputs": [
        {
          "output_type": "stream",
          "text": [
            "/usr/local/lib/python3.6/dist-packages/lightgbm/basic.py:1205: UserWarning: Using categorical_feature in Dataset.\n",
            "  warnings.warn('Using categorical_feature in Dataset.')\n",
            "/usr/local/lib/python3.6/dist-packages/lightgbm/basic.py:762: UserWarning: categorical_feature in param dict is overridden.\n",
            "  warnings.warn('categorical_feature in param dict is overridden.')\n"
          ],
          "name": "stderr"
        },
        {
          "output_type": "stream",
          "text": [
            "[1]\ttrain's auc: 0.968096\tvalid's auc: 0.963717\n",
            "Training until validation scores don't improve for 30 rounds.\n",
            "[2]\ttrain's auc: 0.971412\tvalid's auc: 0.964071\n",
            "[3]\ttrain's auc: 0.97384\tvalid's auc: 0.964831\n",
            "[4]\ttrain's auc: 0.975565\tvalid's auc: 0.965899\n",
            "[5]\ttrain's auc: 0.976745\tvalid's auc: 0.966054\n",
            "[6]\ttrain's auc: 0.97759\tvalid's auc: 0.966163\n",
            "[7]\ttrain's auc: 0.978335\tvalid's auc: 0.966549\n",
            "[8]\ttrain's auc: 0.979133\tvalid's auc: 0.967295\n",
            "[9]\ttrain's auc: 0.979745\tvalid's auc: 0.967444\n",
            "[10]\ttrain's auc: 0.980264\tvalid's auc: 0.967965\n",
            "[11]\ttrain's auc: 0.980626\tvalid's auc: 0.968326\n",
            "[12]\ttrain's auc: 0.981035\tvalid's auc: 0.968724\n",
            "[13]\ttrain's auc: 0.981257\tvalid's auc: 0.969017\n",
            "[14]\ttrain's auc: 0.981575\tvalid's auc: 0.969144\n",
            "[15]\ttrain's auc: 0.981859\tvalid's auc: 0.969346\n",
            "[16]\ttrain's auc: 0.982113\tvalid's auc: 0.969537\n",
            "[17]\ttrain's auc: 0.982372\tvalid's auc: 0.96961\n",
            "[18]\ttrain's auc: 0.982711\tvalid's auc: 0.969811\n",
            "[19]\ttrain's auc: 0.982965\tvalid's auc: 0.969947\n",
            "[20]\ttrain's auc: 0.9832\tvalid's auc: 0.970041\n",
            "[21]\ttrain's auc: 0.983388\tvalid's auc: 0.970191\n",
            "[22]\ttrain's auc: 0.983611\tvalid's auc: 0.970368\n",
            "[23]\ttrain's auc: 0.983834\tvalid's auc: 0.970365\n",
            "[24]\ttrain's auc: 0.983963\tvalid's auc: 0.970419\n",
            "[25]\ttrain's auc: 0.984129\tvalid's auc: 0.970424\n",
            "[26]\ttrain's auc: 0.984281\tvalid's auc: 0.970503\n",
            "[27]\ttrain's auc: 0.984433\tvalid's auc: 0.970557\n",
            "[28]\ttrain's auc: 0.984622\tvalid's auc: 0.970638\n",
            "[29]\ttrain's auc: 0.984862\tvalid's auc: 0.97079\n",
            "[30]\ttrain's auc: 0.984992\tvalid's auc: 0.970819\n",
            "[31]\ttrain's auc: 0.985118\tvalid's auc: 0.970722\n",
            "[32]\ttrain's auc: 0.985252\tvalid's auc: 0.970733\n",
            "[33]\ttrain's auc: 0.98549\tvalid's auc: 0.970709\n",
            "[34]\ttrain's auc: 0.985713\tvalid's auc: 0.97069\n",
            "[35]\ttrain's auc: 0.985842\tvalid's auc: 0.97064\n",
            "[36]\ttrain's auc: 0.986072\tvalid's auc: 0.970722\n",
            "[37]\ttrain's auc: 0.986155\tvalid's auc: 0.970785\n",
            "[38]\ttrain's auc: 0.986319\tvalid's auc: 0.970777\n",
            "[39]\ttrain's auc: 0.9865\tvalid's auc: 0.970741\n",
            "[40]\ttrain's auc: 0.986633\tvalid's auc: 0.970803\n",
            "[41]\ttrain's auc: 0.986861\tvalid's auc: 0.970661\n",
            "[42]\ttrain's auc: 0.987129\tvalid's auc: 0.97059\n",
            "[43]\ttrain's auc: 0.987222\tvalid's auc: 0.970681\n",
            "[44]\ttrain's auc: 0.987325\tvalid's auc: 0.970682\n",
            "[45]\ttrain's auc: 0.987495\tvalid's auc: 0.970509\n",
            "[46]\ttrain's auc: 0.987643\tvalid's auc: 0.970393\n",
            "[47]\ttrain's auc: 0.987795\tvalid's auc: 0.970419\n",
            "[48]\ttrain's auc: 0.987893\tvalid's auc: 0.970436\n",
            "[49]\ttrain's auc: 0.987994\tvalid's auc: 0.97049\n",
            "[50]\ttrain's auc: 0.988106\tvalid's auc: 0.970458\n",
            "[51]\ttrain's auc: 0.988291\tvalid's auc: 0.970466\n",
            "[52]\ttrain's auc: 0.988548\tvalid's auc: 0.970306\n",
            "[53]\ttrain's auc: 0.988723\tvalid's auc: 0.970215\n",
            "[54]\ttrain's auc: 0.988901\tvalid's auc: 0.970161\n",
            "[55]\ttrain's auc: 0.989048\tvalid's auc: 0.970181\n",
            "[56]\ttrain's auc: 0.989263\tvalid's auc: 0.970259\n",
            "[57]\ttrain's auc: 0.989477\tvalid's auc: 0.970338\n",
            "[58]\ttrain's auc: 0.989682\tvalid's auc: 0.970364\n",
            "[59]\ttrain's auc: 0.989814\tvalid's auc: 0.970439\n",
            "[60]\ttrain's auc: 0.989941\tvalid's auc: 0.970526\n",
            "Early stopping, best iteration is:\n",
            "[30]\ttrain's auc: 0.984992\tvalid's auc: 0.970819\n"
          ],
          "name": "stdout"
        }
      ]
    },
    {
      "cell_type": "code",
      "metadata": {
        "id": "a41qLY8mBUnC",
        "colab_type": "code",
        "outputId": "77b8471c-66ac-4bdf-c5ff-0a706f122a82",
        "colab": {
          "base_uri": "https://localhost:8080/",
          "height": 70
        }
      },
      "source": [
        "#trying to predict on test_1 again\n",
        "y_pred=lgb_model.predict(test_1[predictors], num_iteration=lgb_model.best_iteration)\n",
        "\n",
        "test_1['is_attributed']=0\n",
        "test_1.loc[y_pred>0.5, 'is_attributed']=1\n",
        "test_1['is_attributed'].value_counts()"
      ],
      "execution_count": 0,
      "outputs": [
        {
          "output_type": "execute_result",
          "data": {
            "text/plain": [
              "0    4243355\n",
              "1    2020135\n",
              "Name: is_attributed, dtype: int64"
            ]
          },
          "metadata": {
            "tags": []
          },
          "execution_count": 62
        }
      ]
    },
    {
      "cell_type": "code",
      "metadata": {
        "id": "NfaZBm5TxXnu",
        "colab_type": "code",
        "outputId": "b4827401-d9aa-461e-8978-702a30716bf5",
        "colab": {
          "base_uri": "https://localhost:8080/",
          "height": 34
        }
      },
      "source": [
        "2020135/len(test_1)"
      ],
      "execution_count": 0,
      "outputs": [
        {
          "output_type": "execute_result",
          "data": {
            "text/plain": [
              "0.3225254610448807"
            ]
          },
          "metadata": {
            "tags": []
          },
          "execution_count": 63
        }
      ]
    },
    {
      "cell_type": "markdown",
      "metadata": {
        "id": "5Hway73XAIAi",
        "colab_type": "text"
      },
      "source": [
        "Hmm unfortunately still no difference. Going to try to make it even closer to actual distribution... I don't think this will help but let's try"
      ]
    },
    {
      "cell_type": "markdown",
      "metadata": {
        "id": "-x5byVnnAR4-",
        "colab_type": "text"
      },
      "source": [
        "# Train round 4 \n",
        "\n",
        "Making train and val sets even closer to actual distribution"
      ]
    },
    {
      "cell_type": "code",
      "metadata": {
        "id": "vhzKchYTBOXz",
        "colab_type": "code",
        "outputId": "12378480-8881-4297-fdd2-9d831a478844",
        "colab": {
          "base_uri": "https://localhost:8080/",
          "height": 123
        }
      },
      "source": [
        "train_subset = train[train['is_attributed']==0]\n",
        "train_subset = train_subset.append(train[train['is_attributed']==1].sample(n=round(len(train)*.0025)))\n",
        "display(train_subset.is_attributed.value_counts())\n",
        "\n",
        "val_subset = val_data[val_data['is_attributed']==0]\n",
        "val_subset = val_subset.append(val_data[val_data['is_attributed']==1].sample(n=round(len(val_data)*.0025)))\n",
        "display(val_subset.is_attributed.value_counts())\n"
      ],
      "execution_count": 0,
      "outputs": [
        {
          "output_type": "display_data",
          "data": {
            "text/plain": [
              "0    921650\n",
              "1      3446\n",
              "Name: is_attributed, dtype: int64"
            ]
          },
          "metadata": {
            "tags": []
          }
        },
        {
          "output_type": "display_data",
          "data": {
            "text/plain": [
              "0    55000\n",
              "1      268\n",
              "Name: is_attributed, dtype: int64"
            ]
          },
          "metadata": {
            "tags": []
          }
        }
      ]
    },
    {
      "cell_type": "code",
      "metadata": {
        "id": "i0cshAAV-GJK",
        "colab_type": "code",
        "outputId": "f4d18cd9-6be1-4584-e966-b2e88fba99f7",
        "colab": {
          "base_uri": "https://localhost:8080/",
          "height": 1154
        }
      },
      "source": [
        "#training model with popular parameters\n",
        "target = 'is_attributed'\n",
        "predictors = ['ip', 'app', 'os', 'channel']\n",
        "categorical = ['ip', 'app', 'os', 'channel']\n",
        "\n",
        "\n",
        "dtrain= lgb.Dataset(train_subset[predictors].values, label=train_subset[target].values,\n",
        "                      feature_name=predictors,\n",
        "                      categorical_feature=categorical\n",
        "                      )\n",
        "dvalid = lgb.Dataset(val_subset[predictors].values, label=val_subset[target].values,\n",
        "                      feature_name=predictors,\n",
        "                      categorical_feature=categorical\n",
        "                      )\n",
        "\n",
        "evals_results = {}\n",
        "\n",
        "lgb_model = lgb.train(params, \n",
        "                 dtrain, \n",
        "                 valid_sets=[dtrain, dvalid], \n",
        "                 valid_names=['train','valid'], \n",
        "                 evals_result=evals_results, \n",
        "                 num_boost_round=350,\n",
        "                 early_stopping_rounds=30,\n",
        "                 verbose_eval=True, \n",
        "                 feval=None)"
      ],
      "execution_count": 0,
      "outputs": [
        {
          "output_type": "stream",
          "text": [
            "/usr/local/lib/python3.6/dist-packages/lightgbm/basic.py:1205: UserWarning: Using categorical_feature in Dataset.\n",
            "  warnings.warn('Using categorical_feature in Dataset.')\n",
            "/usr/local/lib/python3.6/dist-packages/lightgbm/basic.py:762: UserWarning: categorical_feature in param dict is overridden.\n",
            "  warnings.warn('categorical_feature in param dict is overridden.')\n"
          ],
          "name": "stderr"
        },
        {
          "output_type": "stream",
          "text": [
            "[1]\ttrain's auc: 0.953873\tvalid's auc: 0.937567\n",
            "Training until validation scores don't improve for 30 rounds.\n",
            "[2]\ttrain's auc: 0.959511\tvalid's auc: 0.939571\n",
            "[3]\ttrain's auc: 0.954983\tvalid's auc: 0.93347\n",
            "[4]\ttrain's auc: 0.966415\tvalid's auc: 0.942245\n",
            "[5]\ttrain's auc: 0.968943\tvalid's auc: 0.942363\n",
            "[6]\ttrain's auc: 0.970853\tvalid's auc: 0.942886\n",
            "[7]\ttrain's auc: 0.971635\tvalid's auc: 0.943535\n",
            "[8]\ttrain's auc: 0.972666\tvalid's auc: 0.943848\n",
            "[9]\ttrain's auc: 0.97408\tvalid's auc: 0.94421\n",
            "[10]\ttrain's auc: 0.975244\tvalid's auc: 0.944754\n",
            "[11]\ttrain's auc: 0.976045\tvalid's auc: 0.944865\n",
            "[12]\ttrain's auc: 0.976952\tvalid's auc: 0.945019\n",
            "[13]\ttrain's auc: 0.977496\tvalid's auc: 0.945323\n",
            "[14]\ttrain's auc: 0.978364\tvalid's auc: 0.944984\n",
            "[15]\ttrain's auc: 0.97885\tvalid's auc: 0.944851\n",
            "[16]\ttrain's auc: 0.979447\tvalid's auc: 0.944728\n",
            "[17]\ttrain's auc: 0.97997\tvalid's auc: 0.94465\n",
            "[18]\ttrain's auc: 0.980483\tvalid's auc: 0.945225\n",
            "[19]\ttrain's auc: 0.98083\tvalid's auc: 0.945492\n",
            "[20]\ttrain's auc: 0.981281\tvalid's auc: 0.94596\n",
            "[21]\ttrain's auc: 0.981674\tvalid's auc: 0.94619\n",
            "[22]\ttrain's auc: 0.98221\tvalid's auc: 0.946587\n",
            "[23]\ttrain's auc: 0.982568\tvalid's auc: 0.946978\n",
            "[24]\ttrain's auc: 0.982912\tvalid's auc: 0.947254\n",
            "[25]\ttrain's auc: 0.983188\tvalid's auc: 0.947476\n",
            "[26]\ttrain's auc: 0.983552\tvalid's auc: 0.947446\n",
            "[27]\ttrain's auc: 0.983786\tvalid's auc: 0.947607\n",
            "[28]\ttrain's auc: 0.98401\tvalid's auc: 0.947518\n",
            "[29]\ttrain's auc: 0.984195\tvalid's auc: 0.947533\n",
            "[30]\ttrain's auc: 0.984492\tvalid's auc: 0.947421\n",
            "[31]\ttrain's auc: 0.984661\tvalid's auc: 0.947482\n",
            "[32]\ttrain's auc: 0.984948\tvalid's auc: 0.947364\n",
            "[33]\ttrain's auc: 0.985115\tvalid's auc: 0.947436\n",
            "[34]\ttrain's auc: 0.98535\tvalid's auc: 0.947071\n",
            "[35]\ttrain's auc: 0.985533\tvalid's auc: 0.947003\n",
            "[36]\ttrain's auc: 0.985796\tvalid's auc: 0.946993\n",
            "[37]\ttrain's auc: 0.985934\tvalid's auc: 0.946859\n",
            "[38]\ttrain's auc: 0.986104\tvalid's auc: 0.946982\n",
            "[39]\ttrain's auc: 0.986254\tvalid's auc: 0.947091\n",
            "[40]\ttrain's auc: 0.986427\tvalid's auc: 0.946975\n",
            "[41]\ttrain's auc: 0.986532\tvalid's auc: 0.947044\n",
            "[42]\ttrain's auc: 0.986667\tvalid's auc: 0.946752\n",
            "[43]\ttrain's auc: 0.986769\tvalid's auc: 0.946831\n",
            "[44]\ttrain's auc: 0.986892\tvalid's auc: 0.946719\n",
            "[45]\ttrain's auc: 0.986972\tvalid's auc: 0.946564\n",
            "[46]\ttrain's auc: 0.987046\tvalid's auc: 0.946434\n",
            "[47]\ttrain's auc: 0.987163\tvalid's auc: 0.946193\n",
            "[48]\ttrain's auc: 0.987242\tvalid's auc: 0.94619\n",
            "[49]\ttrain's auc: 0.987311\tvalid's auc: 0.946052\n",
            "[50]\ttrain's auc: 0.987421\tvalid's auc: 0.945892\n",
            "[51]\ttrain's auc: 0.987515\tvalid's auc: 0.945531\n",
            "[52]\ttrain's auc: 0.987636\tvalid's auc: 0.945147\n",
            "[53]\ttrain's auc: 0.987729\tvalid's auc: 0.945073\n",
            "[54]\ttrain's auc: 0.987806\tvalid's auc: 0.944763\n",
            "[55]\ttrain's auc: 0.987864\tvalid's auc: 0.944602\n",
            "[56]\ttrain's auc: 0.987973\tvalid's auc: 0.944435\n",
            "[57]\ttrain's auc: 0.988061\tvalid's auc: 0.94442\n",
            "Early stopping, best iteration is:\n",
            "[27]\ttrain's auc: 0.983786\tvalid's auc: 0.947607\n"
          ],
          "name": "stdout"
        }
      ]
    },
    {
      "cell_type": "markdown",
      "metadata": {
        "id": "6IDP-trM6tfd",
        "colab_type": "text"
      },
      "source": [
        "Hmm still overclassifying is_attributed. Going to remove the value counts featuers and see if it's a problem with the new features"
      ]
    },
    {
      "cell_type": "markdown",
      "metadata": {
        "id": "8ZYZy0qmAkOS",
        "colab_type": "text"
      },
      "source": [
        "# Train round 5 \n",
        "\n",
        "Removing the click count features to see if this helps"
      ]
    },
    {
      "cell_type": "code",
      "metadata": {
        "id": "vmyeXOyU7Lz1",
        "colab_type": "code",
        "outputId": "fc141b84-606a-45a5-80f5-0b9ef5028c67",
        "colab": {
          "base_uri": "https://localhost:8080/",
          "height": 1776
        }
      },
      "source": [
        "#training model with popular parameters\n",
        "target = 'is_attributed'\n",
        "predictors = ['ip', 'app', 'os', 'channel']\n",
        "categorical = ['ip', 'app', 'os', 'channel']\n",
        "\n",
        "\n",
        "dtrain= lgb.Dataset(train_subset[predictors].values, label=train_subset[target].values,\n",
        "                      feature_name=predictors,\n",
        "                      categorical_feature=categorical\n",
        "                      )\n",
        "dvalid = lgb.Dataset(val_subset[predictors].values, label=val_subset[target].values,\n",
        "                      feature_name=predictors,\n",
        "                      categorical_feature=categorical\n",
        "                      )\n",
        "\n",
        "evals_results = {}\n",
        "\n",
        "lgb_model = lgb.train(params, \n",
        "                 dtrain, \n",
        "                 valid_sets=[dtrain, dvalid], \n",
        "                 valid_names=['train','valid'], \n",
        "                 evals_result=evals_results, \n",
        "                 num_boost_round=350,\n",
        "                 early_stopping_rounds=30,\n",
        "                 verbose_eval=True, \n",
        "                 feval=None)"
      ],
      "execution_count": 0,
      "outputs": [
        {
          "output_type": "stream",
          "text": [
            "/usr/local/lib/python3.6/dist-packages/lightgbm/basic.py:1205: UserWarning: Using categorical_feature in Dataset.\n",
            "  warnings.warn('Using categorical_feature in Dataset.')\n",
            "/usr/local/lib/python3.6/dist-packages/lightgbm/basic.py:762: UserWarning: categorical_feature in param dict is overridden.\n",
            "  warnings.warn('categorical_feature in param dict is overridden.')\n"
          ],
          "name": "stderr"
        },
        {
          "output_type": "stream",
          "text": [
            "[1]\ttrain's auc: 0.947095\tvalid's auc: 0.946324\n",
            "Training until validation scores don't improve for 30 rounds.\n",
            "[2]\ttrain's auc: 0.957797\tvalid's auc: 0.952823\n",
            "[3]\ttrain's auc: 0.961829\tvalid's auc: 0.953526\n",
            "[4]\ttrain's auc: 0.964471\tvalid's auc: 0.955439\n",
            "[5]\ttrain's auc: 0.965814\tvalid's auc: 0.955426\n",
            "[6]\ttrain's auc: 0.967277\tvalid's auc: 0.956027\n",
            "[7]\ttrain's auc: 0.968319\tvalid's auc: 0.95607\n",
            "[8]\ttrain's auc: 0.969412\tvalid's auc: 0.956953\n",
            "[9]\ttrain's auc: 0.970016\tvalid's auc: 0.95737\n",
            "[10]\ttrain's auc: 0.970757\tvalid's auc: 0.958077\n",
            "[11]\ttrain's auc: 0.971052\tvalid's auc: 0.957935\n",
            "[12]\ttrain's auc: 0.971681\tvalid's auc: 0.958408\n",
            "[13]\ttrain's auc: 0.971941\tvalid's auc: 0.958391\n",
            "[14]\ttrain's auc: 0.972463\tvalid's auc: 0.958565\n",
            "[15]\ttrain's auc: 0.972654\tvalid's auc: 0.958553\n",
            "[16]\ttrain's auc: 0.973035\tvalid's auc: 0.958884\n",
            "[17]\ttrain's auc: 0.973228\tvalid's auc: 0.958934\n",
            "[18]\ttrain's auc: 0.973538\tvalid's auc: 0.958991\n",
            "[19]\ttrain's auc: 0.97377\tvalid's auc: 0.959095\n",
            "[20]\ttrain's auc: 0.974094\tvalid's auc: 0.959362\n",
            "[21]\ttrain's auc: 0.974328\tvalid's auc: 0.959441\n",
            "[22]\ttrain's auc: 0.974578\tvalid's auc: 0.959396\n",
            "[23]\ttrain's auc: 0.974749\tvalid's auc: 0.959447\n",
            "[24]\ttrain's auc: 0.974981\tvalid's auc: 0.959651\n",
            "[25]\ttrain's auc: 0.975158\tvalid's auc: 0.95966\n",
            "[26]\ttrain's auc: 0.975377\tvalid's auc: 0.959767\n",
            "[27]\ttrain's auc: 0.975537\tvalid's auc: 0.959747\n",
            "[28]\ttrain's auc: 0.975739\tvalid's auc: 0.959774\n",
            "[29]\ttrain's auc: 0.975881\tvalid's auc: 0.959698\n",
            "[30]\ttrain's auc: 0.97608\tvalid's auc: 0.959803\n",
            "[31]\ttrain's auc: 0.976309\tvalid's auc: 0.959882\n",
            "[32]\ttrain's auc: 0.976446\tvalid's auc: 0.959834\n",
            "[33]\ttrain's auc: 0.976598\tvalid's auc: 0.959892\n",
            "[34]\ttrain's auc: 0.976732\tvalid's auc: 0.959836\n",
            "[35]\ttrain's auc: 0.976921\tvalid's auc: 0.959859\n",
            "[36]\ttrain's auc: 0.97706\tvalid's auc: 0.959913\n",
            "[37]\ttrain's auc: 0.977205\tvalid's auc: 0.959919\n",
            "[38]\ttrain's auc: 0.977302\tvalid's auc: 0.959994\n",
            "[39]\ttrain's auc: 0.977423\tvalid's auc: 0.960043\n",
            "[40]\ttrain's auc: 0.977539\tvalid's auc: 0.960084\n",
            "[41]\ttrain's auc: 0.97773\tvalid's auc: 0.960012\n",
            "[42]\ttrain's auc: 0.977833\tvalid's auc: 0.96006\n",
            "[43]\ttrain's auc: 0.977952\tvalid's auc: 0.960068\n",
            "[44]\ttrain's auc: 0.978054\tvalid's auc: 0.959943\n",
            "[45]\ttrain's auc: 0.978219\tvalid's auc: 0.959985\n",
            "[46]\ttrain's auc: 0.978293\tvalid's auc: 0.959827\n",
            "[47]\ttrain's auc: 0.9784\tvalid's auc: 0.959835\n",
            "[48]\ttrain's auc: 0.978456\tvalid's auc: 0.959773\n",
            "[49]\ttrain's auc: 0.978637\tvalid's auc: 0.959821\n",
            "[50]\ttrain's auc: 0.978703\tvalid's auc: 0.959951\n",
            "[51]\ttrain's auc: 0.978809\tvalid's auc: 0.960003\n",
            "[52]\ttrain's auc: 0.978881\tvalid's auc: 0.959995\n",
            "[53]\ttrain's auc: 0.979005\tvalid's auc: 0.960048\n",
            "[54]\ttrain's auc: 0.97912\tvalid's auc: 0.959995\n",
            "[55]\ttrain's auc: 0.97926\tvalid's auc: 0.960117\n",
            "[56]\ttrain's auc: 0.979433\tvalid's auc: 0.960249\n",
            "[57]\ttrain's auc: 0.979517\tvalid's auc: 0.960343\n",
            "[58]\ttrain's auc: 0.97959\tvalid's auc: 0.960357\n",
            "[59]\ttrain's auc: 0.979644\tvalid's auc: 0.960429\n",
            "[60]\ttrain's auc: 0.979715\tvalid's auc: 0.960385\n",
            "[61]\ttrain's auc: 0.979784\tvalid's auc: 0.960404\n",
            "[62]\ttrain's auc: 0.979871\tvalid's auc: 0.960553\n",
            "[63]\ttrain's auc: 0.979943\tvalid's auc: 0.960489\n",
            "[64]\ttrain's auc: 0.980013\tvalid's auc: 0.960353\n",
            "[65]\ttrain's auc: 0.980124\tvalid's auc: 0.96033\n",
            "[66]\ttrain's auc: 0.980175\tvalid's auc: 0.960327\n",
            "[67]\ttrain's auc: 0.980277\tvalid's auc: 0.960419\n",
            "[68]\ttrain's auc: 0.980316\tvalid's auc: 0.960327\n",
            "[69]\ttrain's auc: 0.980396\tvalid's auc: 0.960341\n",
            "[70]\ttrain's auc: 0.980445\tvalid's auc: 0.960302\n",
            "[71]\ttrain's auc: 0.980498\tvalid's auc: 0.960271\n",
            "[72]\ttrain's auc: 0.980565\tvalid's auc: 0.960191\n",
            "[73]\ttrain's auc: 0.980615\tvalid's auc: 0.960231\n",
            "[74]\ttrain's auc: 0.980647\tvalid's auc: 0.960212\n",
            "[75]\ttrain's auc: 0.980682\tvalid's auc: 0.960193\n",
            "[76]\ttrain's auc: 0.980744\tvalid's auc: 0.960099\n",
            "[77]\ttrain's auc: 0.980783\tvalid's auc: 0.960137\n",
            "[78]\ttrain's auc: 0.980822\tvalid's auc: 0.960163\n",
            "[79]\ttrain's auc: 0.980882\tvalid's auc: 0.960259\n",
            "[80]\ttrain's auc: 0.980908\tvalid's auc: 0.959999\n",
            "[81]\ttrain's auc: 0.980962\tvalid's auc: 0.960019\n",
            "[82]\ttrain's auc: 0.980997\tvalid's auc: 0.959924\n",
            "[83]\ttrain's auc: 0.981054\tvalid's auc: 0.959922\n",
            "[84]\ttrain's auc: 0.981097\tvalid's auc: 0.959905\n",
            "[85]\ttrain's auc: 0.981141\tvalid's auc: 0.959935\n",
            "[86]\ttrain's auc: 0.981181\tvalid's auc: 0.959907\n",
            "[87]\ttrain's auc: 0.98122\tvalid's auc: 0.959851\n",
            "[88]\ttrain's auc: 0.981251\tvalid's auc: 0.959902\n",
            "[89]\ttrain's auc: 0.981299\tvalid's auc: 0.959893\n",
            "[90]\ttrain's auc: 0.981336\tvalid's auc: 0.959814\n",
            "[91]\ttrain's auc: 0.981405\tvalid's auc: 0.959843\n",
            "[92]\ttrain's auc: 0.981446\tvalid's auc: 0.959675\n",
            "Early stopping, best iteration is:\n",
            "[62]\ttrain's auc: 0.979871\tvalid's auc: 0.960553\n"
          ],
          "name": "stdout"
        }
      ]
    },
    {
      "cell_type": "code",
      "metadata": {
        "id": "7x7DLzhd755o",
        "colab_type": "code",
        "outputId": "b51ae971-fc3e-47e4-85b5-83258e46a9d5",
        "colab": {
          "base_uri": "https://localhost:8080/",
          "height": 70
        }
      },
      "source": [
        "#trying to predict on test_1 again\n",
        "y_pred=lgb_model.predict(test_1[predictors], num_iteration=lgb_model.best_iteration)\n",
        "\n",
        "test_1['is_attributed']=0\n",
        "test_1.loc[y_pred>0.5, 'is_attributed']=1\n",
        "test_1['is_attributed'].value_counts()"
      ],
      "execution_count": 0,
      "outputs": [
        {
          "output_type": "execute_result",
          "data": {
            "text/plain": [
              "0    5392031\n",
              "1     871459\n",
              "Name: is_attributed, dtype: int64"
            ]
          },
          "metadata": {
            "tags": []
          },
          "execution_count": 70
        }
      ]
    },
    {
      "cell_type": "code",
      "metadata": {
        "id": "UeYHE2Ia7u18",
        "colab_type": "code",
        "outputId": "fd6bd6e0-56da-4d06-80a7-558877f9b104",
        "colab": {
          "base_uri": "https://localhost:8080/",
          "height": 34
        }
      },
      "source": [
        "871459/len(test_1)"
      ],
      "execution_count": 0,
      "outputs": [
        {
          "output_type": "execute_result",
          "data": {
            "text/plain": [
              "0.1391331350413268"
            ]
          },
          "metadata": {
            "tags": []
          },
          "execution_count": 71
        }
      ]
    },
    {
      "cell_type": "markdown",
      "metadata": {
        "id": "Bx2M9jmzBFKq",
        "colab_type": "text"
      },
      "source": [
        ""
      ]
    },
    {
      "cell_type": "markdown",
      "metadata": {
        "id": "RTQDQAtyAvNk",
        "colab_type": "text"
      },
      "source": [
        "Hmmm it's not as bad as before but still heavily overclassifying. When I trained a model on the sample provided by kaggle, with a random split and no feature engineering it classified 2% as attributed and had an AUC around 0.85... Disappointing but will keep trying!"
      ]
    },
    {
      "cell_type": "markdown",
      "metadata": {
        "id": "i9G7bFdVAQte",
        "colab_type": "text"
      },
      "source": [
        "# Thoughts and next steps\n",
        "\n",
        "I wonder if I need to be more selective about what records are included in the training and test datasets so they have as much overlap as possible; however, this doesn't seem practical for a real life setting. If we were trying to predict whether a click was going to lead to a download or whether a click was fraudulent, how would we do this real time without prior knowledge of a test set feature distribution?  \n",
        "\n",
        "It also seems like the balance of the outcome variable highly affected the prediction where a balanced dataset caused our model to predict downloads at a rate that was way too high. Need to think of a better way to balance the dataset for training. \n",
        "\n",
        "\n",
        "---\n",
        "\n",
        "To do:\n",
        "\n",
        "* More feature engineering (time between clicks, mean clicks, is_attributed rate)\n",
        "* Other models (neural net, random forest...)\n",
        "* Select different train and validation datasets\n",
        "* Hyperparameter tuning\n",
        "\n",
        "  \n",
        "---\n",
        "\n",
        "Some questions for our mentor:\n",
        "\n",
        "How can we more mindfully select our training and validation datasets?   \n",
        "How should we balance the outcome of interest in the train and validation datasets?  \n",
        "With a problem like this,  what are some practical feature engineering ideas that don't cause data leakage from the test dataset?  \n",
        "What is your process for feature engineering?  \n",
        "What are your methods for analyzing datasets of this scale?  "
      ]
    }
  ]
}