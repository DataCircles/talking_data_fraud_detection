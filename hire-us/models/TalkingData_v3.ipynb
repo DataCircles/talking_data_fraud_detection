{
 "cells": [
  {
   "cell_type": "markdown",
   "metadata": {},
   "source": [
    "### Problem: \n",
    "Fraud risk is everywhere, but for companies that advertise online, click fraud can happen at an overwhelming volume, resulting in misleading click data and wasted money. Ad channels can drive up costs by simply clicking on the ad at a large scale. With over 1 billion smart mobile devices in active use every month, China is the largest mobile market in the world and therefore suffers from huge volumes of fradulent traffic.\n",
    "\n",
    "TalkingData, China’s largest independent big data service platform, covers over 70% of active mobile devices nationwide. They handle 3 billion clicks per day, of which 90% are potentially fraudulent. Their current approach to prevent click fraud for app developers is to measure the journey of a user’s click across their portfolio, and flag IP addresses who produce lots of clicks, but never end up installing apps. With this information, they've built an IP blacklist and device blacklist.\n",
    "\n",
    "While successful, they want to always be one step ahead of fraudsters and have turned to the Kaggle community for help in further developing their solution. In their 2nd competition with Kaggle, you’re challenged to build an algorithm that predicts whether a user will download an app after clicking a mobile app ad. To support your modeling, they have provided a generous dataset covering approximately 200 million clicks over 4 days!"
   ]
  },
  {
   "cell_type": "markdown",
   "metadata": {},
   "source": [
    "### Goal:\n",
    "Predicting the probabilities for different click_id's in the test set.**\n",
    "\n",
    "For each click_id in the test set, we must predict a probability for the target is_attributed variable. The file should contain a header and have the following format:\n",
    "* click_id,is_attributed\n",
    "* 1,0.003\n",
    "* 2,0.001\n",
    "* 3,0.000\n",
    "* etc."
   ]
  },
  {
   "cell_type": "markdown",
   "metadata": {},
   "source": [
    "### Dataset Description\n",
    "Each row of the training data contains a click record, with the following features.\n",
    "\n",
    "- **ip**: ip address of click.\n",
    "- **app**: app id for marketing.\n",
    "- **device**: device type id of user mobile phone (e.g., iphone 6 plus, iphone 7, huawei mate 7, etc.)\n",
    "- **os**: os version id of user mobile phone\n",
    "- **channel**: channel id of mobile ad publisher\n",
    "- **click_time**: timestamp of click (UTC)\n",
    "- **attributed_time**: if user download the app for after clicking an ad, this is the time of the app download\n",
    "- **is_attributed**: the target that is to be predicted, indicating the app was downloaded\n",
    "    Note that ip, app, device, os, and channel are encoded.\n",
    "\n",
    "The test data is similar, with the following differences:\n",
    "- **click_id**: reference for making predictions\n",
    "- **is_attributed**: not included"
   ]
  },
  {
   "cell_type": "markdown",
   "metadata": {},
   "source": [
    "### Evaluation:\n",
    "Submissions are evaluated on area under the ROC curve between the predicted probability and the observed target."
   ]
  },
  {
   "cell_type": "markdown",
   "metadata": {},
   "source": [
    "### TLDR; Summary\n",
    "- Total train samples are 184,903,890.\n",
    "- Total test samples are 18,790,469.\n",
    "- Total test supplement samples are 57,537,505. \n",
    "- Percentage of positive data: 0.2%\n",
    "- Down-sampled the data to take 10M rows using the resample function from sklearn\n",
    "- Used Kaggle kernel for training and generating the output for this problem \n",
    "- Used XGBoost for training and testing purposes"
   ]
  },
  {
   "cell_type": "markdown",
   "metadata": {},
   "source": [
    "### Leaderboard Score:\n",
    "- **Public score**: 0.96273\n",
    "- **Private score**: 0.96549"
   ]
  },
  {
   "cell_type": "code",
   "execution_count": 1,
   "metadata": {
    "_cell_guid": "b1076dfc-b9ad-4769-8c92-a6c4dae69d19",
    "_uuid": "8f2839f25d086af736a60e9eeb907d3b93b6e0e5"
   },
   "outputs": [
    {
     "name": "stdout",
     "output_type": "stream",
     "text": [
      "['test_supplement.csv', 'train_sample.csv', 'train.csv', 'sample_submission.csv', 'test.csv']\n"
     ]
    }
   ],
   "source": [
    "# This Python 3 environment comes with many helpful analytics libraries installed\n",
    "# It is defined by the kaggle/python docker image: https://github.com/kaggle/docker-python\n",
    "# For example, here's several helpful packages to load in \n",
    "\n",
    "import numpy as np # linear algebra\n",
    "import pandas as pd # data processing, CSV file I/O (e.g. pd.read_csv)\n",
    "\n",
    "# Input data files are available in the \"../input/\" directory.\n",
    "# For example, running this (by clicking run or pressing Shift+Enter) will list the files in the input directory\n",
    "\n",
    "import os\n",
    "print(os.listdir(\"../input\"))\n",
    "\n",
    "# Any results you write to the current directory are saved as output."
   ]
  },
  {
   "cell_type": "code",
   "execution_count": 2,
   "metadata": {
    "_cell_guid": "79c7e3d0-c299-4dcb-8224-4455121ee9b0",
    "_uuid": "d629ff2d2480ee46fbb7e2d37f6b5fab8052498a"
   },
   "outputs": [
    {
     "data": {
      "text/plain": [
       "<Figure size 864x360 with 0 Axes>"
      ]
     },
     "metadata": {},
     "output_type": "display_data"
    }
   ],
   "source": [
    "\n",
    "import pandas as pd\n",
    "import numpy as np\n",
    "from sklearn.model_selection import train_test_split\n",
    "import matplotlib.pyplot as plt\n",
    "import xgboost as xgb\n",
    "from xgboost import plot_importance\n",
    "import gc\n",
    "import time\n",
    "from datetime import datetime\n",
    "%config InlineBackend.figure_format = 'retina'\n",
    "plt.figure(figsize=(12,5))\n",
    "from sklearn.utils import resample"
   ]
  },
  {
   "cell_type": "markdown",
   "metadata": {},
   "source": [
    "### Train dataset"
   ]
  },
  {
   "cell_type": "code",
   "execution_count": 3,
   "metadata": {},
   "outputs": [
    {
     "data": {
      "text/html": [
       "<div>\n",
       "<style scoped>\n",
       "    .dataframe tbody tr th:only-of-type {\n",
       "        vertical-align: middle;\n",
       "    }\n",
       "\n",
       "    .dataframe tbody tr th {\n",
       "        vertical-align: top;\n",
       "    }\n",
       "\n",
       "    .dataframe thead th {\n",
       "        text-align: right;\n",
       "    }\n",
       "</style>\n",
       "<table border=\"1\" class=\"dataframe\">\n",
       "  <thead>\n",
       "    <tr style=\"text-align: right;\">\n",
       "      <th></th>\n",
       "      <th>ip</th>\n",
       "      <th>app</th>\n",
       "      <th>device</th>\n",
       "      <th>os</th>\n",
       "      <th>channel</th>\n",
       "      <th>click_time</th>\n",
       "      <th>attributed_time</th>\n",
       "      <th>is_attributed</th>\n",
       "    </tr>\n",
       "  </thead>\n",
       "  <tbody>\n",
       "    <tr>\n",
       "      <th>0</th>\n",
       "      <td>83230</td>\n",
       "      <td>3</td>\n",
       "      <td>1</td>\n",
       "      <td>13</td>\n",
       "      <td>379</td>\n",
       "      <td>2017-11-06 14:32:21</td>\n",
       "      <td>NaN</td>\n",
       "      <td>0</td>\n",
       "    </tr>\n",
       "    <tr>\n",
       "      <th>1</th>\n",
       "      <td>17357</td>\n",
       "      <td>3</td>\n",
       "      <td>1</td>\n",
       "      <td>19</td>\n",
       "      <td>379</td>\n",
       "      <td>2017-11-06 14:33:34</td>\n",
       "      <td>NaN</td>\n",
       "      <td>0</td>\n",
       "    </tr>\n",
       "    <tr>\n",
       "      <th>2</th>\n",
       "      <td>35810</td>\n",
       "      <td>3</td>\n",
       "      <td>1</td>\n",
       "      <td>13</td>\n",
       "      <td>379</td>\n",
       "      <td>2017-11-06 14:34:12</td>\n",
       "      <td>NaN</td>\n",
       "      <td>0</td>\n",
       "    </tr>\n",
       "    <tr>\n",
       "      <th>3</th>\n",
       "      <td>45745</td>\n",
       "      <td>14</td>\n",
       "      <td>1</td>\n",
       "      <td>13</td>\n",
       "      <td>478</td>\n",
       "      <td>2017-11-06 14:34:52</td>\n",
       "      <td>NaN</td>\n",
       "      <td>0</td>\n",
       "    </tr>\n",
       "    <tr>\n",
       "      <th>4</th>\n",
       "      <td>161007</td>\n",
       "      <td>3</td>\n",
       "      <td>1</td>\n",
       "      <td>13</td>\n",
       "      <td>379</td>\n",
       "      <td>2017-11-06 14:35:08</td>\n",
       "      <td>NaN</td>\n",
       "      <td>0</td>\n",
       "    </tr>\n",
       "  </tbody>\n",
       "</table>\n",
       "</div>"
      ],
      "text/plain": [
       "       ip  app      ...        attributed_time  is_attributed\n",
       "0   83230    3      ...                    NaN              0\n",
       "1   17357    3      ...                    NaN              0\n",
       "2   35810    3      ...                    NaN              0\n",
       "3   45745   14      ...                    NaN              0\n",
       "4  161007    3      ...                    NaN              0\n",
       "\n",
       "[5 rows x 8 columns]"
      ]
     },
     "execution_count": 3,
     "metadata": {},
     "output_type": "execute_result"
    }
   ],
   "source": [
    "train_path = \"../input/\" + 'train.csv'\n",
    "train_df = pd.read_csv(train_path, nrows = 10000)\n",
    "train_df.head()"
   ]
  },
  {
   "cell_type": "markdown",
   "metadata": {},
   "source": [
    "### Test dataset"
   ]
  },
  {
   "cell_type": "code",
   "execution_count": 4,
   "metadata": {},
   "outputs": [
    {
     "data": {
      "text/html": [
       "<div>\n",
       "<style scoped>\n",
       "    .dataframe tbody tr th:only-of-type {\n",
       "        vertical-align: middle;\n",
       "    }\n",
       "\n",
       "    .dataframe tbody tr th {\n",
       "        vertical-align: top;\n",
       "    }\n",
       "\n",
       "    .dataframe thead th {\n",
       "        text-align: right;\n",
       "    }\n",
       "</style>\n",
       "<table border=\"1\" class=\"dataframe\">\n",
       "  <thead>\n",
       "    <tr style=\"text-align: right;\">\n",
       "      <th></th>\n",
       "      <th>click_id</th>\n",
       "      <th>ip</th>\n",
       "      <th>app</th>\n",
       "      <th>device</th>\n",
       "      <th>os</th>\n",
       "      <th>channel</th>\n",
       "      <th>click_time</th>\n",
       "    </tr>\n",
       "  </thead>\n",
       "  <tbody>\n",
       "    <tr>\n",
       "      <th>0</th>\n",
       "      <td>0</td>\n",
       "      <td>5744</td>\n",
       "      <td>9</td>\n",
       "      <td>1</td>\n",
       "      <td>3</td>\n",
       "      <td>107</td>\n",
       "      <td>2017-11-10 04:00:00</td>\n",
       "    </tr>\n",
       "    <tr>\n",
       "      <th>1</th>\n",
       "      <td>1</td>\n",
       "      <td>119901</td>\n",
       "      <td>9</td>\n",
       "      <td>1</td>\n",
       "      <td>3</td>\n",
       "      <td>466</td>\n",
       "      <td>2017-11-10 04:00:00</td>\n",
       "    </tr>\n",
       "    <tr>\n",
       "      <th>2</th>\n",
       "      <td>2</td>\n",
       "      <td>72287</td>\n",
       "      <td>21</td>\n",
       "      <td>1</td>\n",
       "      <td>19</td>\n",
       "      <td>128</td>\n",
       "      <td>2017-11-10 04:00:00</td>\n",
       "    </tr>\n",
       "    <tr>\n",
       "      <th>3</th>\n",
       "      <td>3</td>\n",
       "      <td>78477</td>\n",
       "      <td>15</td>\n",
       "      <td>1</td>\n",
       "      <td>13</td>\n",
       "      <td>111</td>\n",
       "      <td>2017-11-10 04:00:00</td>\n",
       "    </tr>\n",
       "    <tr>\n",
       "      <th>4</th>\n",
       "      <td>4</td>\n",
       "      <td>123080</td>\n",
       "      <td>12</td>\n",
       "      <td>1</td>\n",
       "      <td>13</td>\n",
       "      <td>328</td>\n",
       "      <td>2017-11-10 04:00:00</td>\n",
       "    </tr>\n",
       "  </tbody>\n",
       "</table>\n",
       "</div>"
      ],
      "text/plain": [
       "   click_id      ip  app         ...           os  channel           click_time\n",
       "0         0    5744    9         ...            3      107  2017-11-10 04:00:00\n",
       "1         1  119901    9         ...            3      466  2017-11-10 04:00:00\n",
       "2         2   72287   21         ...           19      128  2017-11-10 04:00:00\n",
       "3         3   78477   15         ...           13      111  2017-11-10 04:00:00\n",
       "4         4  123080   12         ...           13      328  2017-11-10 04:00:00\n",
       "\n",
       "[5 rows x 7 columns]"
      ]
     },
     "execution_count": 4,
     "metadata": {},
     "output_type": "execute_result"
    }
   ],
   "source": [
    "test_path = \"../input/\" + 'test.csv'\n",
    "test_df = pd.read_csv(test_path, nrows = 10000)\n",
    "test_df.head()"
   ]
  },
  {
   "cell_type": "markdown",
   "metadata": {},
   "source": [
    "### Test supplement dataset"
   ]
  },
  {
   "cell_type": "code",
   "execution_count": 5,
   "metadata": {},
   "outputs": [
    {
     "data": {
      "text/html": [
       "<div>\n",
       "<style scoped>\n",
       "    .dataframe tbody tr th:only-of-type {\n",
       "        vertical-align: middle;\n",
       "    }\n",
       "\n",
       "    .dataframe tbody tr th {\n",
       "        vertical-align: top;\n",
       "    }\n",
       "\n",
       "    .dataframe thead th {\n",
       "        text-align: right;\n",
       "    }\n",
       "</style>\n",
       "<table border=\"1\" class=\"dataframe\">\n",
       "  <thead>\n",
       "    <tr style=\"text-align: right;\">\n",
       "      <th></th>\n",
       "      <th>click_id</th>\n",
       "      <th>ip</th>\n",
       "      <th>app</th>\n",
       "      <th>device</th>\n",
       "      <th>os</th>\n",
       "      <th>channel</th>\n",
       "      <th>click_time</th>\n",
       "    </tr>\n",
       "  </thead>\n",
       "  <tbody>\n",
       "    <tr>\n",
       "      <th>0</th>\n",
       "      <td>0</td>\n",
       "      <td>43570</td>\n",
       "      <td>3</td>\n",
       "      <td>1</td>\n",
       "      <td>18</td>\n",
       "      <td>379</td>\n",
       "      <td>2017-11-09 14:23:39</td>\n",
       "    </tr>\n",
       "    <tr>\n",
       "      <th>1</th>\n",
       "      <td>1</td>\n",
       "      <td>80528</td>\n",
       "      <td>3</td>\n",
       "      <td>1</td>\n",
       "      <td>13</td>\n",
       "      <td>379</td>\n",
       "      <td>2017-11-09 14:23:51</td>\n",
       "    </tr>\n",
       "    <tr>\n",
       "      <th>2</th>\n",
       "      <td>2</td>\n",
       "      <td>32323</td>\n",
       "      <td>3</td>\n",
       "      <td>1</td>\n",
       "      <td>13</td>\n",
       "      <td>379</td>\n",
       "      <td>2017-11-09 14:25:57</td>\n",
       "    </tr>\n",
       "    <tr>\n",
       "      <th>3</th>\n",
       "      <td>3</td>\n",
       "      <td>42887</td>\n",
       "      <td>3</td>\n",
       "      <td>1</td>\n",
       "      <td>17</td>\n",
       "      <td>379</td>\n",
       "      <td>2017-11-09 14:26:03</td>\n",
       "    </tr>\n",
       "    <tr>\n",
       "      <th>4</th>\n",
       "      <td>4</td>\n",
       "      <td>119289</td>\n",
       "      <td>58</td>\n",
       "      <td>1</td>\n",
       "      <td>30</td>\n",
       "      <td>120</td>\n",
       "      <td>2017-11-09 14:26:41</td>\n",
       "    </tr>\n",
       "  </tbody>\n",
       "</table>\n",
       "</div>"
      ],
      "text/plain": [
       "   click_id      ip  app         ...           os  channel           click_time\n",
       "0         0   43570    3         ...           18      379  2017-11-09 14:23:39\n",
       "1         1   80528    3         ...           13      379  2017-11-09 14:23:51\n",
       "2         2   32323    3         ...           13      379  2017-11-09 14:25:57\n",
       "3         3   42887    3         ...           17      379  2017-11-09 14:26:03\n",
       "4         4  119289   58         ...           30      120  2017-11-09 14:26:41\n",
       "\n",
       "[5 rows x 7 columns]"
      ]
     },
     "execution_count": 5,
     "metadata": {},
     "output_type": "execute_result"
    }
   ],
   "source": [
    "test_sup_path = \"../input/\" + 'test_supplement.csv'\n",
    "test_sup_df = pd.read_csv(test_sup_path, nrows = 10000)\n",
    "test_sup_df.head()"
   ]
  },
  {
   "cell_type": "code",
   "execution_count": 6,
   "metadata": {},
   "outputs": [
    {
     "data": {
      "text/plain": [
       "ip                  int64\n",
       "app                 int64\n",
       "device              int64\n",
       "os                  int64\n",
       "channel             int64\n",
       "click_time         object\n",
       "attributed_time    object\n",
       "is_attributed       int64\n",
       "dtype: object"
      ]
     },
     "execution_count": 6,
     "metadata": {},
     "output_type": "execute_result"
    }
   ],
   "source": [
    "train_df.dtypes"
   ]
  },
  {
   "cell_type": "code",
   "execution_count": 7,
   "metadata": {},
   "outputs": [],
   "source": [
    "train_cols = ['ip','app','device','os','channel','click_time','is_attributed']\n",
    "test_cols = ['ip','app','device','os','channel','click_time','click_id']\n",
    "\n",
    "# By default, pandas sets the dtype of integers to int64. In many cases, \n",
    "# this datatype takes up extra memory which is just not required.\n",
    "# For example: int64 datatype takes in 8 bytes and can represent humongous integers, \n",
    "# from -9223372036854775808 to 9223372036854775807. Hence, memory reduction by changing \n",
    "# the datatypes is very helpful.\n",
    "\n",
    "dtypes = {\n",
    "        'ip'            : 'uint32',\n",
    "        'app'           : 'uint16',\n",
    "        'device'        : 'uint16',\n",
    "        'os'            : 'uint16',\n",
    "        'channel'       : 'uint16',\n",
    "        'click_id'      : 'uint32',\n",
    "        'is_attributed' : 'uint8'\n",
    "        }"
   ]
  },
  {
   "cell_type": "code",
   "execution_count": 8,
   "metadata": {},
   "outputs": [],
   "source": [
    "# Reading the last 10M rows for down sampling the data\n",
    "train_df = pd.read_csv( '../input/' + \"train.csv\", skiprows=range(1,123903891), nrows=61000000, usecols=train_cols, dtype=dtypes)\n",
    "test_sup_df = pd.read_csv('../input/' + \"test_supplement.csv\", usecols=test_cols, dtype=dtypes)"
   ]
  },
  {
   "cell_type": "code",
   "execution_count": 9,
   "metadata": {},
   "outputs": [],
   "source": [
    "# Separate majority and minority classes\n",
    "df_train_majority = train_df[train_df.is_attributed==0]\n",
    "df_train_minority = train_df[train_df.is_attributed==1]"
   ]
  },
  {
   "cell_type": "code",
   "execution_count": 10,
   "metadata": {},
   "outputs": [
    {
     "data": {
      "text/plain": [
       "60849867"
      ]
     },
     "execution_count": 10,
     "metadata": {},
     "output_type": "execute_result"
    }
   ],
   "source": [
    "len(df_train_majority)"
   ]
  },
  {
   "cell_type": "code",
   "execution_count": 11,
   "metadata": {},
   "outputs": [
    {
     "data": {
      "text/plain": [
       "150133"
      ]
     },
     "execution_count": 11,
     "metadata": {},
     "output_type": "execute_result"
    }
   ],
   "source": [
    "len(df_train_minority)"
   ]
  },
  {
   "cell_type": "code",
   "execution_count": 12,
   "metadata": {},
   "outputs": [],
   "source": [
    "# Downsample majority class\n",
    "df_majority_downsampled = resample(df_train_majority, \n",
    "                                 replace=False,    # sample without replacement\n",
    "                                 n_samples=10000000,     # to match minority class\n",
    "                                 random_state=123) # reproducible results"
   ]
  },
  {
   "cell_type": "code",
   "execution_count": 13,
   "metadata": {},
   "outputs": [],
   "source": [
    "# Combine minority class with downsampled majority class\n",
    "df_downsampled = pd.concat([df_majority_downsampled, df_train_minority])"
   ]
  },
  {
   "cell_type": "code",
   "execution_count": 14,
   "metadata": {},
   "outputs": [
    {
     "data": {
      "text/plain": [
       "0    10000000\n",
       "1      150133\n",
       "Name: is_attributed, dtype: int64"
      ]
     },
     "execution_count": 14,
     "metadata": {},
     "output_type": "execute_result"
    }
   ],
   "source": [
    "# Display new class counts\n",
    "df_downsampled.is_attributed.value_counts()"
   ]
  },
  {
   "cell_type": "code",
   "execution_count": 15,
   "metadata": {},
   "outputs": [],
   "source": [
    "# Feature extraction using click_time column in the datasets\n",
    "def feature_extraction(df):\n",
    "    df['date'] = pd.to_datetime(df['click_time'])\n",
    "    df['dayOfWeek'] = df['date'].dt.dayofweek.astype('uint16')\n",
    "    df['dayOfYear'] = df['date'].dt.dayofyear.astype('uint16')\n",
    "    df['hour'] = df['date'].dt.hour.astype('uint8')\n",
    "    df['min'] = df['date'].dt.minute.astype('uint8')\n",
    "    df['sec'] = df['date'].dt.second.astype('uint8')\n",
    "    df.drop(['date','click_time'], axis= 1, inplace=True)\n",
    "    return df"
   ]
  },
  {
   "cell_type": "code",
   "execution_count": 16,
   "metadata": {},
   "outputs": [
    {
     "data": {
      "text/plain": [
       "130"
      ]
     },
     "execution_count": 16,
     "metadata": {},
     "output_type": "execute_result"
    }
   ],
   "source": [
    "del df_train_minority, train_df, df_majority_downsampled\n",
    "gc.collect()"
   ]
  },
  {
   "cell_type": "code",
   "execution_count": 17,
   "metadata": {},
   "outputs": [
    {
     "data": {
      "text/html": [
       "<div>\n",
       "<style scoped>\n",
       "    .dataframe tbody tr th:only-of-type {\n",
       "        vertical-align: middle;\n",
       "    }\n",
       "\n",
       "    .dataframe tbody tr th {\n",
       "        vertical-align: top;\n",
       "    }\n",
       "\n",
       "    .dataframe thead th {\n",
       "        text-align: right;\n",
       "    }\n",
       "</style>\n",
       "<table border=\"1\" class=\"dataframe\">\n",
       "  <thead>\n",
       "    <tr style=\"text-align: right;\">\n",
       "      <th></th>\n",
       "      <th>ip</th>\n",
       "      <th>app</th>\n",
       "      <th>device</th>\n",
       "      <th>os</th>\n",
       "      <th>channel</th>\n",
       "      <th>click_time</th>\n",
       "      <th>is_attributed</th>\n",
       "    </tr>\n",
       "  </thead>\n",
       "  <tbody>\n",
       "    <tr>\n",
       "      <th>43339467</th>\n",
       "      <td>30225</td>\n",
       "      <td>9</td>\n",
       "      <td>1</td>\n",
       "      <td>15</td>\n",
       "      <td>442</td>\n",
       "      <td>2017-11-09 10:41:44</td>\n",
       "      <td>0</td>\n",
       "    </tr>\n",
       "    <tr>\n",
       "      <th>44080219</th>\n",
       "      <td>102840</td>\n",
       "      <td>2</td>\n",
       "      <td>1</td>\n",
       "      <td>3</td>\n",
       "      <td>236</td>\n",
       "      <td>2017-11-09 10:55:02</td>\n",
       "      <td>0</td>\n",
       "    </tr>\n",
       "    <tr>\n",
       "      <th>18550211</th>\n",
       "      <td>53469</td>\n",
       "      <td>3</td>\n",
       "      <td>1</td>\n",
       "      <td>9</td>\n",
       "      <td>280</td>\n",
       "      <td>2017-11-09 03:20:40</td>\n",
       "      <td>0</td>\n",
       "    </tr>\n",
       "    <tr>\n",
       "      <th>16650992</th>\n",
       "      <td>4019</td>\n",
       "      <td>2</td>\n",
       "      <td>1</td>\n",
       "      <td>41</td>\n",
       "      <td>236</td>\n",
       "      <td>2017-11-09 02:44:21</td>\n",
       "      <td>0</td>\n",
       "    </tr>\n",
       "    <tr>\n",
       "      <th>2637581</th>\n",
       "      <td>69037</td>\n",
       "      <td>9</td>\n",
       "      <td>1</td>\n",
       "      <td>17</td>\n",
       "      <td>466</td>\n",
       "      <td>2017-11-08 18:45:03</td>\n",
       "      <td>0</td>\n",
       "    </tr>\n",
       "  </tbody>\n",
       "</table>\n",
       "</div>"
      ],
      "text/plain": [
       "              ip  app      ...                 click_time  is_attributed\n",
       "43339467   30225    9      ...        2017-11-09 10:41:44              0\n",
       "44080219  102840    2      ...        2017-11-09 10:55:02              0\n",
       "18550211   53469    3      ...        2017-11-09 03:20:40              0\n",
       "16650992    4019    2      ...        2017-11-09 02:44:21              0\n",
       "2637581    69037    9      ...        2017-11-08 18:45:03              0\n",
       "\n",
       "[5 rows x 7 columns]"
      ]
     },
     "execution_count": 17,
     "metadata": {},
     "output_type": "execute_result"
    }
   ],
   "source": [
    "df_downsampled.head()"
   ]
  },
  {
   "cell_type": "code",
   "execution_count": 18,
   "metadata": {},
   "outputs": [],
   "source": [
    "# drop the target values from train dataset \n",
    "y = df_downsampled['is_attributed']\n",
    "df_downsampled.drop(['is_attributed'], axis=1, inplace=True)"
   ]
  },
  {
   "cell_type": "code",
   "execution_count": 19,
   "metadata": {},
   "outputs": [
    {
     "data": {
      "text/plain": [
       "33"
      ]
     },
     "execution_count": 19,
     "metadata": {},
     "output_type": "execute_result"
    }
   ],
   "source": [
    "# drop the click_time from the test data\n",
    "test_sup_df.drop(['click_id'], axis=1, inplace=True)\n",
    "gc.collect()"
   ]
  },
  {
   "cell_type": "code",
   "execution_count": 20,
   "metadata": {},
   "outputs": [
    {
     "data": {
      "text/html": [
       "<div>\n",
       "<style scoped>\n",
       "    .dataframe tbody tr th:only-of-type {\n",
       "        vertical-align: middle;\n",
       "    }\n",
       "\n",
       "    .dataframe tbody tr th {\n",
       "        vertical-align: top;\n",
       "    }\n",
       "\n",
       "    .dataframe thead th {\n",
       "        text-align: right;\n",
       "    }\n",
       "</style>\n",
       "<table border=\"1\" class=\"dataframe\">\n",
       "  <thead>\n",
       "    <tr style=\"text-align: right;\">\n",
       "      <th></th>\n",
       "      <th>ip</th>\n",
       "      <th>app</th>\n",
       "      <th>device</th>\n",
       "      <th>os</th>\n",
       "      <th>channel</th>\n",
       "      <th>click_time</th>\n",
       "    </tr>\n",
       "  </thead>\n",
       "  <tbody>\n",
       "    <tr>\n",
       "      <th>43339467</th>\n",
       "      <td>30225</td>\n",
       "      <td>9</td>\n",
       "      <td>1</td>\n",
       "      <td>15</td>\n",
       "      <td>442</td>\n",
       "      <td>2017-11-09 10:41:44</td>\n",
       "    </tr>\n",
       "    <tr>\n",
       "      <th>44080219</th>\n",
       "      <td>102840</td>\n",
       "      <td>2</td>\n",
       "      <td>1</td>\n",
       "      <td>3</td>\n",
       "      <td>236</td>\n",
       "      <td>2017-11-09 10:55:02</td>\n",
       "    </tr>\n",
       "    <tr>\n",
       "      <th>18550211</th>\n",
       "      <td>53469</td>\n",
       "      <td>3</td>\n",
       "      <td>1</td>\n",
       "      <td>9</td>\n",
       "      <td>280</td>\n",
       "      <td>2017-11-09 03:20:40</td>\n",
       "    </tr>\n",
       "    <tr>\n",
       "      <th>16650992</th>\n",
       "      <td>4019</td>\n",
       "      <td>2</td>\n",
       "      <td>1</td>\n",
       "      <td>41</td>\n",
       "      <td>236</td>\n",
       "      <td>2017-11-09 02:44:21</td>\n",
       "    </tr>\n",
       "    <tr>\n",
       "      <th>2637581</th>\n",
       "      <td>69037</td>\n",
       "      <td>9</td>\n",
       "      <td>1</td>\n",
       "      <td>17</td>\n",
       "      <td>466</td>\n",
       "      <td>2017-11-08 18:45:03</td>\n",
       "    </tr>\n",
       "  </tbody>\n",
       "</table>\n",
       "</div>"
      ],
      "text/plain": [
       "              ip  app         ...           channel           click_time\n",
       "43339467   30225    9         ...               442  2017-11-09 10:41:44\n",
       "44080219  102840    2         ...               236  2017-11-09 10:55:02\n",
       "18550211   53469    3         ...               280  2017-11-09 03:20:40\n",
       "16650992    4019    2         ...               236  2017-11-09 02:44:21\n",
       "2637581    69037    9         ...               466  2017-11-08 18:45:03\n",
       "\n",
       "[5 rows x 6 columns]"
      ]
     },
     "execution_count": 20,
     "metadata": {},
     "output_type": "execute_result"
    }
   ],
   "source": [
    "# Merging the supplement data with test data\n",
    "rows_train = df_downsampled.shape[0]\n",
    "merge_df = pd.concat([df_downsampled, test_sup_df])\n",
    "merge_df.head()"
   ]
  },
  {
   "cell_type": "code",
   "execution_count": 21,
   "metadata": {},
   "outputs": [
    {
     "name": "stdout",
     "output_type": "stream",
     "text": [
      "Length of combine dataset:  67687638\n"
     ]
    }
   ],
   "source": [
    "print('Length of combine dataset: ', len(merge_df))"
   ]
  },
  {
   "cell_type": "code",
   "execution_count": 22,
   "metadata": {},
   "outputs": [
    {
     "data": {
      "text/plain": [
       "19"
      ]
     },
     "execution_count": 22,
     "metadata": {},
     "output_type": "execute_result"
    }
   ],
   "source": [
    "del df_downsampled, test_sup_df\n",
    "gc.collect()"
   ]
  },
  {
   "cell_type": "code",
   "execution_count": 23,
   "metadata": {},
   "outputs": [
    {
     "name": "stdout",
     "output_type": "stream",
     "text": [
      "            ip  clicks_by_ip\n",
      "0            0             2\n",
      "1            1            62\n",
      "2            2             6\n",
      "3            3           291\n",
      "4            4            39\n",
      "5            5            99\n",
      "6            6           902\n",
      "7            7             1\n",
      "8            8             2\n",
      "9            9          1605\n",
      "10          10           598\n",
      "11          11             9\n",
      "12          12            30\n",
      "13          13            27\n",
      "14          14             4\n",
      "15          15             1\n",
      "16          16            13\n",
      "17          17             1\n",
      "18          18            18\n",
      "19          19           415\n",
      "20          20          2330\n",
      "21          21            38\n",
      "22          22            15\n",
      "23          23             4\n",
      "24          24             4\n",
      "25          25           608\n",
      "26          26            21\n",
      "27          27          1153\n",
      "28          28             3\n",
      "29          29            93\n",
      "...        ...           ...\n",
      "213604  364749             1\n",
      "213605  364750             1\n",
      "213606  364751             2\n",
      "213607  364752             6\n",
      "213608  364753             1\n",
      "213609  364754             1\n",
      "213610  364755            10\n",
      "213611  364756             1\n",
      "213612  364757            74\n",
      "213613  364758            46\n",
      "213614  364759            62\n",
      "213615  364760             1\n",
      "213616  364761            34\n",
      "213617  364762             1\n",
      "213618  364763             1\n",
      "213619  364764            25\n",
      "213620  364765             3\n",
      "213621  364766             1\n",
      "213622  364767             1\n",
      "213623  364768             1\n",
      "213624  364769             1\n",
      "213625  364770             1\n",
      "213626  364771             2\n",
      "213627  364772             1\n",
      "213628  364773             2\n",
      "213629  364774             2\n",
      "213630  364775             3\n",
      "213631  364776            39\n",
      "213632  364777             4\n",
      "213633  364778             5\n",
      "\n",
      "[213634 rows x 2 columns]\n"
     ]
    }
   ],
   "source": [
    "# Group by ip to count the number of clicks\n",
    "ip_groups = merge_df.groupby(['ip'])['channel'].count().reset_index(name = 'clicks_by_ip')\n",
    "print(ip_groups)"
   ]
  },
  {
   "cell_type": "code",
   "execution_count": 24,
   "metadata": {},
   "outputs": [
    {
     "name": "stdout",
     "output_type": "stream",
     "text": [
      "       ip  app  device     ...       channel           click_time clicks_by_ip\n",
      "0   30225    9       1     ...           442  2017-11-09 10:41:44         1232\n",
      "1  102840    2       1     ...           236  2017-11-09 10:55:02         1106\n",
      "2   53469    3       1     ...           280  2017-11-09 03:20:40         4071\n",
      "3    4019    2       1     ...           236  2017-11-09 02:44:21        44510\n",
      "4   69037    9       1     ...           466  2017-11-08 18:45:03         1175\n",
      "\n",
      "[5 rows x 7 columns]\n"
     ]
    }
   ],
   "source": [
    "merge_df = pd.merge(merge_df, ip_groups, on='ip', how='left', sort=False)\n",
    "print(merge_df.head())"
   ]
  },
  {
   "cell_type": "code",
   "execution_count": 25,
   "metadata": {},
   "outputs": [],
   "source": [
    "merge_df['clicks_by_ip'] = merge_df['clicks_by_ip'].astype('uint16')\n",
    "merge_df.drop('ip', axis=1, inplace=True)"
   ]
  },
  {
   "cell_type": "code",
   "execution_count": 26,
   "metadata": {},
   "outputs": [],
   "source": [
    "train_df = merge_df[:rows_train]\n",
    "test_df = merge_df[rows_train:]"
   ]
  },
  {
   "cell_type": "code",
   "execution_count": 27,
   "metadata": {},
   "outputs": [
    {
     "data": {
      "text/plain": [
       "65"
      ]
     },
     "execution_count": 27,
     "metadata": {},
     "output_type": "execute_result"
    }
   ],
   "source": [
    "del test_df,merge_df\n",
    "gc.collect()"
   ]
  },
  {
   "cell_type": "code",
   "execution_count": 28,
   "metadata": {},
   "outputs": [
    {
     "data": {
      "text/plain": [
       "98"
      ]
     },
     "execution_count": 28,
     "metadata": {},
     "output_type": "execute_result"
    }
   ],
   "source": [
    "train_df = feature_extraction(train_df)\n",
    "gc.collect()"
   ]
  },
  {
   "cell_type": "code",
   "execution_count": 29,
   "metadata": {},
   "outputs": [
    {
     "data": {
      "text/html": [
       "<div>\n",
       "<style scoped>\n",
       "    .dataframe tbody tr th:only-of-type {\n",
       "        vertical-align: middle;\n",
       "    }\n",
       "\n",
       "    .dataframe tbody tr th {\n",
       "        vertical-align: top;\n",
       "    }\n",
       "\n",
       "    .dataframe thead th {\n",
       "        text-align: right;\n",
       "    }\n",
       "</style>\n",
       "<table border=\"1\" class=\"dataframe\">\n",
       "  <thead>\n",
       "    <tr style=\"text-align: right;\">\n",
       "      <th></th>\n",
       "      <th>app</th>\n",
       "      <th>device</th>\n",
       "      <th>os</th>\n",
       "      <th>channel</th>\n",
       "      <th>clicks_by_ip</th>\n",
       "      <th>dayOfWeek</th>\n",
       "      <th>dayOfYear</th>\n",
       "      <th>hour</th>\n",
       "      <th>min</th>\n",
       "      <th>sec</th>\n",
       "    </tr>\n",
       "  </thead>\n",
       "  <tbody>\n",
       "    <tr>\n",
       "      <th>0</th>\n",
       "      <td>9</td>\n",
       "      <td>1</td>\n",
       "      <td>15</td>\n",
       "      <td>442</td>\n",
       "      <td>1232</td>\n",
       "      <td>3</td>\n",
       "      <td>313</td>\n",
       "      <td>10</td>\n",
       "      <td>41</td>\n",
       "      <td>44</td>\n",
       "    </tr>\n",
       "    <tr>\n",
       "      <th>1</th>\n",
       "      <td>2</td>\n",
       "      <td>1</td>\n",
       "      <td>3</td>\n",
       "      <td>236</td>\n",
       "      <td>1106</td>\n",
       "      <td>3</td>\n",
       "      <td>313</td>\n",
       "      <td>10</td>\n",
       "      <td>55</td>\n",
       "      <td>2</td>\n",
       "    </tr>\n",
       "    <tr>\n",
       "      <th>2</th>\n",
       "      <td>3</td>\n",
       "      <td>1</td>\n",
       "      <td>9</td>\n",
       "      <td>280</td>\n",
       "      <td>4071</td>\n",
       "      <td>3</td>\n",
       "      <td>313</td>\n",
       "      <td>3</td>\n",
       "      <td>20</td>\n",
       "      <td>40</td>\n",
       "    </tr>\n",
       "    <tr>\n",
       "      <th>3</th>\n",
       "      <td>2</td>\n",
       "      <td>1</td>\n",
       "      <td>41</td>\n",
       "      <td>236</td>\n",
       "      <td>44510</td>\n",
       "      <td>3</td>\n",
       "      <td>313</td>\n",
       "      <td>2</td>\n",
       "      <td>44</td>\n",
       "      <td>21</td>\n",
       "    </tr>\n",
       "    <tr>\n",
       "      <th>4</th>\n",
       "      <td>9</td>\n",
       "      <td>1</td>\n",
       "      <td>17</td>\n",
       "      <td>466</td>\n",
       "      <td>1175</td>\n",
       "      <td>2</td>\n",
       "      <td>312</td>\n",
       "      <td>18</td>\n",
       "      <td>45</td>\n",
       "      <td>3</td>\n",
       "    </tr>\n",
       "  </tbody>\n",
       "</table>\n",
       "</div>"
      ],
      "text/plain": [
       "   app  device  os  channel ...   dayOfYear  hour  min  sec\n",
       "0    9       1  15      442 ...         313    10   41   44\n",
       "1    2       1   3      236 ...         313    10   55    2\n",
       "2    3       1   9      280 ...         313     3   20   40\n",
       "3    2       1  41      236 ...         313     2   44   21\n",
       "4    9       1  17      466 ...         312    18   45    3\n",
       "\n",
       "[5 rows x 10 columns]"
      ]
     },
     "execution_count": 29,
     "metadata": {},
     "output_type": "execute_result"
    }
   ],
   "source": [
    "train_df.head()"
   ]
  },
  {
   "cell_type": "code",
   "execution_count": 30,
   "metadata": {},
   "outputs": [],
   "source": [
    "# Set the params for xgboost model\n",
    "params = {'eta': 0.3,\n",
    "          'tree_method': \"hist\",\n",
    "          'grow_policy': \"lossguide\",\n",
    "          'max_leaves': 1400,  \n",
    "          'max_depth': 0, \n",
    "          'subsample': 0.9, \n",
    "          'colsample_bytree': 0.7, \n",
    "          'colsample_bylevel':0.7,\n",
    "          'min_child_weight':0,\n",
    "          'alpha':4,\n",
    "          'objective': 'binary:logistic', \n",
    "          'scale_pos_weight':9,\n",
    "          'eval_metric': 'auc', \n",
    "          'nthread':8,\n",
    "          'random_state': 99, \n",
    "          'silent': True}"
   ]
  },
  {
   "cell_type": "code",
   "execution_count": 31,
   "metadata": {},
   "outputs": [],
   "source": [
    "# Change this for validation with 10% from train dataset\n",
    "is_valid = False"
   ]
  },
  {
   "cell_type": "code",
   "execution_count": 32,
   "metadata": {},
   "outputs": [
    {
     "name": "stderr",
     "output_type": "stream",
     "text": [
      "/opt/conda/lib/python3.6/site-packages/xgboost/core.py:587: FutureWarning: Series.base is deprecated and will be removed in a future version\n",
      "  if getattr(data, 'base', None) is not None and \\\n",
      "/opt/conda/lib/python3.6/site-packages/xgboost/core.py:588: FutureWarning: Series.base is deprecated and will be removed in a future version\n",
      "  data.base is not None and isinstance(data, np.ndarray) \\\n"
     ]
    },
    {
     "name": "stdout",
     "output_type": "stream",
     "text": [
      "[0]\ttrain-auc:0.947969\n",
      "[1]\ttrain-auc:0.965531\n",
      "[2]\ttrain-auc:0.967453\n",
      "[3]\ttrain-auc:0.968336\n",
      "[4]\ttrain-auc:0.968627\n",
      "[5]\ttrain-auc:0.969879\n",
      "[6]\ttrain-auc:0.96988\n",
      "[7]\ttrain-auc:0.970962\n",
      "[8]\ttrain-auc:0.971825\n",
      "[9]\ttrain-auc:0.973328\n",
      "[10]\ttrain-auc:0.973945\n",
      "[11]\ttrain-auc:0.974643\n",
      "[12]\ttrain-auc:0.976179\n",
      "[13]\ttrain-auc:0.977288\n",
      "[14]\ttrain-auc:0.978011\n",
      "[15]\ttrain-auc:0.978824\n",
      "[16]\ttrain-auc:0.979868\n",
      "[17]\ttrain-auc:0.980946\n",
      "[18]\ttrain-auc:0.981926\n",
      "[19]\ttrain-auc:0.982566\n",
      "[20]\ttrain-auc:0.983156\n",
      "[21]\ttrain-auc:0.98401\n",
      "[22]\ttrain-auc:0.984733\n",
      "[23]\ttrain-auc:0.985376\n",
      "[24]\ttrain-auc:0.98603\n",
      "[25]\ttrain-auc:0.986692\n",
      "[26]\ttrain-auc:0.987369\n",
      "[27]\ttrain-auc:0.987681\n",
      "[28]\ttrain-auc:0.988089\n",
      "[29]\ttrain-auc:0.988602\n"
     ]
    },
    {
     "data": {
      "text/plain": [
       "21"
      ]
     },
     "execution_count": 32,
     "metadata": {},
     "output_type": "execute_result"
    }
   ],
   "source": [
    "# Used XGBoost algorithm for model preparation for the following reasons:\n",
    "# XGBoost has high predictive power and is almost 10 times faster than the other gradient boosting techniques.\n",
    "# It also includes a variety of regularization which reduces overfitting and improves overall performance.\n",
    "# Found the above parameters giving the best results\n",
    "\n",
    "if (is_valid == True):\n",
    "    # Get 10% of train dataset to use as validation\n",
    "    X_train, X_test, y_train, y_test = train_test_split(train, y, test_size=0.1, stratify=y, random_state=99)\n",
    "    dtrain = xgb.DMatrix(X_train, y_train)\n",
    "    dvalid = xgb.DMatrix(X_test, y_test)\n",
    "    del X_train, X_test, y_train, y_test \n",
    "    gc.collect()\n",
    "    watchlist = [(dtrain, 'train'), (dvalid, 'valid')]\n",
    "    model = xgb.train(params, dtrain, 200, watchlist, maximize=True, early_stopping_rounds = 25, verbose_eval=5)\n",
    "    del dvalid\n",
    "else:\n",
    "    dtrain = xgb.DMatrix(train_df, y)\n",
    "    del train_df, y\n",
    "    gc.collect()\n",
    "    watchlist = [(dtrain, 'train')]\n",
    "    model = xgb.train(params, dtrain, 30, watchlist, maximize=True, verbose_eval=1)\n",
    "\n",
    "del dtrain\n",
    "gc.collect()"
   ]
  },
  {
   "cell_type": "code",
   "execution_count": 33,
   "metadata": {},
   "outputs": [
    {
     "data": {
      "image/png": "[encoded data removed]",
      "text/plain": [
       "<Figure size 432x288 with 1 Axes>"
      ]
     },
     "metadata": {
      "image/png": {
       "height": 277,
       "width": 430
      }
     },
     "output_type": "display_data"
    }
   ],
   "source": [
    "# Plot the feature importances from xgboost\n",
    "plot_importance(model)\n",
    "plt.gcf().savefig('xgb_feature_importance_v2_downsample.png')"
   ]
  },
  {
   "cell_type": "code",
   "execution_count": 34,
   "metadata": {},
   "outputs": [
    {
     "data": {
      "text/plain": [
       "3398"
      ]
     },
     "execution_count": 34,
     "metadata": {},
     "output_type": "execute_result"
    }
   ],
   "source": [
    "# Load the test dataset for prediction\n",
    "test_cols  = ['ip', 'app', 'device', 'os', 'channel', 'click_time', 'click_id']\n",
    "test_df = pd.read_csv('../input/' +\"test.csv\", usecols=test_cols, dtype=dtypes)\n",
    "test_df = pd.merge(test_df, ip_groups, on='ip', how='left', sort=False)\n",
    "del ip_groups\n",
    "gc.collect()"
   ]
  },
  {
   "cell_type": "code",
   "execution_count": 35,
   "metadata": {},
   "outputs": [
    {
     "data": {
      "text/html": [
       "<div>\n",
       "<style scoped>\n",
       "    .dataframe tbody tr th:only-of-type {\n",
       "        vertical-align: middle;\n",
       "    }\n",
       "\n",
       "    .dataframe tbody tr th {\n",
       "        vertical-align: top;\n",
       "    }\n",
       "\n",
       "    .dataframe thead th {\n",
       "        text-align: right;\n",
       "    }\n",
       "</style>\n",
       "<table border=\"1\" class=\"dataframe\">\n",
       "  <thead>\n",
       "    <tr style=\"text-align: right;\">\n",
       "      <th></th>\n",
       "      <th>click_id</th>\n",
       "      <th>ip</th>\n",
       "      <th>app</th>\n",
       "      <th>device</th>\n",
       "      <th>os</th>\n",
       "      <th>channel</th>\n",
       "      <th>click_time</th>\n",
       "      <th>clicks_by_ip</th>\n",
       "    </tr>\n",
       "  </thead>\n",
       "  <tbody>\n",
       "    <tr>\n",
       "      <th>0</th>\n",
       "      <td>0</td>\n",
       "      <td>5744</td>\n",
       "      <td>9</td>\n",
       "      <td>1</td>\n",
       "      <td>3</td>\n",
       "      <td>107</td>\n",
       "      <td>2017-11-10 04:00:00</td>\n",
       "      <td>459</td>\n",
       "    </tr>\n",
       "    <tr>\n",
       "      <th>1</th>\n",
       "      <td>1</td>\n",
       "      <td>119901</td>\n",
       "      <td>9</td>\n",
       "      <td>1</td>\n",
       "      <td>3</td>\n",
       "      <td>466</td>\n",
       "      <td>2017-11-10 04:00:00</td>\n",
       "      <td>6981</td>\n",
       "    </tr>\n",
       "    <tr>\n",
       "      <th>2</th>\n",
       "      <td>2</td>\n",
       "      <td>72287</td>\n",
       "      <td>21</td>\n",
       "      <td>1</td>\n",
       "      <td>19</td>\n",
       "      <td>128</td>\n",
       "      <td>2017-11-10 04:00:00</td>\n",
       "      <td>6018</td>\n",
       "    </tr>\n",
       "    <tr>\n",
       "      <th>3</th>\n",
       "      <td>3</td>\n",
       "      <td>78477</td>\n",
       "      <td>15</td>\n",
       "      <td>1</td>\n",
       "      <td>13</td>\n",
       "      <td>111</td>\n",
       "      <td>2017-11-10 04:00:00</td>\n",
       "      <td>3986</td>\n",
       "    </tr>\n",
       "    <tr>\n",
       "      <th>4</th>\n",
       "      <td>4</td>\n",
       "      <td>123080</td>\n",
       "      <td>12</td>\n",
       "      <td>1</td>\n",
       "      <td>13</td>\n",
       "      <td>328</td>\n",
       "      <td>2017-11-10 04:00:00</td>\n",
       "      <td>676</td>\n",
       "    </tr>\n",
       "  </tbody>\n",
       "</table>\n",
       "</div>"
      ],
      "text/plain": [
       "   click_id      ip      ...                click_time  clicks_by_ip\n",
       "0         0    5744      ...       2017-11-10 04:00:00           459\n",
       "1         1  119901      ...       2017-11-10 04:00:00          6981\n",
       "2         2   72287      ...       2017-11-10 04:00:00          6018\n",
       "3         3   78477      ...       2017-11-10 04:00:00          3986\n",
       "4         4  123080      ...       2017-11-10 04:00:00           676\n",
       "\n",
       "[5 rows x 8 columns]"
      ]
     },
     "execution_count": 35,
     "metadata": {},
     "output_type": "execute_result"
    }
   ],
   "source": [
    "test_df.head()"
   ]
  },
  {
   "cell_type": "code",
   "execution_count": 36,
   "metadata": {},
   "outputs": [
    {
     "data": {
      "text/plain": [
       "166"
      ]
     },
     "execution_count": 36,
     "metadata": {},
     "output_type": "execute_result"
    }
   ],
   "source": [
    "# Creating a dataframe for submission\n",
    "submission_df = pd.DataFrame()\n",
    "submission_df['click_id'] = test_df['click_id'].astype('int')\n",
    "\n",
    "test_df['clicks_by_ip'] = test_df['clicks_by_ip'].astype('uint16')\n",
    "test_df = feature_extraction(test_df)\n",
    "test_df.drop(['click_id', 'ip'], axis=1, inplace=True)\n",
    "dtest = xgb.DMatrix(test_df)\n",
    "del test_df\n",
    "gc.collect()"
   ]
  },
  {
   "cell_type": "code",
   "execution_count": 37,
   "metadata": {},
   "outputs": [
    {
     "data": {
      "text/html": [
       "<div>\n",
       "<style scoped>\n",
       "    .dataframe tbody tr th:only-of-type {\n",
       "        vertical-align: middle;\n",
       "    }\n",
       "\n",
       "    .dataframe tbody tr th {\n",
       "        vertical-align: top;\n",
       "    }\n",
       "\n",
       "    .dataframe thead th {\n",
       "        text-align: right;\n",
       "    }\n",
       "</style>\n",
       "<table border=\"1\" class=\"dataframe\">\n",
       "  <thead>\n",
       "    <tr style=\"text-align: right;\">\n",
       "      <th></th>\n",
       "      <th>click_id</th>\n",
       "    </tr>\n",
       "  </thead>\n",
       "  <tbody>\n",
       "    <tr>\n",
       "      <th>0</th>\n",
       "      <td>0</td>\n",
       "    </tr>\n",
       "    <tr>\n",
       "      <th>1</th>\n",
       "      <td>1</td>\n",
       "    </tr>\n",
       "    <tr>\n",
       "      <th>2</th>\n",
       "      <td>2</td>\n",
       "    </tr>\n",
       "    <tr>\n",
       "      <th>3</th>\n",
       "      <td>3</td>\n",
       "    </tr>\n",
       "    <tr>\n",
       "      <th>4</th>\n",
       "      <td>4</td>\n",
       "    </tr>\n",
       "  </tbody>\n",
       "</table>\n",
       "</div>"
      ],
      "text/plain": [
       "   click_id\n",
       "0         0\n",
       "1         1\n",
       "2         2\n",
       "3         3\n",
       "4         4"
      ]
     },
     "execution_count": 37,
     "metadata": {},
     "output_type": "execute_result"
    }
   ],
   "source": [
    "submission_df.head()"
   ]
  },
  {
   "cell_type": "code",
   "execution_count": 38,
   "metadata": {},
   "outputs": [
    {
     "data": {
      "text/plain": [
       "11"
      ]
     },
     "execution_count": 38,
     "metadata": {},
     "output_type": "execute_result"
    }
   ],
   "source": [
    "gc.collect()"
   ]
  },
  {
   "cell_type": "code",
   "execution_count": 39,
   "metadata": {},
   "outputs": [],
   "source": [
    "# Get predictions from the best iteration with model.best_ntree_limit.\n",
    "submission_df['is_attributed'] = model.predict(dtest, ntree_limit=model.best_ntree_limit)\n",
    "submission_df.to_csv('xgb_submission.csv', float_format='%.8f', index=False)"
   ]
  },
  {
   "cell_type": "code",
   "execution_count": 40,
   "metadata": {},
   "outputs": [],
   "source": []
  }
 ],
 "metadata": {
  "kernelspec": {
   "display_name": "Python 3",
   "language": "python",
   "name": "python3"
  },
  "language_info": {
   "codemirror_mode": {
    "name": "ipython",
    "version": 3
   },
   "file_extension": ".py",
   "mimetype": "text/x-python",
   "name": "python",
   "nbconvert_exporter": "python",
   "pygments_lexer": "ipython3",
   "version": "3.6.8"
  }
 },
 "nbformat": 4,
 "nbformat_minor": 1
}
